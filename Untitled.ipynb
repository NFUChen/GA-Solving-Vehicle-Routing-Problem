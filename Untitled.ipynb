{
 "cells": [
  {
   "cell_type": "code",
   "execution_count": 1,
   "id": "22414515",
   "metadata": {},
   "outputs": [],
   "source": [
    "from utilities import BuilderFactory, SolutionGenerator, RouteResourceCalculator"
   ]
  },
  {
   "cell_type": "code",
   "execution_count": 2,
   "id": "fb145a32",
   "metadata": {},
   "outputs": [
    {
     "name": "stdout",
     "output_type": "stream",
     "text": [
      "Available Vehicle Names: [0, 1, 2]\n",
      "Available Depot Names: [0, 1, 2, 3, 4, 5, 6, 7, 8]\n",
      "All Depots With Time Window Constraints: [0, 1, 3, 4, 7]\n"
     ]
    }
   ],
   "source": [
    "factory = BuilderFactory()\n",
    "solution_gen = SolutionGenerator()\n",
    "resource_calc = RouteResourceCalculator()"
   ]
  },
  {
   "cell_type": "code",
   "execution_count": 3,
   "id": "9cf7ea1c",
   "metadata": {},
   "outputs": [
    {
     "data": {
      "text/plain": [
       "[0, 1, 3, 4, 7]"
      ]
     },
     "execution_count": 3,
     "metadata": {},
     "output_type": "execute_result"
    }
   ],
   "source": [
    "factory.depot_builder.all_depot_names_with_time_window_constraint"
   ]
  },
  {
   "cell_type": "code",
   "execution_count": 4,
   "id": "5fa8c5ef",
   "metadata": {},
   "outputs": [
    {
     "data": {
      "text/plain": [
       "[4, 7]"
      ]
     },
     "execution_count": 4,
     "metadata": {},
     "output_type": "execute_result"
    }
   ],
   "source": [
    "factory.depot_builder.depots_need_to_be_assigned_late"
   ]
  },
  {
   "cell_type": "code",
   "execution_count": 5,
   "id": "ef7d8f94",
   "metadata": {},
   "outputs": [
    {
     "data": {
      "text/plain": [
       "[1, 3]"
      ]
     },
     "execution_count": 5,
     "metadata": {},
     "output_type": "execute_result"
    }
   ],
   "source": [
    "factory.depot_builder.depots_need_to_be_assigned_early"
   ]
  },
  {
   "cell_type": "code",
   "execution_count": 6,
   "id": "9115cc56",
   "metadata": {},
   "outputs": [
    {
     "data": {
      "text/plain": [
       "[2, 5, 6, 8]"
      ]
     },
     "execution_count": 6,
     "metadata": {},
     "output_type": "execute_result"
    }
   ],
   "source": [
    "factory.depot_builder.depots_without_time_window_constraints"
   ]
  },
  {
   "cell_type": "code",
   "execution_count": 10,
   "id": "7efed387",
   "metadata": {},
   "outputs": [
    {
     "name": "stdout",
     "output_type": "stream",
     "text": [
      "Function '_generate_initial_raw_solution' executed in 1.1479s\tNo. 1 Success\n",
      "Function '_generate_initial_raw_solution' executed in 0.8236s\tNo. 2 Success\n",
      "Function '_generate_initial_raw_solution' executed in 1.4028s\tNo. 3 Success\n",
      "Function '_generate_initial_raw_solution' executed in 1.0866s\tNo. 4 Success\n",
      "Function '_generate_initial_raw_solution' executed in 1.4230s\tNo. 5 Success\n",
      "Function '_generate_initial_raw_solution' executed in 1.0707s\t**Same Answer Generated**\n",
      "Function '_generate_initial_raw_solution' executed in 1.1033s\tNo. 6 Success\n",
      "Function '_generate_initial_raw_solution' executed in 1.2426s\t**Same Answer Generated**\n",
      "Function '_generate_initial_raw_solution' executed in 0.9579s\tNo. 7 Success\n",
      "Function '_generate_initial_raw_solution' executed in 1.2570s\t**Same Answer Generated**\n",
      "Function '_generate_initial_raw_solution' executed in 1.2633s\tNo. 8 Success\n",
      "Function '_generate_initial_raw_solution' executed in 1.0937s\t**Same Answer Generated**\n",
      "Function '_generate_initial_raw_solution' executed in 0.9856s\tNo. 9 Success\n",
      "Function '_generate_initial_raw_solution' executed in 0.9283s\tNo. 10 Success\n",
      "Function '_generate_initial_raw_solution' executed in 1.2975s\t**Same Answer Generated**\n",
      "Function '_generate_initial_raw_solution' executed in 0.9976s\tNo. 11 Success\n",
      "Function '_generate_initial_raw_solution' executed in 0.9083s\tNo. 12 Success\n",
      "Function '_generate_initial_raw_solution' executed in 1.3530s\t**Same Answer Generated**\n",
      "Function '_generate_initial_raw_solution' executed in 1.5075s\t**Same Answer Generated**\n",
      "Function '_generate_initial_raw_solution' executed in 1.0955s\t**Same Answer Generated**\n",
      "Function '_generate_initial_raw_solution' executed in 1.5793s\tNo. 13 Success\n",
      "Function '_generate_initial_raw_solution' executed in 1.4995s\t**Same Answer Generated**\n",
      "Function '_generate_initial_raw_solution' executed in 0.7881s\t**Same Answer Generated**\n",
      "Function '_generate_initial_raw_solution' executed in 1.3847s\t**Same Answer Generated**\n",
      "Function '_generate_initial_raw_solution' executed in 1.3865s\t**Same Answer Generated**\n",
      "Function '_generate_initial_raw_solution' executed in 1.1688s\t**Same Answer Generated**\n",
      "Function '_generate_initial_raw_solution' executed in 1.6128s\t**Same Answer Generated**\n",
      "Function '_generate_initial_raw_solution' executed in 0.8083s\tNo. 14 Success\n",
      "Function '_generate_initial_raw_solution' executed in 1.6329s\t**Same Answer Generated**\n",
      "Function '_generate_initial_raw_solution' executed in 1.0210s\t**Same Answer Generated**\n",
      "Function '_generate_initial_raw_solution' executed in 1.0453s\t**Same Answer Generated**\n",
      "Function '_generate_initial_raw_solution' executed in 1.1698s\t**Same Answer Generated**\n",
      "Function '_generate_initial_raw_solution' executed in 1.2409s\t**Same Answer Generated**\n",
      "Function '_generate_initial_raw_solution' executed in 1.2737s\t**Same Answer Generated**\n",
      "Function '_generate_initial_raw_solution' executed in 1.1274s\tNo. 15 Success\n",
      "Function '_generate_initial_raw_solution' executed in 1.2765s\t**Same Answer Generated**\n",
      "Function '_generate_initial_raw_solution' executed in 1.3265s\tNo. 16 Success\n",
      "Function '_generate_initial_raw_solution' executed in 1.1901s\t**Same Answer Generated**\n",
      "Function '_generate_initial_raw_solution' executed in 1.2457s\t**Same Answer Generated**\n",
      "Function '_generate_initial_raw_solution' executed in 0.7929s\t**Same Answer Generated**\n",
      "Function '_generate_initial_raw_solution' executed in 1.1605s\t**Same Answer Generated**\n",
      "Function '_generate_initial_raw_solution' executed in 1.1128s\t**Same Answer Generated**\n",
      "Function '_generate_initial_raw_solution' executed in 2.4641s\t**Same Answer Generated**\n",
      "Function '_generate_initial_raw_solution' executed in 1.0049s\t**Same Answer Generated**\n",
      "Function '_generate_initial_raw_solution' executed in 0.9939s\tNo. 17 Success\n",
      "Function '_generate_initial_raw_solution' executed in 0.9522s\t**Same Answer Generated**\n",
      "Function '_generate_initial_raw_solution' executed in 1.7318s\t**Same Answer Generated**\n",
      "Function '_generate_initial_raw_solution' executed in 1.0781s\tNo. 18 Success\n",
      "Function '_generate_initial_raw_solution' executed in 1.3893s\t**Same Answer Generated**\n",
      "Function '_generate_initial_raw_solution' executed in 1.1099s\t**Same Answer Generated**\n",
      "Function '_generate_initial_raw_solution' executed in 0.9539s\tNo. 19 Success\n",
      "Function '_generate_initial_raw_solution' executed in 0.8767s\t**Same Answer Generated**\n",
      "Function '_generate_initial_raw_solution' executed in 0.9375s\t**Same Answer Generated**\n",
      "Function '_generate_initial_raw_solution' executed in 0.8106s\t**Same Answer Generated**\n",
      "Function '_generate_initial_raw_solution' executed in 1.2832s\t**Same Answer Generated**\n",
      "Function '_generate_initial_raw_solution' executed in 1.2428s\tNo. 20 Success\n",
      "Successful Rate: 35.709999999999994%\n",
      "Processing Solution Chromosomes...\n"
     ]
    },
    {
     "name": "stderr",
     "output_type": "stream",
     "text": [
      "100%|█████████████████████████████████████████████████████████████████████████████████████████████████████████████| 20/20 [00:04<00:00,  4.40it/s]"
     ]
    },
    {
     "name": "stdout",
     "output_type": "stream",
     "text": [
      "Function 'generate_valid_solutions' executed in 71.1764s\t"
     ]
    },
    {
     "name": "stderr",
     "output_type": "stream",
     "text": [
      "\n"
     ]
    }
   ],
   "source": [
    "solutions = solution_gen.generate_valid_solutions(20)"
   ]
  },
  {
   "cell_type": "code",
   "execution_count": 13,
   "id": "c4abe68c",
   "metadata": {},
   "outputs": [
    {
     "data": {
      "text/plain": [
       "{'fuel_fee': 633.6818000000001,\n",
       " 'distance': 186.377,\n",
       " 'delivery_time': 153.98,\n",
       " 'service_time': 200,\n",
       " 'total_time': 353.98,\n",
       " 'vehicle_total_fixed_cost': 1000,\n",
       " 'driver_cost': 991.144,\n",
       " 'number_of_replenishment': 1,\n",
       " 'number_of_vehicles_assigned': 1}"
      ]
     },
     "execution_count": 13,
     "metadata": {},
     "output_type": "execute_result"
    }
   ],
   "source": [
    "resource_calc.calculate_solution_resources( {0: [0, 1, 2, 6, 3, 0, 8, 5, 4, 7, 0]})"
   ]
  },
  {
   "cell_type": "code",
   "execution_count": 12,
   "id": "1ebec594",
   "metadata": {},
   "outputs": [
    {
     "data": {
      "text/plain": [
       "[Chromosome: {0: [0, 6, 0], 1: [0, 1, 2, 0], 2: [0, 3, 5, 8, 4, 7, 0]}\n",
       " Total Cost: $6288\n",
       " Fuel Fee: $1484\n",
       " Vehicle Fixed Cost: $3700\n",
       " Driver Cost: $1104\n",
       " Distance: 218 km\n",
       " Total Delivery Time: 394.33 Mins\n",
       " Number of Vehicles Assigned: 3\n",
       " Number of Replenishsments: 0\n",
       " Generation: 0\n",
       " Fitness: 159.0257\n",
       " ------------------------------------------------------------,\n",
       " Chromosome: {0: [0, 1, 2, 0], 1: [0, 6, 0], 2: [0, 3, 5, 8, 4, 7, 0]}\n",
       " Total Cost: $6288\n",
       " Fuel Fee: $1484\n",
       " Vehicle Fixed Cost: $3700\n",
       " Driver Cost: $1104\n",
       " Distance: 218 km\n",
       " Total Delivery Time: 394.33 Mins\n",
       " Number of Vehicles Assigned: 3\n",
       " Number of Replenishsments: 0\n",
       " Generation: 0\n",
       " Fitness: 159.0257\n",
       " ------------------------------------------------------------,\n",
       " Chromosome: {0: [0, 1, 2, 6, 4, 0, 7, 0], 1: [0, 8, 0], 2: [0, 3, 5, 0]}\n",
       " Total Cost: $6079\n",
       " Fuel Fee: $1242\n",
       " Vehicle Fixed Cost: $3700\n",
       " Driver Cost: $1137\n",
       " Distance: 182 km\n",
       " Total Delivery Time: 406.42 Mins\n",
       " Number of Vehicles Assigned: 3\n",
       " Number of Replenishsments: 1\n",
       " Generation: 0\n",
       " Fitness: 164.4615\n",
       " ------------------------------------------------------------,\n",
       " Chromosome: {0: [0, 3, 5, 0], 1: [0, 1, 2, 6, 4, 7, 0], 2: [0, 8, 0]}\n",
       " Total Cost: $6026\n",
       " Fuel Fee: $1262\n",
       " Vehicle Fixed Cost: $3700\n",
       " Driver Cost: $1064\n",
       " Distance: 185 km\n",
       " Total Delivery Time: 380.17 Mins\n",
       " Number of Vehicles Assigned: 3\n",
       " Number of Replenishsments: 0\n",
       " Generation: 0\n",
       " Fitness: 165.9242\n",
       " ------------------------------------------------------------,\n",
       " Chromosome: {0: [0, 8, 0], 1: [0, 1, 2, 6, 4, 7, 0], 2: [0, 3, 5, 0]}\n",
       " Total Cost: $6026\n",
       " Fuel Fee: $1262\n",
       " Vehicle Fixed Cost: $3700\n",
       " Driver Cost: $1064\n",
       " Distance: 185 km\n",
       " Total Delivery Time: 380.17 Mins\n",
       " Number of Vehicles Assigned: 3\n",
       " Number of Replenishsments: 0\n",
       " Generation: 0\n",
       " Fitness: 165.9242\n",
       " ------------------------------------------------------------,\n",
       " Chromosome: {0: [], 1: [0, 1, 2, 6, 8, 0, 4, 7, 0], 2: [0, 3, 5, 0]}\n",
       " Total Cost: $5219\n",
       " Fuel Fee: $1428\n",
       " Vehicle Fixed Cost: $2700\n",
       " Driver Cost: $1091\n",
       " Distance: 210 km\n",
       " Total Delivery Time: 389.69 Mins\n",
       " Number of Vehicles Assigned: 2\n",
       " Number of Replenishsments: 1\n",
       " Generation: 0\n",
       " Fitness: 191.5915\n",
       " ------------------------------------------------------------,\n",
       " Chromosome: {0: [], 1: [0, 1, 2, 0], 2: [0, 3, 5, 8, 6, 4, 7, 0]}\n",
       " Total Cost: $5106\n",
       " Fuel Fee: $1396\n",
       " Vehicle Fixed Cost: $2700\n",
       " Driver Cost: $1010\n",
       " Distance: 205 km\n",
       " Total Delivery Time: 361.07 Mins\n",
       " Number of Vehicles Assigned: 2\n",
       " Number of Replenishsments: 0\n",
       " Generation: 0\n",
       " Fitness: 195.8031\n",
       " ------------------------------------------------------------,\n",
       " Chromosome: {0: [], 1: [0, 1, 2, 6, 3, 5, 0, 4, 7, 0], 2: [0, 8, 0]}\n",
       " Total Cost: $4978\n",
       " Fuel Fee: $1219\n",
       " Vehicle Fixed Cost: $2700\n",
       " Driver Cost: $1059\n",
       " Distance: 179 km\n",
       " Total Delivery Time: 378.34 Mins\n",
       " Number of Vehicles Assigned: 2\n",
       " Number of Replenishsments: 1\n",
       " Generation: 0\n",
       " Fitness: 200.8669\n",
       " ------------------------------------------------------------,\n",
       " Chromosome: {0: [0, 1, 2, 6, 0, 8, 4, 7, 0], 1: [], 2: [0, 3, 5, 0]}\n",
       " Total Cost: $4946\n",
       " Fuel Fee: $1357\n",
       " Vehicle Fixed Cost: $2500\n",
       " Driver Cost: $1089\n",
       " Distance: 199 km\n",
       " Total Delivery Time: 389.1 Mins\n",
       " Number of Vehicles Assigned: 2\n",
       " Number of Replenishsments: 1\n",
       " Generation: 0\n",
       " Fitness: 202.1467\n",
       " ------------------------------------------------------------,\n",
       " Chromosome: {0: [0, 1, 2, 0], 1: [], 2: [0, 3, 5, 8, 6, 4, 7, 0]}\n",
       " Total Cost: $4906\n",
       " Fuel Fee: $1396\n",
       " Vehicle Fixed Cost: $2500\n",
       " Driver Cost: $1010\n",
       " Distance: 205 km\n",
       " Total Delivery Time: 361.07 Mins\n",
       " Number of Vehicles Assigned: 2\n",
       " Number of Replenishsments: 0\n",
       " Generation: 0\n",
       " Fitness: 203.7834\n",
       " ------------------------------------------------------------,\n",
       " Chromosome: {0: [], 1: [0, 1, 2, 6, 4, 7, 0], 2: [0, 3, 5, 8, 0]}\n",
       " Total Cost: $4874\n",
       " Fuel Fee: $1193\n",
       " Vehicle Fixed Cost: $2700\n",
       " Driver Cost: $981\n",
       " Distance: 175 km\n",
       " Total Delivery Time: 350.44 Mins\n",
       " Number of Vehicles Assigned: 2\n",
       " Number of Replenishsments: 0\n",
       " Generation: 0\n",
       " Fitness: 205.1305\n",
       " ------------------------------------------------------------,\n",
       " Chromosome: {0: [0, 1, 2, 6, 4, 0, 7, 0], 1: [], 2: [0, 3, 5, 8, 0]}\n",
       " Total Cost: $4727\n",
       " Fuel Fee: $1173\n",
       " Vehicle Fixed Cost: $2500\n",
       " Driver Cost: $1054\n",
       " Distance: 172 km\n",
       " Total Delivery Time: 376.69 Mins\n",
       " Number of Vehicles Assigned: 2\n",
       " Number of Replenishsments: 1\n",
       " Generation: 0\n",
       " Fitness: 211.4814\n",
       " ------------------------------------------------------------,\n",
       " Chromosome: {0: [0, 3, 5, 0], 1: [0, 1, 2, 6, 8, 0, 4, 7, 0], 2: []}\n",
       " Total Cost: $4362\n",
       " Fuel Fee: $1071\n",
       " Vehicle Fixed Cost: $2200\n",
       " Driver Cost: $1091\n",
       " Distance: 210 km\n",
       " Total Delivery Time: 389.69 Mins\n",
       " Number of Vehicles Assigned: 2\n",
       " Number of Replenishsments: 1\n",
       " Generation: 0\n",
       " Fitness: 229.2336\n",
       " ------------------------------------------------------------,\n",
       " Chromosome: {0: [0, 1, 2, 6, 0, 8, 4, 7, 0], 1: [0, 3, 5, 0], 2: []}\n",
       " Total Cost: $4307\n",
       " Fuel Fee: $1018\n",
       " Vehicle Fixed Cost: $2200\n",
       " Driver Cost: $1089\n",
       " Distance: 199 km\n",
       " Total Delivery Time: 389.1 Mins\n",
       " Number of Vehicles Assigned: 2\n",
       " Number of Replenishsments: 1\n",
       " Generation: 0\n",
       " Fitness: 232.1507\n",
       " ------------------------------------------------------------,\n",
       " Chromosome: {0: [0, 3, 5, 8, 0, 4, 7, 0], 1: [0, 1, 2, 6, 0], 2: []}\n",
       " Total Cost: $4283\n",
       " Fuel Fee: $1009\n",
       " Vehicle Fixed Cost: $2200\n",
       " Driver Cost: $1074\n",
       " Distance: 197 km\n",
       " Total Delivery Time: 383.58 Mins\n",
       " Number of Vehicles Assigned: 2\n",
       " Number of Replenishsments: 1\n",
       " Generation: 0\n",
       " Fitness: 233.4733\n",
       " ------------------------------------------------------------,\n",
       " Chromosome: {0: [0, 1, 2, 6, 3, 0, 5, 4, 7, 0], 1: [0, 8, 0], 2: []}\n",
       " Total Cost: $4258\n",
       " Fuel Fee: $984\n",
       " Vehicle Fixed Cost: $2200\n",
       " Driver Cost: $1074\n",
       " Distance: 193 km\n",
       " Total Delivery Time: 383.79 Mins\n",
       " Number of Vehicles Assigned: 2\n",
       " Number of Replenishsments: 1\n",
       " Generation: 0\n",
       " Fitness: 234.7849\n",
       " ------------------------------------------------------------,\n",
       " Chromosome: {0: [0, 8, 0], 1: [0, 1, 2, 6, 3, 5, 0, 4, 7, 0], 2: []}\n",
       " Total Cost: $4173\n",
       " Fuel Fee: $914\n",
       " Vehicle Fixed Cost: $2200\n",
       " Driver Cost: $1059\n",
       " Distance: 179 km\n",
       " Total Delivery Time: 378.34 Mins\n",
       " Number of Vehicles Assigned: 2\n",
       " Number of Replenishsments: 1\n",
       " Generation: 0\n",
       " Fitness: 239.5982\n",
       " ------------------------------------------------------------,\n",
       " Chromosome: {0: [0, 1, 2, 6, 4, 0, 7, 0], 1: [0, 3, 5, 8, 0], 2: []}\n",
       " Total Cost: $4134\n",
       " Fuel Fee: $880\n",
       " Vehicle Fixed Cost: $2200\n",
       " Driver Cost: $1054\n",
       " Distance: 172 km\n",
       " Total Delivery Time: 376.69 Mins\n",
       " Number of Vehicles Assigned: 2\n",
       " Number of Replenishsments: 1\n",
       " Generation: 0\n",
       " Fitness: 241.8325\n",
       " ------------------------------------------------------------,\n",
       " Chromosome: {0: [], 1: [0, 1, 2, 6, 3, 5, 0, 8, 4, 7, 0], 2: []}\n",
       " Total Cost: $3062\n",
       " Fuel Fee: $871\n",
       " Vehicle Fixed Cost: $1200\n",
       " Driver Cost: $991\n",
       " Distance: 170 km\n",
       " Total Delivery Time: 354.13 Mins\n",
       " Number of Vehicles Assigned: 1\n",
       " Number of Replenishsments: 1\n",
       " Generation: 0\n",
       " Fitness: 326.4435\n",
       " ------------------------------------------------------------,\n",
       " Chromosome: {0: [0, 1, 2, 6, 3, 0, 5, 8, 4, 7, 0], 1: [], 2: []}\n",
       " Total Cost: $2732\n",
       " Fuel Fee: $694\n",
       " Vehicle Fixed Cost: $1000\n",
       " Driver Cost: $1038\n",
       " Distance: 204 km\n",
       " Total Delivery Time: 371.04 Mins\n",
       " Number of Vehicles Assigned: 1\n",
       " Number of Replenishsments: 1\n",
       " Generation: 0\n",
       " Fitness: 365.8475\n",
       " ------------------------------------------------------------]"
      ]
     },
     "execution_count": 12,
     "metadata": {},
     "output_type": "execute_result"
    }
   ],
   "source": [
    "solutions"
   ]
  },
  {
   "cell_type": "code",
   "execution_count": null,
   "id": "1dcc4e69",
   "metadata": {},
   "outputs": [],
   "source": []
  },
  {
   "cell_type": "code",
   "execution_count": null,
   "id": "844c346d",
   "metadata": {},
   "outputs": [],
   "source": []
  }
 ],
 "metadata": {
  "kernelspec": {
   "display_name": "Python 3 (ipykernel)",
   "language": "python",
   "name": "python3"
  },
  "language_info": {
   "codemirror_mode": {
    "name": "ipython",
    "version": 3
   },
   "file_extension": ".py",
   "mimetype": "text/x-python",
   "name": "python",
   "nbconvert_exporter": "python",
   "pygments_lexer": "ipython3",
   "version": "3.9.7"
  }
 },
 "nbformat": 4,
 "nbformat_minor": 5
}
