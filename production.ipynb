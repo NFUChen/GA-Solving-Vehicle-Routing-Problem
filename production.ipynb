{
 "cells": [
  {
   "cell_type": "code",
   "execution_count": 1,
   "id": "f35778d3",
   "metadata": {},
   "outputs": [],
   "source": [
    "from utilities import SolutionGenerator, ConstraintChecker,BuilderFactory,RouteResourceCalculator, SolutionChromosome\n",
    "from typing import List\n",
    "from random import random, choices\n",
    "import math\n",
    "from copy import deepcopy"
   ]
  },
  {
   "cell_type": "code",
   "execution_count": 2,
   "id": "525e972b",
   "metadata": {},
   "outputs": [
    {
     "name": "stdout",
     "output_type": "stream",
     "text": [
      "Available Vehicle Names: [0, 1, 2, 3, 4, 5, 6, 7, 8, 9, 10, 11, 12, 13, 14, 15, 16, 17, 18, 19, 20, 21]\n",
      "Available Depot Names: [0, 1, 2, 3, 4, 5, 6, 7, 8, 9, 10, 11, 12, 13, 14, 15, 16, 17, 18, 19, 20, 21, 22, 23, 24, 25, 26, 27, 28, 29, 30, 31, 32, 33, 34, 35, 36, 37, 38, 39, 40, 41, 42, 43, 44, 45, 46, 47, 48, 49, 50, 51, 52, 53, 54, 55, 56, 57, 58, 59, 60, 61, 62, 63, 64, 65]\n",
      "All Depots With Time Window Constraints: [0, 1, 4, 5, 6, 8, 48, 49, 54]\n"
     ]
    }
   ],
   "source": [
    "generator = SolutionGenerator()\n",
    "checker = ConstraintChecker()\n",
    "factory = BuilderFactory()\n",
    "resource_calc = RouteResourceCalculator()"
   ]
  },
  {
   "cell_type": "code",
   "execution_count": null,
   "id": "44fc0f34",
   "metadata": {
    "scrolled": false
   },
   "outputs": [],
   "source": [
    "solution = generator.generate_valid_solutions()\n",
    "solution"
   ]
  },
  {
   "cell_type": "code",
   "execution_count": null,
   "id": "467bc869",
   "metadata": {},
   "outputs": [],
   "source": [
    "# solution[-1].vehicles_can_be_chosen_for_crossover"
   ]
  },
  {
   "cell_type": "code",
   "execution_count": null,
   "id": "bdd3f985",
   "metadata": {},
   "outputs": [],
   "source": [
    "# solution[-1].vehicles_can_be_chosen_for_mutation"
   ]
  },
  {
   "cell_type": "code",
   "execution_count": null,
   "id": "1f41be88",
   "metadata": {},
   "outputs": [],
   "source": [
    "from utilities import GeneticAlgorithm\n",
    "import numpy as np"
   ]
  },
  {
   "cell_type": "code",
   "execution_count": null,
   "id": "f6a97151",
   "metadata": {},
   "outputs": [],
   "source": [
    "ga = GeneticAlgorithm(6,0.05,0.6, 1000)"
   ]
  },
  {
   "cell_type": "code",
   "execution_count": null,
   "id": "e9572ca3",
   "metadata": {},
   "outputs": [],
   "source": [
    "# ga.solve()"
   ]
  },
  {
   "cell_type": "code",
   "execution_count": 3,
   "id": "c75b19f6",
   "metadata": {},
   "outputs": [
    {
     "data": {
      "text/plain": [
       "True"
      ]
     },
     "execution_count": 3,
     "metadata": {},
     "output_type": "execute_result"
    }
   ],
   "source": [
    "checker.is_all_depots_passing_time_window_constraints(10,[0, 1, 5, 16, 22, 34, 0, 57, 0])"
   ]
  },
  {
   "cell_type": "code",
   "execution_count": null,
   "id": "845f1067",
   "metadata": {},
   "outputs": [],
   "source": [
    "resource_calc.calculate_route_resources(10,[0, 1, 5, 16, 22, 34, 0, 57, 0])"
   ]
  },
  {
   "cell_type": "code",
   "execution_count": null,
   "id": "e37e6c54",
   "metadata": {},
   "outputs": [],
   "source": []
  }
 ],
 "metadata": {
  "kernelspec": {
   "display_name": "Python 3 (ipykernel)",
   "language": "python",
   "name": "python3"
  },
  "language_info": {
   "codemirror_mode": {
    "name": "ipython",
    "version": 3
   },
   "file_extension": ".py",
   "mimetype": "text/x-python",
   "name": "python",
   "nbconvert_exporter": "python",
   "pygments_lexer": "ipython3",
   "version": "3.9.12"
  }
 },
 "nbformat": 4,
 "nbformat_minor": 5
}
