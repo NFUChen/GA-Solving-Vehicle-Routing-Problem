{
 "cells": [
  {
   "cell_type": "code",
   "execution_count": 1,
   "id": "f35778d3",
   "metadata": {},
   "outputs": [],
   "source": [
    "from utilities import SolutionGenerator, ConstraintChecker,BuilderFactory,RouteResourceCalculator, SolutionChromosome\n",
    "from typing import List\n",
    "from random import random, choices\n",
    "import math\n",
    "from copy import deepcopy"
   ]
  },
  {
   "cell_type": "code",
   "execution_count": 2,
   "id": "525e972b",
   "metadata": {},
   "outputs": [
    {
     "name": "stdout",
     "output_type": "stream",
     "text": [
      "Available Vehicle Names: [0, 1, 2, 3, 4, 5, 6, 7, 8, 9, 10, 11, 12, 13, 14, 15, 16, 17, 18, 19, 20, 21]\n",
      "Available Depot Names: [0, 1, 2, 3, 4, 5, 6, 7, 8, 9, 10, 11, 12, 13, 14, 15, 16, 17, 18, 19, 20, 21, 22, 23, 24, 25, 26, 27, 28, 29, 30, 31, 32, 33, 34, 35, 36, 37, 38, 39, 40, 41, 42, 43, 44, 45, 46, 47, 48, 49, 50, 51, 52, 53, 54, 55, 56, 57, 58, 59, 60, 61, 62, 63, 64, 65]\n",
      "All Depots With Time Window Constraints: [0, 1, 4, 5, 6, 8, 48, 49, 54]\n"
     ]
    }
   ],
   "source": [
    "generator = SolutionGenerator()\n",
    "checker = ConstraintChecker()\n",
    "factory = BuilderFactory()\n",
    "resource_calc = RouteResourceCalculator()"
   ]
  },
  {
   "cell_type": "code",
   "execution_count": 3,
   "id": "44fc0f34",
   "metadata": {
    "scrolled": true
   },
   "outputs": [
    {
     "name": "stdout",
     "output_type": "stream",
     "text": [
      "Function '_generate_initial_raw_solution' executed in 5.0161s\t**Depot 49 Is Not Assigned**\n",
      "Function '_generate_initial_raw_solution' executed in 8.3922s\tNo. 1 Success\n",
      "Function '_generate_initial_raw_solution' executed in 4.6277s\tNo. 2 Success\n",
      "Function '_generate_initial_raw_solution' executed in 3.1766s\t**Depot 48 Is Not Assigned**\n",
      "Function '_generate_initial_raw_solution' executed in 2.6560s\t**Depot 48 Is Not Assigned**\n",
      "Function '_generate_initial_raw_solution' executed in 4.3899s\tNo. 3 Success\n",
      "Successful Rate: 50.0%\n",
      "Processing Solution Chromosomes...\n"
     ]
    },
    {
     "name": "stderr",
     "output_type": "stream",
     "text": [
      "100%|██████████████████████████████████████████████████████████████████████████████████████████| 3/3 [00:16<00:00,  5.46s/it]"
     ]
    },
    {
     "name": "stdout",
     "output_type": "stream",
     "text": [
      "Function 'generate_valid_solutions' executed in 44.6580s\t"
     ]
    },
    {
     "name": "stderr",
     "output_type": "stream",
     "text": [
      "\n"
     ]
    },
    {
     "data": {
      "text/plain": [
       "[Chromosome: {0: [0, 24, 62, 0], 1: [0, 22, 45, 53, 65, 0], 2: [0, 52, 0], 3: [0, 9, 10, 18, 23, 48, 0, 49, 54, 0], 4: [0, 19, 63, 0], 5: [0, 14, 44, 0], 6: [0, 1, 8, 2, 25, 40, 50, 0], 7: [0, 4, 20, 21, 29, 37, 46, 0], 8: [0, 7, 12, 13, 0], 9: [0, 27, 34, 35, 60, 61, 0], 10: [0, 41, 0], 11: [0, 5, 26, 42, 56, 0], 12: [0, 17, 38, 43, 0], 13: [0, 6, 33, 39, 0], 14: [0, 28, 30, 0], 15: [0, 3, 16, 36, 64, 0], 16: [0, 32, 47, 51, 57, 59, 0], 17: [0, 11, 15, 31, 0], 18: [0, 55, 58, 0], 19: [], 20: [], 21: []}\n",
       " \tTotal Cost: $64409\n",
       " \tFuel Fee: $52988\n",
       " \tVehicle Fixed Cost: $1400\n",
       " \tDriver Cost: $10021\n",
       " \tDistance: 2710 km\n",
       " \tTotal Delivery Time: 3579.04 Mins\n",
       " \tNumber of Vehicles Assigned: 19\n",
       " \tNumber of Replenishsments: 1\n",
       " \t------------------------------------------------------------,\n",
       " Chromosome: {0: [0, 5, 2, 21, 0], 1: [0, 1, 8, 0], 2: [0, 44, 47, 52, 57, 0, 48, 49, 54, 0], 3: [0, 3, 7, 38, 0], 4: [0, 25, 64, 0], 5: [0, 14, 30, 37, 46, 62, 0], 6: [0, 18, 19, 33, 43, 0], 7: [0, 6, 42, 60, 0], 8: [0, 9, 16, 26, 34, 0], 9: [0, 31, 39, 45, 53, 0], 10: [0, 20, 24, 32, 0], 11: [0, 28, 35, 55, 58, 0], 12: [0, 10, 13, 51, 0], 13: [0, 4, 12, 22, 29, 40, 0], 14: [0, 50, 0], 15: [0, 15, 27, 0], 16: [0, 23, 61, 0], 17: [0, 36, 41, 56, 59, 63, 65, 0], 18: [0, 11, 17, 0], 19: [], 20: [], 21: []}\n",
       " \tTotal Cost: $64215\n",
       " \tFuel Fee: $52812\n",
       " \tVehicle Fixed Cost: $1400\n",
       " \tDriver Cost: $10003\n",
       " \tDistance: 2712 km\n",
       " \tTotal Delivery Time: 3572.77 Mins\n",
       " \tNumber of Vehicles Assigned: 19\n",
       " \tNumber of Replenishsments: 1\n",
       " \t------------------------------------------------------------,\n",
       " Chromosome: {0: [0, 14, 34, 58, 0, 63, 0], 1: [0, 52, 0], 2: [0, 3, 0], 3: [0, 29, 0], 4: [0, 7, 17, 50, 62, 0], 5: [0, 19, 20, 31, 35, 39, 57, 0, 59, 0], 6: [0, 2, 0], 7: [0, 22, 26, 0], 8: [0, 5, 37, 45, 47, 60, 0], 9: [0, 9, 15, 25, 32, 43, 0], 10: [0, 12, 18, 41, 0], 11: [0, 16, 30, 33, 51, 61, 65, 0], 12: [0, 11, 13, 23, 38, 42, 44, 0, 48, 49, 54, 0], 13: [0, 4, 21, 36, 55, 0], 14: [0, 24, 27, 64, 0], 15: [0, 40, 53, 0], 16: [0, 6, 28, 46, 56, 0], 17: [0, 10, 0], 18: [0, 1, 8, 0], 19: [], 20: [], 21: []}\n",
       " \tTotal Cost: $62003\n",
       " \tFuel Fee: $50698\n",
       " \tVehicle Fixed Cost: $1400\n",
       " \tDriver Cost: $9905\n",
       " \tDistance: 2516 km\n",
       " \tTotal Delivery Time: 3537.81 Mins\n",
       " \tNumber of Vehicles Assigned: 19\n",
       " \tNumber of Replenishsments: 3\n",
       " \t------------------------------------------------------------]"
      ]
     },
     "execution_count": 3,
     "metadata": {},
     "output_type": "execute_result"
    }
   ],
   "source": [
    "solution = generator.generate_valid_solutions(3)\n",
    "solution"
   ]
  },
  {
   "cell_type": "code",
   "execution_count": 4,
   "id": "1f41be88",
   "metadata": {},
   "outputs": [],
   "source": [
    "from utilities import GeneticAlgorithm\n",
    "    "
   ]
  },
  {
   "cell_type": "code",
   "execution_count": 5,
   "id": "f6a97151",
   "metadata": {},
   "outputs": [
    {
     "name": "stdout",
     "output_type": "stream",
     "text": [
      "Available Vehicle Names: [0, 1, 2, 3, 4, 5, 6, 7, 8, 9, 10, 11, 12, 13, 14, 15, 16, 17, 18, 19, 20, 21]\n",
      "Available Depot Names: [0, 1, 2, 3, 4, 5, 6, 7, 8, 9, 10, 11, 12, 13, 14, 15, 16, 17, 18, 19, 20, 21, 22, 23, 24, 25, 26, 27, 28, 29, 30, 31, 32, 33, 34, 35, 36, 37, 38, 39, 40, 41, 42, 43, 44, 45, 46, 47, 48, 49, 50, 51, 52, 53, 54, 55, 56, 57, 58, 59, 60, 61, 62, 63, 64, 65]\n",
      "All Depots With Time Window Constraints: [0, 1, 4, 5, 6, 8, 48, 49, 54]\n"
     ]
    }
   ],
   "source": [
    "ga = GeneticAlgorithm(6,0.05,0.6, 300)"
   ]
  },
  {
   "cell_type": "code",
   "execution_count": 6,
   "id": "e9572ca3",
   "metadata": {},
   "outputs": [
    {
     "name": "stdout",
     "output_type": "stream",
     "text": [
      "Function '_generate_initial_raw_solution' executed in 5.8829s\tNo. 1 Success\n",
      "Function '_generate_initial_raw_solution' executed in 5.7653s\t**Depot 49 Is Not Assigned**\n",
      "Function '_generate_initial_raw_solution' executed in 9.6200s\tNo. 2 Success\n",
      "Function '_generate_initial_raw_solution' executed in 7.7394s\t**Depot 54 Is Not Assigned**\n",
      "Function '_generate_initial_raw_solution' executed in 7.6630s\tNo. 3 Success\n",
      "Successful Rate: 60.0%\n",
      "Processing Solution Chromosomes...\n"
     ]
    },
    {
     "name": "stderr",
     "output_type": "stream",
     "text": [
      "100%|██████████████████████████████████████████████████████████████████████████████████████████| 3/3 [00:17<00:00,  5.93s/it]\n"
     ]
    },
    {
     "name": "stdout",
     "output_type": "stream",
     "text": [
      "Function 'generate_valid_solutions' executed in 54.4582s\t"
     ]
    },
    {
     "ename": "IndexError",
     "evalue": "list index out of range",
     "output_type": "error",
     "traceback": [
      "\u001b[0;31m---------------------------------------------------------------------------\u001b[0m",
      "\u001b[0;31mIndexError\u001b[0m                                Traceback (most recent call last)",
      "Input \u001b[0;32mIn [6]\u001b[0m, in \u001b[0;36m<cell line: 1>\u001b[0;34m()\u001b[0m\n\u001b[0;32m----> 1\u001b[0m \u001b[43mga\u001b[49m\u001b[38;5;241;43m.\u001b[39;49m\u001b[43msolve\u001b[49m\u001b[43m(\u001b[49m\u001b[43m)\u001b[49m\n",
      "File \u001b[0;32m~/Library/CloudStorage/OneDrive-AKIR/守心/GA演算法/utilities/genetic_algorithm.py:83\u001b[0m, in \u001b[0;36mGeneticAlgorithm.solve\u001b[0;34m(self)\u001b[0m\n\u001b[1;32m     81\u001b[0m \u001b[38;5;28;01mwhile\u001b[39;00m \u001b[38;5;129;01mnot\u001b[39;00m (\u001b[38;5;28mself\u001b[39m\u001b[38;5;241m.\u001b[39mis_termination_criteria_met):\n\u001b[1;32m     82\u001b[0m     \u001b[38;5;28mself\u001b[39m\u001b[38;5;241m.\u001b[39m_calculate_total_fitness_of_population()\n\u001b[0;32m---> 83\u001b[0m     partent \u001b[38;5;241m=\u001b[39m \u001b[38;5;28;43mself\u001b[39;49m\u001b[38;5;241;43m.\u001b[39;49m\u001b[43m_select_a_parent\u001b[49m\u001b[43m(\u001b[49m\u001b[43m)\u001b[49m\n\u001b[1;32m     84\u001b[0m     \u001b[38;5;28mself\u001b[39m\u001b[38;5;241m.\u001b[39m_crossover_two_parents()\n\u001b[1;32m     85\u001b[0m     \u001b[38;5;28mself\u001b[39m\u001b[38;5;241m.\u001b[39m_mutate_two_children()\n",
      "File \u001b[0;32m~/Library/CloudStorage/OneDrive-AKIR/守心/GA演算法/utilities/genetic_algorithm.py:59\u001b[0m, in \u001b[0;36mGeneticAlgorithm._select_a_parent\u001b[0;34m(self)\u001b[0m\n\u001b[1;32m     56\u001b[0m     check_sum \u001b[38;5;241m+\u001b[39m\u001b[38;5;241m=\u001b[39m \u001b[38;5;28mself\u001b[39m\u001b[38;5;241m.\u001b[39mpopulation[selected_idx]\u001b[38;5;241m.\u001b[39mfitness\n\u001b[1;32m     57\u001b[0m     selected_idx \u001b[38;5;241m+\u001b[39m\u001b[38;5;241m=\u001b[39m \u001b[38;5;241m1\u001b[39m\n\u001b[0;32m---> 59\u001b[0m \u001b[38;5;28;01mreturn\u001b[39;00m \u001b[38;5;28;43mself\u001b[39;49m\u001b[38;5;241;43m.\u001b[39;49m\u001b[43mpopulation\u001b[49m\u001b[43m[\u001b[49m\u001b[43mselected_idx\u001b[49m\u001b[43m]\u001b[49m\n",
      "\u001b[0;31mIndexError\u001b[0m: list index out of range"
     ]
    }
   ],
   "source": [
    "ga.solve()"
   ]
  },
  {
   "cell_type": "code",
   "execution_count": 7,
   "id": "ce0d36fc",
   "metadata": {},
   "outputs": [
    {
     "data": {
      "text/plain": [
       "False"
      ]
     },
     "execution_count": 7,
     "metadata": {},
     "output_type": "execute_result"
    }
   ],
   "source": [
    "checker.is_all_depot_passing_time_window_constraints(0, [0, 5, 23, 56, 0, 48, 49, 54, 0])"
   ]
  },
  {
   "cell_type": "code",
   "execution_count": 9,
   "id": "59076c3e",
   "metadata": {},
   "outputs": [
    {
     "data": {
      "text/plain": [
       "{'fuel_fee': 8823.215999999999,\n",
       " 'distance': 419.057,\n",
       " 'delivery_time': 312.87999999999994,\n",
       " 'service_time': 180,\n",
       " 'vehicle_fixed_cost': 1000,\n",
       " 'driver_cost': 1380.0639999999999,\n",
       " 'number_of_replenishment': 1,\n",
       " 'number_of_vehicles_assigned': 1}"
      ]
     },
     "execution_count": 9,
     "metadata": {},
     "output_type": "execute_result"
    }
   ],
   "source": [
    "resource_calc.calculate_route_resources(6, [0, 8, 12, 23, 24, 53, 0, 48, 49, 54])"
   ]
  },
  {
   "cell_type": "code",
   "execution_count": null,
   "id": "8ce8e3a0",
   "metadata": {},
   "outputs": [],
   "source": []
  }
 ],
 "metadata": {
  "kernelspec": {
   "display_name": "Python 3 (ipykernel)",
   "language": "python",
   "name": "python3"
  },
  "language_info": {
   "codemirror_mode": {
    "name": "ipython",
    "version": 3
   },
   "file_extension": ".py",
   "mimetype": "text/x-python",
   "name": "python",
   "nbconvert_exporter": "python",
   "pygments_lexer": "ipython3",
   "version": "3.9.12"
  }
 },
 "nbformat": 4,
 "nbformat_minor": 5
}
