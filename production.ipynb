{
 "cells": [
  {
   "cell_type": "code",
   "execution_count": 1,
   "id": "f35778d3",
   "metadata": {},
   "outputs": [],
   "source": [
    "from utilities import SolutionGenerator, ConstraintChecker,BuilderFactory,RouteResourceCalculator, SolutionChromosome\n",
    "from typing import List\n",
    "from random import random, choices\n",
    "import math\n",
    "from copy import deepcopy"
   ]
  },
  {
   "cell_type": "code",
   "execution_count": 2,
   "id": "525e972b",
   "metadata": {},
   "outputs": [
    {
     "name": "stdout",
     "output_type": "stream",
     "text": [
      "Available Vehicle Names: [0, 1, 2, 3, 4, 5, 6, 7, 8, 9, 10, 11, 12, 13, 14, 15, 16, 17, 18, 19, 20, 21]\n",
      "Available Depot Names: [0, 1, 2, 3, 4, 5, 6, 7, 8, 9, 10, 11, 12, 13, 14, 15, 16, 17, 18, 19, 20, 21, 22, 23, 24, 25, 26, 27, 28, 29, 30, 31, 32, 33, 34, 35, 36, 37, 38, 39, 40, 41, 42, 43, 44, 45, 46, 47, 48, 49, 50, 51, 52, 53, 54, 55, 56, 57, 58, 59, 60, 61, 62, 63, 64, 65]\n",
      "All Depots With Time Window Constraints: [0, 1, 4, 5, 6, 8, 48, 49, 54]\n"
     ]
    }
   ],
   "source": [
    "generator = SolutionGenerator()\n",
    "checker = ConstraintChecker()\n",
    "factory = BuilderFactory()\n",
    "resource_calc = RouteResourceCalculator()"
   ]
  },
  {
   "cell_type": "code",
   "execution_count": 3,
   "id": "44fc0f34",
   "metadata": {
    "scrolled": true
   },
   "outputs": [
    {
     "name": "stdout",
     "output_type": "stream",
     "text": [
      "Function '_generate_initial_raw_solution' executed in 4.0341s\t**Depot 48 Is Not Assigned**\n",
      "Function '_generate_initial_raw_solution' executed in 7.2795s\t**Depot 54 Is Not Assigned**\n",
      "Function '_generate_initial_raw_solution' executed in 4.2909s\tNo. 1 Success\n",
      "Function '_generate_initial_raw_solution' executed in 11.0995s\tNo. 2 Success\n",
      "Function '_generate_initial_raw_solution' executed in 10.7970s\tNo. 3 Success\n",
      "Successful Rate: 60.0%\n",
      "Processing Solution Chromosomes...\n"
     ]
    },
    {
     "name": "stderr",
     "output_type": "stream",
     "text": [
      "100%|██████████████████████████████████████████████████████████████████████████████████████████| 3/3 [00:16<00:00,  5.46s/it]"
     ]
    },
    {
     "name": "stdout",
     "output_type": "stream",
     "text": [
      "Function 'generate_valid_solutions' executed in 53.8908s\t"
     ]
    },
    {
     "name": "stderr",
     "output_type": "stream",
     "text": [
      "\n"
     ]
    },
    {
     "data": {
      "text/plain": [
       "[Chromosome: {0: [0, 1, 13, 46, 50, 0, 56, 0], 1: [0, 10, 34, 0], 2: [0, 16, 61, 0], 3: [0, 3, 14, 15, 0], 4: [0, 6, 8, 9, 19, 52, 0], 5: [0, 40, 0], 6: [0, 45, 58, 63, 0], 7: [0, 5, 31, 0], 8: [0, 12, 53, 55, 0], 9: [0, 28, 64, 0], 10: [0, 21, 30, 41, 42, 44, 0], 11: [0, 22, 57, 59, 65, 48, 0], 12: [0, 7, 26, 32, 51, 0], 13: [0, 47, 0], 14: [0, 17, 23, 29, 37, 49, 54, 0], 15: [0, 25, 35, 36, 0], 16: [0, 18, 24, 27, 0], 17: [0, 2, 33, 38, 43, 60, 62, 0], 18: [0, 4, 11, 20, 39, 0], 19: [], 20: [], 21: []}\n",
       " \tTotal Cost: $61681\n",
       " \tFuel Fee: $50507\n",
       " \tVehicle Fixed Cost: $1400\n",
       " \tDriver Cost: $9774\n",
       " \tDistance: 2485 km\n",
       " \tTotal Delivery Time: 3491.04 Mins\n",
       " \tNumber of Vehicles Assigned: 19\n",
       " \tNumber of Replenishsments: 1\n",
       " \t------------------------------------------------------------,\n",
       " Chromosome: {0: [], 1: [0, 13, 19, 63, 0], 2: [], 3: [0, 29, 38, 0], 4: [0, 10, 11, 15, 65, 0], 5: [0, 18, 32, 35, 50, 0], 6: [0, 5, 20, 26, 33, 36, 0], 7: [0, 27, 39, 55, 0], 8: [0, 41, 60, 0], 9: [0, 21, 58, 0], 10: [0, 46, 53, 0], 11: [0, 12, 14, 30, 37, 51, 0], 12: [0, 8, 7, 17, 28, 34, 52, 59, 0, 48, 49, 54, 0], 13: [0, 22, 31, 47, 64, 0], 14: [0, 56, 57, 0], 15: [0, 2, 16, 0], 16: [0, 4, 3, 25, 44, 62, 0], 17: [0, 6, 24, 40, 42, 45, 61, 0], 18: [0, 1, 9, 23, 43, 0], 19: [], 20: [], 21: []}\n",
       " \tTotal Cost: $61013\n",
       " \tFuel Fee: $50001\n",
       " \tVehicle Fixed Cost: $1400\n",
       " \tDriver Cost: $9612\n",
       " \tDistance: 2467 km\n",
       " \tTotal Delivery Time: 3433.09 Mins\n",
       " \tNumber of Vehicles Assigned: 17\n",
       " \tNumber of Replenishsments: 1\n",
       " \t------------------------------------------------------------,\n",
       " Chromosome: {0: [0, 4, 3, 62, 0], 1: [0, 12, 16, 23, 43, 48, 0, 49, 54, 0], 2: [0, 15, 33, 35, 56, 0], 3: [0, 2, 10, 20, 26, 59, 60, 64, 0], 4: [0, 11, 17, 30, 31, 58, 0], 5: [0, 18, 22, 0], 6: [0, 5, 39, 47, 53, 57, 0, 65, 0], 7: [], 8: [], 9: [0, 1, 14, 0], 10: [0, 52, 0], 11: [0, 8, 0], 12: [0, 25, 27, 32, 38, 42, 55, 0], 13: [0, 46, 63, 0], 14: [0, 9, 13, 19, 21, 41, 0], 15: [0, 37, 44, 50, 0], 16: [0, 36, 51, 0], 17: [0, 6, 29, 0], 18: [0, 7, 24, 28, 34, 40, 45, 61, 0], 19: [], 20: [], 21: []}\n",
       " \tTotal Cost: $59376\n",
       " \tFuel Fee: $48461\n",
       " \tVehicle Fixed Cost: $1400\n",
       " \tDriver Cost: $9515\n",
       " \tDistance: 2326 km\n",
       " \tTotal Delivery Time: 3398.51 Mins\n",
       " \tNumber of Vehicles Assigned: 17\n",
       " \tNumber of Replenishsments: 2\n",
       " \t------------------------------------------------------------]"
      ]
     },
     "execution_count": 3,
     "metadata": {},
     "output_type": "execute_result"
    }
   ],
   "source": [
    "solution = generator.generate_valid_solutions(3)\n",
    "solution"
   ]
  },
  {
   "cell_type": "code",
   "execution_count": 4,
   "id": "1f41be88",
   "metadata": {},
   "outputs": [],
   "source": [
    "from utilities import GeneticAlgorithm\n",
    "    "
   ]
  },
  {
   "cell_type": "code",
   "execution_count": 5,
   "id": "f6a97151",
   "metadata": {},
   "outputs": [
    {
     "name": "stdout",
     "output_type": "stream",
     "text": [
      "Available Vehicle Names: [0, 1, 2, 3, 4, 5, 6, 7, 8, 9, 10, 11, 12, 13, 14, 15, 16, 17, 18, 19, 20, 21]\n",
      "Available Depot Names: [0, 1, 2, 3, 4, 5, 6, 7, 8, 9, 10, 11, 12, 13, 14, 15, 16, 17, 18, 19, 20, 21, 22, 23, 24, 25, 26, 27, 28, 29, 30, 31, 32, 33, 34, 35, 36, 37, 38, 39, 40, 41, 42, 43, 44, 45, 46, 47, 48, 49, 50, 51, 52, 53, 54, 55, 56, 57, 58, 59, 60, 61, 62, 63, 64, 65]\n",
      "All Depots With Time Window Constraints: [0, 1, 4, 5, 6, 8, 48, 49, 54]\n"
     ]
    }
   ],
   "source": [
    "ga = GeneticAlgorithm(6,0.05,0.6, 300)"
   ]
  },
  {
   "cell_type": "code",
   "execution_count": null,
   "id": "e9572ca3",
   "metadata": {},
   "outputs": [
    {
     "name": "stdout",
     "output_type": "stream",
     "text": [
      "Function '_generate_initial_raw_solution' executed in 9.6074s\tNo. 1 Success\n",
      "Function '_generate_initial_raw_solution' executed in 4.1079s\t**Depot 48 Is Not Assigned**\n"
     ]
    }
   ],
   "source": [
    "ga.solve()"
   ]
  },
  {
   "cell_type": "code",
   "execution_count": null,
   "id": "5ce67320",
   "metadata": {},
   "outputs": [],
   "source": [
    "resource_calc.calculate_route_resources(10, [0, 6, 5, 23, 36])"
   ]
  },
  {
   "cell_type": "code",
   "execution_count": null,
   "id": "fbf104d9",
   "metadata": {},
   "outputs": [],
   "source": []
  }
 ],
 "metadata": {
  "kernelspec": {
   "display_name": "Python 3 (ipykernel)",
   "language": "python",
   "name": "python3"
  },
  "language_info": {
   "codemirror_mode": {
    "name": "ipython",
    "version": 3
   },
   "file_extension": ".py",
   "mimetype": "text/x-python",
   "name": "python",
   "nbconvert_exporter": "python",
   "pygments_lexer": "ipython3",
   "version": "3.9.12"
  }
 },
 "nbformat": 4,
 "nbformat_minor": 5
}
