{
 "cells": [
  {
   "cell_type": "code",
   "execution_count": 1,
   "id": "f35778d3",
   "metadata": {},
   "outputs": [],
   "source": [
    "from utilities import SolutionGenerator, ConstraintChecker,BuilderFactory,RouteResourceCalculator, SolutionChromosome\n",
    "from typing import List\n",
    "from random import random, choices\n",
    "import math"
   ]
  },
  {
   "cell_type": "code",
   "execution_count": 2,
   "id": "525e972b",
   "metadata": {},
   "outputs": [
    {
     "name": "stdout",
     "output_type": "stream",
     "text": [
      "Available Depot Names: [0, 1, 2, 3, 4, 5, 6, 7, 8, 9, 10, 11, 12, 13, 14, 15, 16, 17, 18, 19, 20, 21, 22, 23, 24, 25, 26, 27, 28, 29, 30, 31, 32, 33, 34, 35, 36, 37, 38, 39, 40, 41, 42, 43, 44, 45, 46, 47, 48, 49, 50, 51, 52, 53, 54, 55, 56, 57, 58, 59, 60, 61, 62, 63, 64, 65]\n",
      "Available Vehicle Names: [0, 1, 2, 3, 4, 5, 6, 7, 8, 9, 10, 11, 12, 13, 14, 15, 16, 17, 18, 19, 20, 21]\n"
     ]
    }
   ],
   "source": [
    "generator = SolutionGenerator()\n",
    "checker = ConstraintChecker()\n",
    "factory = BuilderFactory()\n",
    "resource_calc = RouteResourceCalculator()"
   ]
  },
  {
   "cell_type": "code",
   "execution_count": 3,
   "id": "1e9cb2c9",
   "metadata": {},
   "outputs": [
    {
     "data": {
      "text/plain": [
       "[0, 1, 4, 5, 6, 8, 48, 49, 54]"
      ]
     },
     "execution_count": 3,
     "metadata": {},
     "output_type": "execute_result"
    }
   ],
   "source": [
    "factory.depot_builder.all_depot_names_with_time_window_constraint"
   ]
  },
  {
   "cell_type": "code",
   "execution_count": 4,
   "id": "44fc0f34",
   "metadata": {
    "scrolled": true
   },
   "outputs": [
    {
     "name": "stdout",
     "output_type": "stream",
     "text": [
      "Function '_generate_initial_raw_solution' executed in 2.9462s\t**Depot 54 Is Not Assigned**\n",
      "Function '_generate_initial_raw_solution' executed in 3.9144s\tNo. 1 Success\n",
      "Function '_generate_initial_raw_solution' executed in 5.3734s\t**Depot 54 Is Not Assigned**\n",
      "Function '_generate_initial_raw_solution' executed in 4.1485s\t**Depot 49 Is Not Assigned**\n",
      "Function '_generate_initial_raw_solution' executed in 3.3982s\t**Depot 49 Is Not Assigned**\n",
      "Function '_generate_initial_raw_solution' executed in 2.1289s\t**Depot 48 Is Not Assigned**\n",
      "Function '_generate_initial_raw_solution' executed in 2.0987s\t**Depot 48 Is Not Assigned**\n",
      "Function '_generate_initial_raw_solution' executed in 4.5331s\t**Depot 54 Is Not Assigned**\n",
      "Function '_generate_initial_raw_solution' executed in 4.2174s\t**Depot 49 Is Not Assigned**\n",
      "Function '_generate_initial_raw_solution' executed in 4.1129s\t**Depot 49 Is Not Assigned**\n",
      "Function '_generate_initial_raw_solution' executed in 5.6367s\tNo. 2 Success\n",
      "Function '_generate_initial_raw_solution' executed in 6.2205s\tNo. 3 Success\n",
      "Successful Rate: 25.0%\n",
      "Processing Solution Chromosomes...\n"
     ]
    },
    {
     "name": "stderr",
     "output_type": "stream",
     "text": [
      "100%|██████████████████████████████████████████████████████████████████████████████████████████| 3/3 [00:03<00:00,  1.26s/it]"
     ]
    },
    {
     "name": "stdout",
     "output_type": "stream",
     "text": [
      "Function 'generate_valid_solutions' executed in 52.5390s\t"
     ]
    },
    {
     "name": "stderr",
     "output_type": "stream",
     "text": [
      "\n"
     ]
    },
    {
     "data": {
      "text/plain": [
       "[Chromosome: {0: [0, 3, 22, 30, 45, 0], 1: [0, 7, 11, 18, 19, 42, 64, 0], 2: [0, 14, 15, 63, 0], 3: [0, 5, 33, 46, 53, 0], 4: [0, 20, 23, 37, 59, 60, 0, 48, 49, 54, 0], 5: [0, 4, 62, 0], 6: [0, 25, 41, 0], 7: [0, 38, 61, 0], 8: [0, 10, 13, 35, 43, 50, 0], 9: [0, 2, 47, 58, 0], 10: [], 11: [0, 6, 8, 16, 27, 56, 0], 12: [0, 24, 34, 51, 0], 13: [0, 12, 26, 57, 0], 14: [0, 21, 29, 31, 39, 52, 0], 15: [0, 44, 65, 0], 16: [0, 1, 9, 28, 36, 0], 17: [0, 32, 55, 0], 18: [0, 17, 40, 0], 19: [], 20: [], 21: []}\n",
       " \tTotal Cost: $15373\n",
       " \tFuel Fee: $11743\n",
       " \tVehicle Fixed Cost: $1400\n",
       " \tDriver Cost: $2230\n",
       " \tDistance: 622 km\n",
       " \tTotal Delivery Time: 796.43 Mins\n",
       " \tNumber of Vehicles Assigned: 18\n",
       " \tNumber of Replenishsments: 1\n",
       " \t------------------------------------------------------------,\n",
       " Chromosome: {0: [0, 29, 0], 1: [0, 11, 19, 23, 32, 61, 0, 48, 49, 54, 0], 2: [0, 10, 25, 60, 0], 3: [0, 1, 8, 26, 36, 0], 4: [0, 13, 14, 16, 17, 28, 37, 50, 0, 57, 62, 0], 5: [0, 30, 52, 56, 0], 6: [0, 9, 42, 51, 53, 0], 7: [0, 6, 38, 43, 46, 58, 0], 8: [0, 5, 55, 0], 9: [0, 12, 24, 34, 65, 0], 10: [0, 21, 0], 11: [0, 3, 44, 45, 59, 63, 0], 12: [0, 33, 39, 0], 13: [0, 15, 0], 14: [0, 4, 20, 27, 35, 41, 0], 15: [0, 18, 22, 0], 16: [0, 2, 47, 0], 17: [0, 7, 31, 40, 64, 0], 18: [], 19: [], 20: [], 21: []}\n",
       " \tTotal Cost: $13345\n",
       " \tFuel Fee: $9848\n",
       " \tVehicle Fixed Cost: $1400\n",
       " \tDriver Cost: $2097\n",
       " \tDistance: 541 km\n",
       " \tTotal Delivery Time: 749.25 Mins\n",
       " \tNumber of Vehicles Assigned: 18\n",
       " \tNumber of Replenishsments: 2\n",
       " \t------------------------------------------------------------,\n",
       " Chromosome: {0: [0, 9, 10, 31, 37, 0], 1: [], 2: [], 3: [0, 17, 0], 4: [0, 21, 43, 52, 53, 56, 0, 60, 0], 5: [0, 24, 29, 0], 6: [0, 12, 18, 58, 64, 0], 7: [0, 19, 30, 34, 45, 46, 0], 8: [0, 4, 23, 50, 51, 59, 48, 49, 0], 9: [0, 5, 7, 61, 0], 10: [0, 6, 13, 15, 36, 57, 54, 0], 11: [0, 22, 26, 38, 0], 12: [0, 1, 3, 20, 0], 13: [0, 8, 11, 40, 41, 0], 14: [0, 39, 63, 65, 0], 15: [0, 2, 62, 0], 16: [0, 16, 27, 35, 42, 0], 17: [0, 25, 33, 47, 55, 0], 18: [0, 14, 28, 32, 44, 0], 19: [], 20: [], 21: []}\n",
       " \tTotal Cost: $11893\n",
       " \tFuel Fee: $8629\n",
       " \tVehicle Fixed Cost: $1400\n",
       " \tDriver Cost: $1864\n",
       " \tDistance: 448 km\n",
       " \tTotal Delivery Time: 666.02 Mins\n",
       " \tNumber of Vehicles Assigned: 17\n",
       " \tNumber of Replenishsments: 1\n",
       " \t------------------------------------------------------------]"
      ]
     },
     "execution_count": 4,
     "metadata": {},
     "output_type": "execute_result"
    }
   ],
   "source": [
    "solution = generator.generate_valid_solutions(3)\n",
    "solution"
   ]
  },
  {
   "cell_type": "code",
   "execution_count": null,
   "id": "9f85bcf4",
   "metadata": {},
   "outputs": [],
   "source": []
  }
 ],
 "metadata": {
  "kernelspec": {
   "display_name": "Python 3 (ipykernel)",
   "language": "python",
   "name": "python3"
  },
  "language_info": {
   "codemirror_mode": {
    "name": "ipython",
    "version": 3
   },
   "file_extension": ".py",
   "mimetype": "text/x-python",
   "name": "python",
   "nbconvert_exporter": "python",
   "pygments_lexer": "ipython3",
   "version": "3.9.12"
  }
 },
 "nbformat": 4,
 "nbformat_minor": 5
}
