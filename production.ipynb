{
 "cells": [
  {
   "cell_type": "code",
   "execution_count": 1,
   "id": "f35778d3",
   "metadata": {},
   "outputs": [],
   "source": [
    "from utilities import SolutionGenerator, ConstraintChecker, BuilderFactory, RouteResourceCalculator, Optimizer"
   ]
  },
  {
   "cell_type": "code",
   "execution_count": 2,
   "id": "525e972b",
   "metadata": {},
   "outputs": [
    {
     "name": "stdout",
     "output_type": "stream",
     "text": [
      "Available Depot Names: [0, 1, 2, 3, 4, 5, 6, 7, 8]\n",
      "Available Vehicle Names: [0, 1, 2]\n"
     ]
    }
   ],
   "source": [
    "generator = SolutionGenerator()"
   ]
  },
  {
   "cell_type": "code",
   "execution_count": 3,
   "id": "2d295570",
   "metadata": {},
   "outputs": [
    {
     "name": "stdout",
     "output_type": "stream",
     "text": [
      "Function '_generate_initial_raw_solution' executed in 0.1893s\tNo. 1\n",
      "Function '_generate_initial_raw_solution' executed in 0.2505s\tNo. 2\n",
      "Function '_generate_initial_raw_solution' executed in 0.1808s\tNo. 3\n",
      "Function '_generate_initial_raw_solution' executed in 0.1710s\tNo. 4\n",
      "Function '_generate_initial_raw_solution' executed in 0.1699s\tNo. 5\n",
      "Function '_generate_initial_raw_solution' executed in 0.1677s\tNo. 6\n",
      "Function '_generate_initial_raw_solution' executed in 0.1645s\tNo. 7\n",
      "Function '_generate_initial_raw_solution' executed in 0.1638s\tNo. 8\n",
      "Function '_generate_initial_raw_solution' executed in 0.1647s\tNo. 9\n",
      "Function '_generate_initial_raw_solution' executed in 0.1645s\tNo. 10\n",
      "Function '_generate_initial_raw_solution' executed in 0.1454s\tNo. 11\n",
      "Function '_generate_initial_raw_solution' executed in 0.1616s\tNo. 12\n",
      "Function '_generate_initial_raw_solution' executed in 0.1617s\tNo. 13\n",
      "Function '_generate_initial_raw_solution' executed in 0.1625s\tNo. 14\n",
      "Function '_generate_initial_raw_solution' executed in 0.1612s\tNo. 15\n",
      "Function '_generate_initial_raw_solution' executed in 0.1629s\tNo. 16\n",
      "Function '_generate_initial_raw_solution' executed in 0.1622s\tNo. 17\n",
      "Function '_generate_initial_raw_solution' executed in 0.1622s\tNo. 18\n",
      "Function '_generate_initial_raw_solution' executed in 0.1691s\tNo. 19\n",
      "Function '_generate_initial_raw_solution' executed in 0.1664s\tNo. 20\n",
      "Function '_generate_initial_raw_solution' executed in 0.1684s\tNo. 21\n",
      "Function '_generate_initial_raw_solution' executed in 0.1631s\tNo. 22\n",
      "Function '_generate_initial_raw_solution' executed in 0.1627s\tNo. 23\n",
      "Function '_generate_initial_raw_solution' executed in 0.1628s\tNo. 24\n",
      "Function '_generate_initial_raw_solution' executed in 0.1636s\tNo. 25\n",
      "Function '_generate_initial_raw_solution' executed in 0.1628s\tNo. 26\n",
      "Function '_generate_initial_raw_solution' executed in 0.1621s\tNo. 27\n",
      "Function '_generate_initial_raw_solution' executed in 0.1626s\tNo. 28\n",
      "Function '_generate_initial_raw_solution' executed in 0.1621s\tNo. 29\n",
      "Function '_generate_initial_raw_solution' executed in 0.1626s\tNo. 30\n",
      "Function '_generate_initial_raw_solution' executed in 0.1624s\tNo. 31\n",
      "Function '_generate_initial_raw_solution' executed in 0.1638s\tNo. 32\n",
      "Function '_generate_initial_raw_solution' executed in 0.1449s\tNo. 33\n",
      "Function '_generate_initial_raw_solution' executed in 0.1625s\tNo. 34\n",
      "Function '_generate_initial_raw_solution' executed in 0.1626s\tNo. 35\n",
      "Function '_generate_initial_raw_solution' executed in 0.1626s\tNo. 36\n",
      "Function '_generate_initial_raw_solution' executed in 0.1619s\tNo. 37\n",
      "Function '_generate_initial_raw_solution' executed in 0.1624s\tNo. 38\n",
      "Function '_generate_initial_raw_solution' executed in 0.1623s\tNo. 39\n",
      "Function '_generate_initial_raw_solution' executed in 0.1646s\tNo. 40\n",
      "Function '_generate_initial_raw_solution' executed in 0.1621s\tNo. 41\n",
      "Function '_generate_initial_raw_solution' executed in 0.1618s\tNo. 42\n",
      "Function '_generate_initial_raw_solution' executed in 0.1627s\tNo. 43\n",
      "Function '_generate_initial_raw_solution' executed in 0.2164s\tNo. 44\n",
      "Function '_generate_initial_raw_solution' executed in 0.1858s\tNo. 45\n",
      "Function '_generate_initial_raw_solution' executed in 0.1794s\tNo. 46\n",
      "Function '_generate_initial_raw_solution' executed in 0.2254s\tNo. 47\n",
      "Function '_generate_initial_raw_solution' executed in 0.2116s\tNo. 48\n",
      "Function '_generate_initial_raw_solution' executed in 0.1992s\tNo. 49\n",
      "Function '_generate_initial_raw_solution' executed in 0.1624s\tNo. 50\n",
      "Function 'generate_valid_solutions' executed in 19.4499s\t"
     ]
    }
   ],
   "source": [
    "solutions = generator.generate_valid_solutions(30)"
   ]
  },
  {
   "cell_type": "code",
   "execution_count": null,
   "id": "44fc0f34",
   "metadata": {},
   "outputs": [],
   "source": []
  },
  {
   "cell_type": "code",
   "execution_count": 4,
   "id": "02b7bbe1",
   "metadata": {},
   "outputs": [],
   "source": [
    "resource_calc = RouteResourceCalculator()"
   ]
  },
  {
   "cell_type": "code",
   "execution_count": 5,
   "id": "cccddbeb",
   "metadata": {},
   "outputs": [],
   "source": [
    "checker = ConstraintChecker()"
   ]
  },
  {
   "cell_type": "code",
   "execution_count": 11,
   "id": "d1b26b4e",
   "metadata": {},
   "outputs": [
    {
     "data": {
      "text/plain": [
       "[Chromosome: {0: [0, 6, 1, 2, 0], 1: [0, 3, 4, 5, 0], 2: [0, 8, 7, 0]}\n",
       " Number of Vehicles Assigned: 3Resources Used: {'fuel_fee': 5284.959999932001, 'distance': 175.707, 'delivery_time': 155.43999999800002, 'service_time': 220, 'vehicle_fixed_cost': 3700, 'driver_cost': 1051.2319999944},\n",
       " Chromosome: {0: [0, 4, 7, 5, 3, 1, 0], 1: [0, 6, 2, 0], 2: [0, 8, 0]}\n",
       " Number of Vehicles Assigned: 3Resources Used: {'fuel_fee': 5543.7, 'distance': 192.37199999999999, 'delivery_time': 163.05, 'service_time': 220, 'vehicle_fixed_cost': 3700, 'driver_cost': 1072.54},\n",
       " Chromosome: {0: [0, 2, 1, 5, 0], 1: [0, 7, 8, 6, 0], 2: [0, 4, 3, 0]}\n",
       " Number of Vehicles Assigned: 3Resources Used: {'fuel_fee': 5582.8, 'distance': 196.781, 'delivery_time': 164.2, 'service_time': 220, 'vehicle_fixed_cost': 3700, 'driver_cost': 1075.76},\n",
       " Chromosome: {0: [0, 2, 3, 0], 1: [0, 1, 0], 2: [0, 6, 4, 5, 8, 7, 0]}\n",
       " Number of Vehicles Assigned: 3Resources Used: {'fuel_fee': 5601.160000000001, 'distance': 195.959, 'delivery_time': 164.74, 'service_time': 220, 'vehicle_fixed_cost': 3700, 'driver_cost': 1077.2720000000002},\n",
       " Chromosome: {0: [0, 1, 2, 0], 1: [0, 3, 4, 0], 2: [0, 7, 8, 6, 5, 0]}\n",
       " Number of Vehicles Assigned: 3Resources Used: {'fuel_fee': 5858.1999999320005, 'distance': 206.63400000000001, 'delivery_time': 172.299999998, 'service_time': 220, 'vehicle_fixed_cost': 3700, 'driver_cost': 1098.4399999943998},\n",
       " Chromosome: {0: [0, 1, 2, 7, 0], 1: [0, 5, 3, 4, 0], 2: [0, 8, 6, 0]}\n",
       " Number of Vehicles Assigned: 3Resources Used: {'fuel_fee': 5886.079999932001, 'distance': 205.84199999999998, 'delivery_time': 173.119999998, 'service_time': 220, 'vehicle_fixed_cost': 3700, 'driver_cost': 1100.7359999944},\n",
       " Chromosome: {0: [0, 4, 3, 5, 7, 0, 6, 8, 0], 1: [0, 2, 1, 0], 2: []}\n",
       " Number of Vehicles Assigned: 2Resources Used: {'fuel_fee': 5717.1, 'distance': 208.909, 'delivery_time': 168.14999999999998, 'service_time': 220, 'vehicle_fixed_cost': 2200, 'driver_cost': 1086.82},\n",
       " Chromosome: {0: [0, 6, 5, 7, 2, 1, 0, 3, 0], 1: [0, 8, 4, 0], 2: []}\n",
       " Number of Vehicles Assigned: 2Resources Used: {'fuel_fee': 6476.66, 'distance': 238.176, 'delivery_time': 190.49, 'service_time': 220, 'vehicle_fixed_cost': 2200, 'driver_cost': 1149.372},\n",
       " Chromosome: {0: [0, 2, 4, 0], 1: [0, 1, 5, 8, 7, 0], 2: [0, 6, 3, 0]}\n",
       " Number of Vehicles Assigned: 3Resources Used: {'fuel_fee': 5674.9400000000005, 'distance': 193.075, 'delivery_time': 166.91, 'service_time': 220, 'vehicle_fixed_cost': 3700, 'driver_cost': 1083.348},\n",
       " Chromosome: {0: [0, 7, 2, 1, 3, 6, 0], 1: [0, 4, 0], 2: [0, 8, 5, 0]}\n",
       " Number of Vehicles Assigned: 3Resources Used: {'fuel_fee': 5712.0, 'distance': 197.371, 'delivery_time': 168.0, 'service_time': 220, 'vehicle_fixed_cost': 3700, 'driver_cost': 1086.4},\n",
       " Chromosome: {0: [0, 3, 1, 2, 0], 1: [0, 5, 8, 7, 4, 0], 2: [0, 6, 0]}\n",
       " Number of Vehicles Assigned: 3Resources Used: {'fuel_fee': 5746.339999999999, 'distance': 200.159, 'delivery_time': 169.01, 'service_time': 220, 'vehicle_fixed_cost': 3700, 'driver_cost': 1089.2279999999998},\n",
       " Chromosome: {0: [0, 6, 5, 3, 0], 1: [0, 8, 2, 4, 1, 0], 2: [0, 7, 0]}\n",
       " Number of Vehicles Assigned: 3Resources Used: {'fuel_fee': 5848.34, 'distance': 202.56099999999998, 'delivery_time': 172.01, 'service_time': 220, 'vehicle_fixed_cost': 3700, 'driver_cost': 1097.628},\n",
       " Chromosome: {0: [0, 2, 7, 0], 1: [0, 1, 5, 3, 8, 0], 2: [0, 4, 6, 0]}\n",
       " Number of Vehicles Assigned: 3Resources Used: {'fuel_fee': 5791.5599999999995, 'distance': 213.40999999999997, 'delivery_time': 170.33999999999997, 'service_time': 220, 'vehicle_fixed_cost': 3700, 'driver_cost': 1092.952},\n",
       " Chromosome: {0: [0, 6, 7, 1, 2, 3, 0], 1: [0, 4, 5, 0], 2: [0, 8, 0]}\n",
       " Number of Vehicles Assigned: 3Resources Used: {'fuel_fee': 5941.839999932, 'distance': 215.69099999999997, 'delivery_time': 174.759999998, 'service_time': 220, 'vehicle_fixed_cost': 3700, 'driver_cost': 1105.3279999944},\n",
       " Chromosome: {0: [0, 8, 7, 3, 0], 1: [0, 5, 2, 1, 0], 2: [0, 4, 6, 0]}\n",
       " Number of Vehicles Assigned: 3Resources Used: {'fuel_fee': 5950.34, 'distance': 201.77999999999997, 'delivery_time': 175.01, 'service_time': 220, 'vehicle_fixed_cost': 3700, 'driver_cost': 1106.028},\n",
       " Chromosome: {0: [0, 2, 3, 8, 0], 1: [0, 1, 5, 6, 0], 2: [0, 7, 4, 0]}\n",
       " Number of Vehicles Assigned: 3Resources Used: {'fuel_fee': 5962.24, 'distance': 216.84300000000002, 'delivery_time': 175.36, 'service_time': 220, 'vehicle_fixed_cost': 3700, 'driver_cost': 1107.008},\n",
       " Chromosome: {0: [0, 5, 3, 2, 0, 8, 0], 1: [0, 1, 6, 0], 2: [0, 4, 7, 0]}\n",
       " Number of Vehicles Assigned: 3Resources Used: {'fuel_fee': 6008.480000068001, 'distance': 204.19000000000003, 'delivery_time': 176.720000002, 'service_time': 240, 'vehicle_fixed_cost': 3700, 'driver_cost': 1166.8160000056},\n",
       " Chromosome: {0: [0, 4, 0], 1: [0, 6, 2, 5, 1, 8, 0], 2: [0, 7, 3, 0]}\n",
       " Number of Vehicles Assigned: 3Resources Used: {'fuel_fee': 6035.339999931999, 'distance': 212.844, 'delivery_time': 177.50999999799998, 'service_time': 220, 'vehicle_fixed_cost': 3700, 'driver_cost': 1113.0279999944},\n",
       " Chromosome: {0: [0, 4, 5, 8, 0], 1: [0, 7, 2, 1, 0], 2: [0, 6, 3, 0]}\n",
       " Number of Vehicles Assigned: 3Resources Used: {'fuel_fee': 5849.02, 'distance': 214.038, 'delivery_time': 172.03, 'service_time': 220, 'vehicle_fixed_cost': 3700, 'driver_cost': 1097.6840000000002},\n",
       " Chromosome: {0: [0, 1, 0], 1: [0, 2, 5, 6, 7, 8, 0], 2: [0, 4, 3, 0]}\n",
       " Number of Vehicles Assigned: 3Resources Used: {'fuel_fee': 5947.280000000001, 'distance': 209.71, 'delivery_time': 174.92, 'service_time': 220, 'vehicle_fixed_cost': 3700, 'driver_cost': 1105.7759999999998},\n",
       " Chromosome: {0: [0, 1, 5, 2, 8, 0], 1: [0, 3, 4, 0], 2: [0, 6, 7, 0]}\n",
       " Number of Vehicles Assigned: 3Resources Used: {'fuel_fee': 5958.5, 'distance': 216.814, 'delivery_time': 175.25, 'service_time': 220, 'vehicle_fixed_cost': 3700, 'driver_cost': 1106.6999999999998},\n",
       " Chromosome: {0: [0, 7, 1, 0], 1: [0, 6, 2, 4, 8, 0], 2: [0, 3, 5, 0]}\n",
       " Number of Vehicles Assigned: 3Resources Used: {'fuel_fee': 5968.6999999320005, 'distance': 211.849, 'delivery_time': 175.549999998, 'service_time': 220, 'vehicle_fixed_cost': 3700, 'driver_cost': 1107.5399999944002},\n",
       " Chromosome: {0: [0, 2, 8, 0], 1: [0, 3, 1, 6, 4, 0], 2: [0, 7, 5, 0]}\n",
       " Number of Vehicles Assigned: 3Resources Used: {'fuel_fee': 5997.260000136001, 'distance': 218.099, 'delivery_time': 176.390000004, 'service_time': 220, 'vehicle_fixed_cost': 3700, 'driver_cost': 1109.8920000112},\n",
       " Chromosome: {0: [0, 4, 0], 1: [0, 8, 7, 2, 5, 1, 0, 6, 0], 2: [0, 3, 0]}\n",
       " Number of Vehicles Assigned: 3Resources Used: {'fuel_fee': 6236.62, 'distance': 218.248, 'delivery_time': 183.43, 'service_time': 240, 'vehicle_fixed_cost': 3700, 'driver_cost': 1185.6039999999998},\n",
       " Chromosome: {0: [0, 1, 7, 0], 1: [0, 4, 6, 3, 2, 0], 2: [0, 8, 5, 0]}\n",
       " Number of Vehicles Assigned: 3Resources Used: {'fuel_fee': 6117.62, 'distance': 220.18300000000002, 'delivery_time': 179.93, 'service_time': 220, 'vehicle_fixed_cost': 3700, 'driver_cost': 1119.804},\n",
       " Chromosome: {0: [0, 1, 8, 0], 1: [0, 4, 5, 2, 7, 0], 2: [0, 6, 3, 0]}\n",
       " Number of Vehicles Assigned: 3Resources Used: {'fuel_fee': 6078.52, 'distance': 226.28300000000002, 'delivery_time': 178.78, 'service_time': 220, 'vehicle_fixed_cost': 3700, 'driver_cost': 1116.5839999999998},\n",
       " Chromosome: {0: [0, 5, 7, 3, 0], 1: [0, 6, 4, 1, 2, 0], 2: [0, 8, 0]}\n",
       " Number of Vehicles Assigned: 3Resources Used: {'fuel_fee': 6260.079999932, 'distance': 227.66400000000002, 'delivery_time': 184.119999998, 'service_time': 220, 'vehicle_fixed_cost': 3700, 'driver_cost': 1131.5359999944},\n",
       " Chromosome: {0: [0, 2, 7, 0], 1: [0, 3, 6, 4, 1, 0], 2: [0, 8, 5, 0]}\n",
       " Number of Vehicles Assigned: 3Resources Used: {'fuel_fee': 6200.58, 'distance': 230.468, 'delivery_time': 182.37, 'service_time': 220, 'vehicle_fixed_cost': 3700, 'driver_cost': 1126.636},\n",
       " Chromosome: {0: [0, 6, 8, 0], 1: [0, 7, 1, 4, 5, 2, 0], 2: [0, 3, 0]}\n",
       " Number of Vehicles Assigned: 3Resources Used: {'fuel_fee': 6187.660000000001, 'distance': 232.506, 'delivery_time': 181.99, 'service_time': 220, 'vehicle_fixed_cost': 3700, 'driver_cost': 1125.572},\n",
       " Chromosome: {0: [0, 5, 1, 8, 0], 1: [0, 6, 4, 2, 0], 2: [0, 7, 3, 0]}\n",
       " Number of Vehicles Assigned: 3Resources Used: {'fuel_fee': 6243.76, 'distance': 233.793, 'delivery_time': 183.64, 'service_time': 220, 'vehicle_fixed_cost': 3700, 'driver_cost': 1130.192},\n",
       " Chromosome: {0: [0, 1, 5, 0], 1: [0, 6, 7, 2, 0], 2: [0, 8, 4, 3, 0]}\n",
       " Number of Vehicles Assigned: 3Resources Used: {'fuel_fee': 6348.820000000001, 'distance': 239.74999999999997, 'delivery_time': 186.73000000000002, 'service_time': 220, 'vehicle_fixed_cost': 3700, 'driver_cost': 1138.844},\n",
       " Chromosome: {0: [0, 1, 4, 0], 1: [0, 2, 3, 0], 2: [0, 7, 5, 8, 6, 0]}\n",
       " Number of Vehicles Assigned: 3Resources Used: {'fuel_fee': 6436.200000000001, 'distance': 242.443, 'delivery_time': 189.3, 'service_time': 220, 'vehicle_fixed_cost': 3700, 'driver_cost': 1146.04},\n",
       " Chromosome: {0: [0, 1, 6, 0], 1: [0, 5, 2, 8, 4, 0], 2: [0, 7, 3, 0]}\n",
       " Number of Vehicles Assigned: 3Resources Used: {'fuel_fee': 6648.700000067999, 'distance': 242.39800000000002, 'delivery_time': 195.550000002, 'service_time': 220, 'vehicle_fixed_cost': 3700, 'driver_cost': 1163.5400000056},\n",
       " Chromosome: {0: [0, 1, 8, 0], 1: [0, 4, 7, 2, 0], 2: [0, 6, 3, 5, 0]}\n",
       " Number of Vehicles Assigned: 3Resources Used: {'fuel_fee': 6245.459999999999, 'distance': 242.45, 'delivery_time': 183.69, 'service_time': 220, 'vehicle_fixed_cost': 3700, 'driver_cost': 1130.3319999999999},\n",
       " Chromosome: {0: [0, 2, 4, 6, 0], 1: [0, 1, 5, 0], 2: [0, 7, 3, 8, 0]}\n",
       " Number of Vehicles Assigned: 3Resources Used: {'fuel_fee': 6268.58, 'distance': 242.531, 'delivery_time': 184.37, 'service_time': 220, 'vehicle_fixed_cost': 3700, 'driver_cost': 1132.2359999999999},\n",
       " Chromosome: {0: [0, 5, 8, 3, 0], 1: [0, 1, 2, 0], 2: [0, 7, 6, 4, 0]}\n",
       " Number of Vehicles Assigned: 3Resources Used: {'fuel_fee': 6463.399999932, 'distance': 244.619, 'delivery_time': 190.099999998, 'service_time': 220, 'vehicle_fixed_cost': 3700, 'driver_cost': 1148.2799999944},\n",
       " Chromosome: {0: [0, 1, 0], 1: [0, 2, 5, 4, 8, 0], 2: [0, 6, 7, 3, 0]}\n",
       " Number of Vehicles Assigned: 3Resources Used: {'fuel_fee': 6339.639999999999, 'distance': 245.531, 'delivery_time': 186.45999999999998, 'service_time': 220, 'vehicle_fixed_cost': 3700, 'driver_cost': 1138.088},\n",
       " Chromosome: {0: [0, 5, 0], 1: [0, 4, 8, 2, 1, 0], 2: [0, 3, 6, 7, 0]}\n",
       " Number of Vehicles Assigned: 3Resources Used: {'fuel_fee': 6452.18, 'distance': 242.65, 'delivery_time': 189.77, 'service_time': 220, 'vehicle_fixed_cost': 3700, 'driver_cost': 1147.356},\n",
       " Chromosome: {0: [0, 7, 6, 0], 1: [0, 2, 1, 4, 0], 2: [0, 5, 8, 3, 0]}\n",
       " Number of Vehicles Assigned: 3Resources Used: {'fuel_fee': 6468.5, 'distance': 244.984, 'delivery_time': 190.25, 'service_time': 220, 'vehicle_fixed_cost': 3700, 'driver_cost': 1148.7},\n",
       " Chromosome: {0: [0, 4, 2, 6, 0], 1: [0, 3, 7, 1, 0], 2: [0, 5, 8, 0]}\n",
       " Number of Vehicles Assigned: 3Resources Used: {'fuel_fee': 6553.500000068, 'distance': 254.13799999999998, 'delivery_time': 192.750000002, 'service_time': 220, 'vehicle_fixed_cost': 3700, 'driver_cost': 1155.7000000056},\n",
       " Chromosome: {0: [0, 6, 4, 5, 7, 0, 8, 0], 1: [0, 2, 1, 0], 2: [0, 3, 0]}\n",
       " Number of Vehicles Assigned: 3Resources Used: {'fuel_fee': 6147.2, 'distance': 226.14999999999998, 'delivery_time': 180.8, 'service_time': 240, 'vehicle_fixed_cost': 3700, 'driver_cost': 1178.2399999999998},\n",
       " Chromosome: {0: [0, 3, 4, 5, 0, 8, 2, 0], 1: [0, 7, 1, 0], 2: [0, 6, 0]}\n",
       " Number of Vehicles Assigned: 3Resources Used: {'fuel_fee': 6625.24, 'distance': 262.104, 'delivery_time': 194.86, 'service_time': 240, 'vehicle_fixed_cost': 3700, 'driver_cost': 1217.608},\n",
       " Chromosome: {0: [0, 6, 0], 1: [0, 8, 1, 2, 4, 0, 3, 0], 2: [0, 7, 5, 0]}\n",
       " Number of Vehicles Assigned: 3Resources Used: {'fuel_fee': 6831.959999932, 'distance': 258.95000000000005, 'delivery_time': 200.93999999799996, 'service_time': 240, 'vehicle_fixed_cost': 3700, 'driver_cost': 1234.6319999943998},\n",
       " Chromosome: {0: [0, 4, 2, 8, 0, 1, 0], 1: [0, 7, 3, 0], 2: [0, 5, 6, 0]}\n",
       " Number of Vehicles Assigned: 3Resources Used: {'fuel_fee': 6958.780000000001, 'distance': 268.908, 'delivery_time': 204.67, 'service_time': 240, 'vehicle_fixed_cost': 3700, 'driver_cost': 1245.076},\n",
       " Chromosome: {0: [0, 6, 7, 3, 0], 1: [0, 4, 8, 2, 1, 0], 2: [0, 5, 0]}\n",
       " Number of Vehicles Assigned: 3Resources Used: {'fuel_fee': 6843.18, 'distance': 270.741, 'delivery_time': 201.26999999999998, 'service_time': 220, 'vehicle_fixed_cost': 3700, 'driver_cost': 1179.556},\n",
       " Chromosome: {0: [0, 2, 8, 1, 0], 1: [0, 5, 0], 2: [0, 4, 6, 7, 3, 0]}\n",
       " Number of Vehicles Assigned: 3Resources Used: {'fuel_fee': 7148.84, 'distance': 291.99699999999996, 'delivery_time': 210.26, 'service_time': 220, 'vehicle_fixed_cost': 3700, 'driver_cost': 1204.728},\n",
       " Chromosome: {0: [0, 2, 4, 0], 1: [0, 1, 8, 3, 0], 2: [0, 6, 7, 5, 0]}\n",
       " Number of Vehicles Assigned: 3Resources Used: {'fuel_fee': 7148.5, 'distance': 293.061, 'delivery_time': 210.25, 'service_time': 220, 'vehicle_fixed_cost': 3700, 'driver_cost': 1204.6999999999998},\n",
       " Chromosome: {0: [0, 3, 0], 1: [0, 1, 2, 5, 8, 0, 4, 0], 2: [0, 6, 7, 0]}\n",
       " Number of Vehicles Assigned: 3Resources Used: {'fuel_fee': 6478.3599999319995, 'distance': 238.32, 'delivery_time': 190.53999999799998, 'service_time': 240, 'vehicle_fixed_cost': 3700, 'driver_cost': 1205.5119999944},\n",
       " Chromosome: {0: [0, 5, 1, 0], 1: [0, 2, 0], 2: [0, 3, 7, 6, 4, 8, 0]}\n",
       " Number of Vehicles Assigned: 3Resources Used: {'fuel_fee': 6408.66, 'distance': 239.634, 'delivery_time': 188.48999999999998, 'service_time': 220, 'vehicle_fixed_cost': 3700, 'driver_cost': 1143.772},\n",
       " Chromosome: {0: [0, 8, 2, 4, 0, 7, 3, 0], 1: [0, 6, 1, 0], 2: [0, 5, 0]}\n",
       " Number of Vehicles Assigned: 3Resources Used: {'fuel_fee': 6956.740000000001, 'distance': 263.578, 'delivery_time': 204.61, 'service_time': 240, 'vehicle_fixed_cost': 3700, 'driver_cost': 1244.9080000000004}]"
      ]
     },
     "execution_count": 11,
     "metadata": {},
     "output_type": "execute_result"
    }
   ],
   "source": [
    "sorted(solutions)"
   ]
  },
  {
   "cell_type": "code",
   "execution_count": 7,
   "id": "7bbd8b11",
   "metadata": {},
   "outputs": [],
   "source": [
    "factory = BuilderFactory() #0, [0, 7, 6, 3, 2, 0, 4, 8, 0]"
   ]
  },
  {
   "cell_type": "code",
   "execution_count": 8,
   "id": "91ada88b",
   "metadata": {},
   "outputs": [
    {
     "data": {
      "text/plain": [
       "False"
      ]
     },
     "execution_count": 8,
     "metadata": {},
     "output_type": "execute_result"
    }
   ],
   "source": [
    "checker._is_need_to_replenish_during_delivery(0, [0, 8, 5, 2, 0, 6, 0])"
   ]
  },
  {
   "cell_type": "code",
   "execution_count": 9,
   "id": "908ea8be",
   "metadata": {},
   "outputs": [
    {
     "data": {
      "text/plain": [
       "{'fuel_fee': 3061.36,\n",
       " 'distance': 108.152,\n",
       " 'delivery_time': 90.04,\n",
       " 'service_time': 120,\n",
       " 'vehicle_fixed_cost': 1000,\n",
       " 'driver_cost': 588.1120000000001}"
      ]
     },
     "execution_count": 9,
     "metadata": {},
     "output_type": "execute_result"
    }
   ],
   "source": [
    "resource_calc.calculate_route_resources(0, [0, 8, 5, 2, 0, 6, 0])"
   ]
  },
  {
   "cell_type": "code",
   "execution_count": 10,
   "id": "041fcc3a",
   "metadata": {},
   "outputs": [
    {
     "data": {
      "text/plain": [
       "{'fuel_fee': 3272.16,\n",
       " 'distance': 116.916,\n",
       " 'delivery_time': 96.24,\n",
       " 'service_time': 120,\n",
       " 'vehicle_fixed_cost': 1000,\n",
       " 'driver_cost': 605.472}"
      ]
     },
     "execution_count": 10,
     "metadata": {},
     "output_type": "execute_result"
    }
   ],
   "source": [
    "resource_calc.calculate_route_resources(0, [0, 5,2,8 , 0, 6, 0])"
   ]
  },
  {
   "cell_type": "code",
   "execution_count": null,
   "id": "adca8d22",
   "metadata": {},
   "outputs": [],
   "source": []
  }
 ],
 "metadata": {
  "kernelspec": {
   "display_name": "Python 3 (ipykernel)",
   "language": "python",
   "name": "python3"
  },
  "language_info": {
   "codemirror_mode": {
    "name": "ipython",
    "version": 3
   },
   "file_extension": ".py",
   "mimetype": "text/x-python",
   "name": "python",
   "nbconvert_exporter": "python",
   "pygments_lexer": "ipython3",
   "version": "3.9.12"
  }
 },
 "nbformat": 4,
 "nbformat_minor": 5
}
