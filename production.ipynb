{
 "cells": [
  {
   "cell_type": "code",
   "execution_count": 1,
   "id": "f35778d3",
   "metadata": {},
   "outputs": [],
   "source": [
    "from utilities import SolutionGenerator, ConstraintChecker,BuilderFactory,RouteResourceCalculator\n",
    "from typing import List\n",
    "from random import random, choices\n",
    "import math"
   ]
  },
  {
   "cell_type": "code",
   "execution_count": 2,
   "id": "525e972b",
   "metadata": {},
   "outputs": [
    {
     "name": "stdout",
     "output_type": "stream",
     "text": [
      "Available Depot Names: [0, 1, 2, 3, 4, 5, 6, 7, 8]\n",
      "Available Vehicle Names: [0, 1, 2]\n"
     ]
    }
   ],
   "source": [
    "generator = SolutionGenerator()\n",
    "checker = ConstraintChecker()\n",
    "factory = BuilderFactory()\n",
    "resource_calc = RouteResourceCalculator()"
   ]
  },
  {
   "cell_type": "code",
   "execution_count": 3,
   "id": "d9b4f869",
   "metadata": {},
   "outputs": [
    {
     "data": {
      "text/plain": [
       "[0, 1, 3, 4, 7]"
      ]
     },
     "execution_count": 3,
     "metadata": {},
     "output_type": "execute_result"
    }
   ],
   "source": [
    "factory.depot_builder.all_depot_names_with_time_window_constraint"
   ]
  },
  {
   "cell_type": "code",
   "execution_count": null,
   "id": "44fc0f34",
   "metadata": {
    "scrolled": true
   },
   "outputs": [
    {
     "name": "stdout",
     "output_type": "stream",
     "text": [
      "Function '_generate_initial_raw_solution' executed in 0.0761s\t**Depot 4 Is Not Assigned**\n",
      "Function '_generate_initial_raw_solution' executed in 0.0338s\t**Depot 4 Is Not Assigned**\n",
      "Function '_generate_initial_raw_solution' executed in 0.0310s\t**Depot 4 Is Not Assigned**\n",
      "Function '_generate_initial_raw_solution' executed in 0.0310s\t**Depot 4 Is Not Assigned**\n",
      "Function '_generate_initial_raw_solution' executed in 0.0309s\t**Depot 4 Is Not Assigned**\n",
      "Function '_generate_initial_raw_solution' executed in 0.0309s\t**Depot 4 Is Not Assigned**\n",
      "Function '_generate_initial_raw_solution' executed in 0.1871s\tNo. 1 Success\n",
      "Function '_generate_initial_raw_solution' executed in 0.1825s\tNo. 2 Success\n",
      "Function '_generate_initial_raw_solution' executed in 0.0337s\t**Depot 4 Is Not Assigned**\n",
      "Function '_generate_initial_raw_solution' executed in 0.0331s\t**Depot 4 Is Not Assigned**\n",
      "Function '_generate_initial_raw_solution' executed in 0.0327s\t**Depot 4 Is Not Assigned**\n",
      "Function '_generate_initial_raw_solution' executed in 0.0447s\t**Depot 4 Is Not Assigned**\n",
      "Function '_generate_initial_raw_solution' executed in 0.0417s\t**Depot 4 Is Not Assigned**\n",
      "Function '_generate_initial_raw_solution' executed in 0.0312s\t**Depot 4 Is Not Assigned**\n",
      "Function '_generate_initial_raw_solution' executed in 0.0322s\t**Depot 4 Is Not Assigned**\n",
      "Function '_generate_initial_raw_solution' executed in 0.0322s\t**Depot 4 Is Not Assigned**\n",
      "Function '_generate_initial_raw_solution' executed in 0.0410s\t**Depot 4 Is Not Assigned**\n",
      "Function '_generate_initial_raw_solution' executed in 0.0310s\t**Depot 4 Is Not Assigned**\n",
      "Function '_generate_initial_raw_solution' executed in 0.0310s\t**Depot 4 Is Not Assigned**\n",
      "Function '_generate_initial_raw_solution' executed in 0.0376s\t**Depot 4 Is Not Assigned**\n",
      "Function '_generate_initial_raw_solution' executed in 0.2309s\tNo. 3 Success\n",
      "Function '_generate_initial_raw_solution' executed in 0.0398s\t**Depot 4 Is Not Assigned**\n",
      "Function '_generate_initial_raw_solution' executed in 0.1957s\tNo. 4 Success\n",
      "Function '_generate_initial_raw_solution' executed in 0.0335s\t**Depot 4 Is Not Assigned**\n",
      "Function '_generate_initial_raw_solution' executed in 0.0318s\t**Depot 4 Is Not Assigned**\n",
      "Function '_generate_initial_raw_solution' executed in 0.0314s\t**Depot 4 Is Not Assigned**\n",
      "Function '_generate_initial_raw_solution' executed in 0.0315s\t**Depot 4 Is Not Assigned**\n",
      "Function '_generate_initial_raw_solution' executed in 0.0452s\t**Depot 4 Is Not Assigned**\n",
      "Function '_generate_initial_raw_solution' executed in 0.1800s\tNo. 5 Success\n",
      "Function '_generate_initial_raw_solution' executed in 0.0415s\t**Depot 4 Is Not Assigned**\n",
      "Function '_generate_initial_raw_solution' executed in 0.1806s\tNo. 6 Success\n",
      "Function '_generate_initial_raw_solution' executed in 0.1756s\tNo. 7 Success\n",
      "Function '_generate_initial_raw_solution' executed in 0.0410s\t**Depot 4 Is Not Assigned**\n",
      "Function '_generate_initial_raw_solution' executed in 0.0427s\t**Depot 4 Is Not Assigned**\n",
      "Function '_generate_initial_raw_solution' executed in 0.0327s\t**Depot 4 Is Not Assigned**\n",
      "Function '_generate_initial_raw_solution' executed in 0.0418s\t**Depot 4 Is Not Assigned**\n",
      "Function '_generate_initial_raw_solution' executed in 0.1990s\t**Same Answer Generated**\n",
      "Function '_generate_initial_raw_solution' executed in 0.0499s\t**Depot 4 Is Not Assigned**\n",
      "Function '_generate_initial_raw_solution' executed in 0.2165s\tNo. 8 Success\n",
      "Function '_generate_initial_raw_solution' executed in 0.0574s\t**Depot 4 Is Not Assigned**\n",
      "Function '_generate_initial_raw_solution' executed in 0.2798s\tNo. 9 Success\n",
      "Function '_generate_initial_raw_solution' executed in 0.1701s\tNo. 10 Success\n",
      "Function '_generate_initial_raw_solution' executed in 0.0327s\t**Depot 4 Is Not Assigned**\n",
      "Function '_generate_initial_raw_solution' executed in 0.0379s\t**Depot 4 Is Not Assigned**\n",
      "Function '_generate_initial_raw_solution' executed in 0.2101s\tNo. 11 Success\n",
      "Function '_generate_initial_raw_solution' executed in 0.0335s\t**Depot 4 Is Not Assigned**\n",
      "Function '_generate_initial_raw_solution' executed in 0.0354s\t**Depot 4 Is Not Assigned**\n",
      "Function '_generate_initial_raw_solution' executed in 0.1663s\tNo. 12 Success\n",
      "Function '_generate_initial_raw_solution' executed in 0.1800s\tNo. 13 Success\n",
      "Function '_generate_initial_raw_solution' executed in 0.2060s\tNo. 14 Success\n",
      "Function '_generate_initial_raw_solution' executed in 0.0360s\t**Depot 4 Is Not Assigned**\n",
      "Function '_generate_initial_raw_solution' executed in 0.0369s\t**Depot 4 Is Not Assigned**\n",
      "Function '_generate_initial_raw_solution' executed in 0.1687s\tNo. 15 Success\n",
      "Function '_generate_initial_raw_solution' executed in 0.1945s\tNo. 16 Success\n",
      "Function '_generate_initial_raw_solution' executed in 0.0339s\t**Depot 4 Is Not Assigned**\n",
      "Function '_generate_initial_raw_solution' executed in 0.2239s\tNo. 17 Success\n",
      "Function '_generate_initial_raw_solution' executed in 0.0317s\t**Depot 4 Is Not Assigned**\n",
      "Function '_generate_initial_raw_solution' executed in 0.1823s\tNo. 18 Success\n",
      "Function '_generate_initial_raw_solution' executed in 0.1816s\tNo. 19 Success\n",
      "Function '_generate_initial_raw_solution' executed in 0.0316s\t**Depot 4 Is Not Assigned**\n",
      "Function '_generate_initial_raw_solution' executed in 0.0325s\t**Depot 4 Is Not Assigned**\n",
      "Function '_generate_initial_raw_solution' executed in 0.0311s\t**Depot 4 Is Not Assigned**\n",
      "Function '_generate_initial_raw_solution' executed in 0.0308s\t**Depot 4 Is Not Assigned**\n",
      "Function '_generate_initial_raw_solution' executed in 0.0309s\t**Depot 4 Is Not Assigned**\n",
      "Function '_generate_initial_raw_solution' executed in 0.0308s\t**Depot 4 Is Not Assigned**\n",
      "Function '_generate_initial_raw_solution' executed in 0.1821s\tNo. 20 Success\n",
      "Function '_generate_initial_raw_solution' executed in 0.0411s\t**Depot 4 Is Not Assigned**\n",
      "Function '_generate_initial_raw_solution' executed in 0.0409s\t**Depot 4 Is Not Assigned**\n",
      "Function '_generate_initial_raw_solution' executed in 0.1642s\tNo. 21 Success\n",
      "Function '_generate_initial_raw_solution' executed in 0.0312s\t**Depot 4 Is Not Assigned**\n",
      "Function '_generate_initial_raw_solution' executed in 0.0413s\t**Depot 4 Is Not Assigned**\n",
      "Function '_generate_initial_raw_solution' executed in 0.0315s\t**Depot 4 Is Not Assigned**\n",
      "Function '_generate_initial_raw_solution' executed in 0.0423s\t**Depot 4 Is Not Assigned**\n",
      "Function '_generate_initial_raw_solution' executed in 0.0407s\t**Depot 4 Is Not Assigned**\n",
      "Function '_generate_initial_raw_solution' executed in 0.0545s\t**Depot 4 Is Not Assigned**\n",
      "Function '_generate_initial_raw_solution' executed in 0.0327s\t**Depot 4 Is Not Assigned**\n",
      "Function '_generate_initial_raw_solution' executed in 0.0317s\t**Depot 4 Is Not Assigned**\n",
      "Function '_generate_initial_raw_solution' executed in 0.1657s\tNo. 22 Success\n",
      "Function '_generate_initial_raw_solution' executed in 0.0325s\t**Depot 4 Is Not Assigned**\n",
      "Function '_generate_initial_raw_solution' executed in 0.1815s\t**Same Answer Generated**\n",
      "Function '_generate_initial_raw_solution' executed in 0.2857s\tNo. 23 Success\n",
      "Function '_generate_initial_raw_solution' executed in 0.0356s\t**Depot 4 Is Not Assigned**\n",
      "Function '_generate_initial_raw_solution' executed in 0.1981s\tNo. 24 Success\n",
      "Function '_generate_initial_raw_solution' executed in 0.0317s\t**Depot 4 Is Not Assigned**\n",
      "Function '_generate_initial_raw_solution' executed in 0.2630s\tNo. 25 Success\n",
      "Function '_generate_initial_raw_solution' executed in 0.2604s\t**Same Answer Generated**\n",
      "Function '_generate_initial_raw_solution' executed in 0.2150s\tNo. 26 Success\n",
      "Function '_generate_initial_raw_solution' executed in 0.0390s\t**Depot 4 Is Not Assigned**\n",
      "Function '_generate_initial_raw_solution' executed in 0.0398s\t**Depot 4 Is Not Assigned**\n",
      "Function '_generate_initial_raw_solution' executed in 0.0421s\t**Depot 4 Is Not Assigned**\n",
      "Function '_generate_initial_raw_solution' executed in 0.0508s\t**Depot 4 Is Not Assigned**\n",
      "Function '_generate_initial_raw_solution' executed in 0.0678s\t**Depot 4 Is Not Assigned**\n",
      "Function '_generate_initial_raw_solution' executed in 0.0639s\t**Depot 4 Is Not Assigned**\n",
      "Function '_generate_initial_raw_solution' executed in 0.0444s\t**Depot 4 Is Not Assigned**\n",
      "Function '_generate_initial_raw_solution' executed in 0.2268s\tNo. 27 Success\n",
      "Function '_generate_initial_raw_solution' executed in 0.0480s\t**Depot 4 Is Not Assigned**\n"
     ]
    },
    {
     "name": "stdout",
     "output_type": "stream",
     "text": [
      "Function '_generate_initial_raw_solution' executed in 0.1832s\tNo. 28 Success\n",
      "Function '_generate_initial_raw_solution' executed in 0.0341s\t**Depot 4 Is Not Assigned**\n",
      "Function '_generate_initial_raw_solution' executed in 0.2069s\t**Same Answer Generated**\n",
      "Function '_generate_initial_raw_solution' executed in 0.0347s\t**Depot 4 Is Not Assigned**\n",
      "Function '_generate_initial_raw_solution' executed in 0.0336s\t**Depot 4 Is Not Assigned**\n",
      "Function '_generate_initial_raw_solution' executed in 0.0343s\t**Depot 4 Is Not Assigned**\n",
      "Function '_generate_initial_raw_solution' executed in 0.0347s\t**Depot 4 Is Not Assigned**\n",
      "Function '_generate_initial_raw_solution' executed in 0.0343s\t**Depot 4 Is Not Assigned**\n",
      "Function '_generate_initial_raw_solution' executed in 0.1904s\tNo. 29 Success\n",
      "Function '_generate_initial_raw_solution' executed in 0.0339s\t**Depot 4 Is Not Assigned**\n",
      "Function '_generate_initial_raw_solution' executed in 0.0335s\t**Depot 4 Is Not Assigned**\n",
      "Function '_generate_initial_raw_solution' executed in 0.2093s\tNo. 30 Success\n",
      "Function '_generate_initial_raw_solution' executed in 0.1972s\t**Same Answer Generated**\n",
      "Function '_generate_initial_raw_solution' executed in 0.0464s\t**Depot 4 Is Not Assigned**\n",
      "Function '_generate_initial_raw_solution' executed in 0.0337s\t**Depot 4 Is Not Assigned**\n",
      "Function '_generate_initial_raw_solution' executed in 0.0340s\t**Depot 4 Is Not Assigned**\n",
      "Function '_generate_initial_raw_solution' executed in 0.0341s\t**Depot 4 Is Not Assigned**\n",
      "Function '_generate_initial_raw_solution' executed in 0.0340s\t**Depot 4 Is Not Assigned**\n",
      "Function '_generate_initial_raw_solution' executed in 0.0336s\t**Depot 4 Is Not Assigned**\n",
      "Function '_generate_initial_raw_solution' executed in 0.0338s\t**Depot 4 Is Not Assigned**\n",
      "Function '_generate_initial_raw_solution' executed in 0.0465s\t**Depot 4 Is Not Assigned**\n",
      "Function '_generate_initial_raw_solution' executed in 0.0348s\t**Depot 4 Is Not Assigned**\n",
      "Function '_generate_initial_raw_solution' executed in 0.0342s\t**Depot 4 Is Not Assigned**\n",
      "Function '_generate_initial_raw_solution' executed in 0.0337s\t**Depot 4 Is Not Assigned**\n",
      "Function '_generate_initial_raw_solution' executed in 0.0444s\t**Depot 4 Is Not Assigned**\n",
      "Function '_generate_initial_raw_solution' executed in 0.0338s\t**Depot 4 Is Not Assigned**\n",
      "Function '_generate_initial_raw_solution' executed in 0.0459s\t**Depot 4 Is Not Assigned**\n",
      "Function '_generate_initial_raw_solution' executed in 0.0449s\t**Depot 4 Is Not Assigned**\n",
      "Function '_generate_initial_raw_solution' executed in 0.0346s\t**Depot 4 Is Not Assigned**\n",
      "Function '_generate_initial_raw_solution' executed in 0.2048s\t**Same Answer Generated**\n",
      "Function '_generate_initial_raw_solution' executed in 0.0340s\t**Depot 4 Is Not Assigned**\n",
      "Function '_generate_initial_raw_solution' executed in 0.0345s\t**Depot 4 Is Not Assigned**\n",
      "Function '_generate_initial_raw_solution' executed in 0.2022s\tNo. 31 Success\n",
      "Function '_generate_initial_raw_solution' executed in 0.0346s\t**Depot 4 Is Not Assigned**\n",
      "Function '_generate_initial_raw_solution' executed in 0.1981s\tNo. 32 Success\n",
      "Function '_generate_initial_raw_solution' executed in 0.1967s\tNo. 33 Success\n",
      "Function '_generate_initial_raw_solution' executed in 0.1936s\t**Same Answer Generated**\n",
      "Function '_generate_initial_raw_solution' executed in 0.0474s\t**Depot 4 Is Not Assigned**\n",
      "Function '_generate_initial_raw_solution' executed in 0.0372s\t**Depot 4 Is Not Assigned**\n",
      "Function '_generate_initial_raw_solution' executed in 0.0343s\t**Depot 4 Is Not Assigned**\n",
      "Function '_generate_initial_raw_solution' executed in 0.1798s\t**Same Answer Generated**\n",
      "Function '_generate_initial_raw_solution' executed in 0.0353s\t**Depot 4 Is Not Assigned**\n",
      "Function '_generate_initial_raw_solution' executed in 0.0448s\t**Depot 4 Is Not Assigned**\n",
      "Function '_generate_initial_raw_solution' executed in 0.0341s\t**Depot 4 Is Not Assigned**\n",
      "Function '_generate_initial_raw_solution' executed in 0.0346s\t**Depot 4 Is Not Assigned**\n",
      "Function '_generate_initial_raw_solution' executed in 0.0339s\t**Depot 4 Is Not Assigned**\n",
      "Function '_generate_initial_raw_solution' executed in 0.1980s\tNo. 34 Success\n",
      "Function '_generate_initial_raw_solution' executed in 0.1765s\tNo. 35 Success\n",
      "Function '_generate_initial_raw_solution' executed in 0.0358s\t**Depot 4 Is Not Assigned**\n",
      "Function '_generate_initial_raw_solution' executed in 0.0347s\t**Depot 4 Is Not Assigned**\n",
      "Function '_generate_initial_raw_solution' executed in 0.1800s\tNo. 36 Success\n",
      "Function '_generate_initial_raw_solution' executed in 0.1870s\t**Same Answer Generated**\n",
      "Function '_generate_initial_raw_solution' executed in 0.0323s\t**Depot 4 Is Not Assigned**\n",
      "Function '_generate_initial_raw_solution' executed in 0.0313s\t**Depot 4 Is Not Assigned**\n",
      "Function '_generate_initial_raw_solution' executed in 0.0309s\t**Depot 4 Is Not Assigned**\n",
      "Function '_generate_initial_raw_solution' executed in 0.0309s\t**Depot 4 Is Not Assigned**\n",
      "Function '_generate_initial_raw_solution' executed in 0.0309s\t**Depot 4 Is Not Assigned**\n",
      "Function '_generate_initial_raw_solution' executed in 0.0308s\t**Depot 4 Is Not Assigned**\n",
      "Function '_generate_initial_raw_solution' executed in 0.0410s\t**Depot 4 Is Not Assigned**\n",
      "Function '_generate_initial_raw_solution' executed in 0.0322s\t**Depot 4 Is Not Assigned**\n",
      "Function '_generate_initial_raw_solution' executed in 0.0311s\t**Depot 4 Is Not Assigned**\n",
      "Function '_generate_initial_raw_solution' executed in 0.0309s\t**Depot 4 Is Not Assigned**\n",
      "Function '_generate_initial_raw_solution' executed in 0.0309s\t**Depot 4 Is Not Assigned**\n",
      "Function '_generate_initial_raw_solution' executed in 0.0410s\t**Depot 4 Is Not Assigned**\n",
      "Function '_generate_initial_raw_solution' executed in 0.1796s\tNo. 37 Success\n",
      "Function '_generate_initial_raw_solution' executed in 0.0414s\t**Depot 4 Is Not Assigned**\n",
      "Function '_generate_initial_raw_solution' executed in 0.0309s\t**Depot 4 Is Not Assigned**\n",
      "Function '_generate_initial_raw_solution' executed in 0.0346s\t**Depot 4 Is Not Assigned**\n",
      "Function '_generate_initial_raw_solution' executed in 0.0347s\t**Depot 4 Is Not Assigned**\n",
      "Function '_generate_initial_raw_solution' executed in 0.0339s\t**Depot 4 Is Not Assigned**\n",
      "Function '_generate_initial_raw_solution' executed in 0.0355s\t**Depot 4 Is Not Assigned**\n",
      "Function '_generate_initial_raw_solution' executed in 0.0458s\t**Depot 4 Is Not Assigned**\n",
      "Function '_generate_initial_raw_solution' executed in 0.0497s\t**Depot 4 Is Not Assigned**\n",
      "Function '_generate_initial_raw_solution' executed in 0.0487s\t**Depot 4 Is Not Assigned**\n",
      "Function '_generate_initial_raw_solution' executed in 0.0497s\t**Depot 4 Is Not Assigned**\n",
      "Function '_generate_initial_raw_solution' executed in 0.0404s\t**Depot 4 Is Not Assigned**\n",
      "Function '_generate_initial_raw_solution' executed in 0.0358s\t**Depot 4 Is Not Assigned**\n",
      "Function '_generate_initial_raw_solution' executed in 0.0344s\t**Depot 4 Is Not Assigned**\n",
      "Function '_generate_initial_raw_solution' executed in 0.1908s\tNo. 38 Success\n",
      "Function '_generate_initial_raw_solution' executed in 0.0439s\t**Depot 4 Is Not Assigned**\n",
      "Function '_generate_initial_raw_solution' executed in 0.1928s\t**Same Answer Generated**\n",
      "Function '_generate_initial_raw_solution' executed in 0.2307s\tNo. 39 Success\n",
      "Function '_generate_initial_raw_solution' executed in 0.0360s\t**Depot 4 Is Not Assigned**\n",
      "Function '_generate_initial_raw_solution' executed in 0.1884s\t**Same Answer Generated**\n",
      "Function '_generate_initial_raw_solution' executed in 0.0323s\t**Depot 4 Is Not Assigned**\n",
      "Function '_generate_initial_raw_solution' executed in 0.0313s\t**Depot 4 Is Not Assigned**\n",
      "Function '_generate_initial_raw_solution' executed in 0.2745s\tNo. 40 Success\n",
      "Function '_generate_initial_raw_solution' executed in 0.2406s\tNo. 41 Success\n",
      "Function '_generate_initial_raw_solution' executed in 0.0347s\t**Depot 4 Is Not Assigned**\n",
      "Function '_generate_initial_raw_solution' executed in 0.0449s\t**Depot 4 Is Not Assigned**\n",
      "Function '_generate_initial_raw_solution' executed in 0.0337s\t**Depot 4 Is Not Assigned**\n",
      "Function '_generate_initial_raw_solution' executed in 0.0449s\t**Depot 4 Is Not Assigned**\n",
      "Function '_generate_initial_raw_solution' executed in 0.0370s\t**Depot 4 Is Not Assigned**\n",
      "Function '_generate_initial_raw_solution' executed in 0.1910s\tNo. 42 Success\n"
     ]
    },
    {
     "name": "stdout",
     "output_type": "stream",
     "text": [
      "Function '_generate_initial_raw_solution' executed in 0.0327s\t**Depot 4 Is Not Assigned**\n",
      "Function '_generate_initial_raw_solution' executed in 0.0326s\t**Depot 4 Is Not Assigned**\n",
      "Function '_generate_initial_raw_solution' executed in 0.0311s\t**Depot 4 Is Not Assigned**\n",
      "Function '_generate_initial_raw_solution' executed in 0.0309s\t**Depot 4 Is Not Assigned**\n",
      "Function '_generate_initial_raw_solution' executed in 0.0309s\t**Depot 4 Is Not Assigned**\n",
      "Function '_generate_initial_raw_solution' executed in 0.0309s\t**Depot 4 Is Not Assigned**\n",
      "Function '_generate_initial_raw_solution' executed in 0.1821s\tNo. 43 Success\n",
      "Function '_generate_initial_raw_solution' executed in 0.2236s\t**Same Answer Generated**\n",
      "Function '_generate_initial_raw_solution' executed in 0.0348s\t**Depot 4 Is Not Assigned**\n",
      "Function '_generate_initial_raw_solution' executed in 0.1972s\tNo. 44 Success\n",
      "Function '_generate_initial_raw_solution' executed in 0.0414s\t**Depot 4 Is Not Assigned**\n",
      "Function '_generate_initial_raw_solution' executed in 0.0311s\t**Depot 4 Is Not Assigned**\n",
      "Function '_generate_initial_raw_solution' executed in 0.0320s\t**Depot 4 Is Not Assigned**\n",
      "Function '_generate_initial_raw_solution' executed in 0.0313s\t**Depot 4 Is Not Assigned**\n",
      "Function '_generate_initial_raw_solution' executed in 0.1867s\t**Same Answer Generated**\n",
      "Function '_generate_initial_raw_solution' executed in 0.0317s\t**Depot 4 Is Not Assigned**\n",
      "Function '_generate_initial_raw_solution' executed in 0.0422s\t**Depot 4 Is Not Assigned**\n",
      "Function '_generate_initial_raw_solution' executed in 0.0327s\t**Depot 4 Is Not Assigned**\n",
      "Function '_generate_initial_raw_solution' executed in 0.0312s\t**Depot 4 Is Not Assigned**\n",
      "Function '_generate_initial_raw_solution' executed in 0.1663s\t**Same Answer Generated**\n",
      "Function '_generate_initial_raw_solution' executed in 0.0327s\t**Depot 4 Is Not Assigned**\n",
      "Function '_generate_initial_raw_solution' executed in 0.0313s\t**Depot 4 Is Not Assigned**\n",
      "Function '_generate_initial_raw_solution' executed in 0.0323s\t**Depot 4 Is Not Assigned**\n",
      "Function '_generate_initial_raw_solution' executed in 0.1909s\tNo. 45 Success\n",
      "Function '_generate_initial_raw_solution' executed in 0.1852s\t**Same Answer Generated**\n",
      "Function '_generate_initial_raw_solution' executed in 0.1680s\tNo. 46 Success\n",
      "Function '_generate_initial_raw_solution' executed in 0.1791s\t**Same Answer Generated**\n",
      "Function '_generate_initial_raw_solution' executed in 0.0320s\t**Depot 4 Is Not Assigned**\n",
      "Function '_generate_initial_raw_solution' executed in 0.1838s\tNo. 47 Success\n",
      "Function '_generate_initial_raw_solution' executed in 0.0317s\t**Depot 4 Is Not Assigned**\n",
      "Function '_generate_initial_raw_solution' executed in 0.1828s\tNo. 48 Success\n",
      "Function '_generate_initial_raw_solution' executed in 0.0317s\t**Depot 4 Is Not Assigned**\n",
      "Function '_generate_initial_raw_solution' executed in 0.1832s\tNo. 49 Success\n",
      "Function '_generate_initial_raw_solution' executed in 0.1883s\t**Same Answer Generated**\n",
      "Function '_generate_initial_raw_solution' executed in 0.0418s\t**Depot 4 Is Not Assigned**\n",
      "Function '_generate_initial_raw_solution' executed in 0.1864s\tNo. 50 Success\n",
      "Successful Rate: 22.12%\n",
      "Processing Solution Chromosomes...\n"
     ]
    },
    {
     "name": "stderr",
     "output_type": "stream",
     "text": [
      " 70%|█████████████████████████████████████████████████████████████████                            | 35/50 [00:08<00:03,  4.42it/s]"
     ]
    }
   ],
   "source": [
    "solution = generator.generate_valid_solutions(50)"
   ]
  },
  {
   "cell_type": "code",
   "execution_count": null,
   "id": "361ed6be",
   "metadata": {},
   "outputs": [],
   "source": [
    "solution"
   ]
  },
  {
   "cell_type": "code",
   "execution_count": 6,
   "id": "77f5c5cc",
   "metadata": {},
   "outputs": [],
   "source": [
    "class MutationStrategy:\n",
    "    @staticmethod\n",
    "    def single_point_mutate(route:List[int]) -> None:\n",
    "        print(\"Calling Single Point\")\n",
    "\n",
    "    @staticmethod\n",
    "    def two_points_mutate(route:List[int]) -> None:\n",
    "        print(\"Calling Two Points\")\n",
    "\n",
    "    @classmethod\n",
    "    def chose_mutation_strategy(cls):\n",
    "        all_strategy = [cls.single_point_mutate, cls.two_points_mutate]\n",
    "        return all_strategy"
   ]
  },
  {
   "cell_type": "code",
   "execution_count": 7,
   "id": "3ef9d4b6",
   "metadata": {},
   "outputs": [
    {
     "name": "stdout",
     "output_type": "stream",
     "text": [
      "Calling Single Point\n"
     ]
    }
   ],
   "source": [
    "MutationStrategy.chose_mutation_strategy()[0]([0,2,1])"
   ]
  },
  {
   "cell_type": "code",
   "execution_count": 8,
   "id": "a235564d",
   "metadata": {},
   "outputs": [],
   "source": [
    "test = [0,1,2,3,4,5,6,0]"
   ]
  },
  {
   "cell_type": "code",
   "execution_count": 9,
   "id": "1339e2c8",
   "metadata": {},
   "outputs": [],
   "source": [
    "def randomly_choose_index_position(route:List[int]) -> int:\n",
    "    is_choosing_warehose_depot = True\n",
    "    while (is_choosing_warehose_depot):\n",
    "        random_idx = math.floor((random() * len(route)))\n",
    "        if (route[random_idx] != 0):\n",
    "            is_choosing_warehose_depot = False\n",
    "    return random_idx\n",
    "\n",
    "def randomly_choose_two_different_index_positions(route:List[int]) -> List[int]:\n",
    "    first_point = randomly_choose_index_position(route)\n",
    "    second_point = randomly_choose_index_position(route)\n",
    "    while second_point == first_point:\n",
    "        second_point = randomly_choose_index_position(route)\n",
    "    left_ptr = min(first_point, second_point)\n",
    "    right_ptr = max(first_point, second_point)\n",
    "    \n",
    "    return [left_ptr, right_ptr]\n",
    "\n",
    "\n",
    "def swap_depots(route:List[int], x, y) -> None:\n",
    "    route[x], route[y] = route[y], route[x]\n",
    "\n",
    "def reverse_mutate(route:List[int]) -> None:\n",
    "    left_ptr, right_ptr = randomly_choose_two_different_index_positions(route)\n",
    "    \n",
    "    print(left_ptr, right_ptr)\n",
    "    while (left_ptr < right_ptr):\n",
    "        swap_depots(route, left_ptr, right_ptr)\n",
    "        \n",
    "        left_ptr += 1\n",
    "        right_ptr -= 1\n",
    "\n",
    "def two_points_mutate(route:List[int]) -> None:\n",
    "    left_ptr, right_ptr = randomly_choose_two_different_index_positions(route)\n",
    "    swap_depots(route, left_ptr, right_ptr)\n",
    "        \n",
    "    "
   ]
  },
  {
   "cell_type": "code",
   "execution_count": 10,
   "id": "a0fccf47",
   "metadata": {},
   "outputs": [
    {
     "name": "stdout",
     "output_type": "stream",
     "text": [
      "4 6\n"
     ]
    }
   ],
   "source": [
    "reverse_mutate(test)"
   ]
  },
  {
   "cell_type": "code",
   "execution_count": 11,
   "id": "06e38737",
   "metadata": {},
   "outputs": [
    {
     "data": {
      "text/plain": [
       "[0, 1, 2, 3, 6, 5, 4, 0]"
      ]
     },
     "execution_count": 11,
     "metadata": {},
     "output_type": "execute_result"
    }
   ],
   "source": [
    "test"
   ]
  },
  {
   "cell_type": "code",
   "execution_count": 12,
   "id": "795a7f2d",
   "metadata": {},
   "outputs": [],
   "source": [
    "swap_depots(test, 4,2)"
   ]
  },
  {
   "cell_type": "code",
   "execution_count": 13,
   "id": "abcfb0a3",
   "metadata": {},
   "outputs": [
    {
     "data": {
      "text/plain": [
       "[0, 1, 6, 3, 2, 5, 4, 0]"
      ]
     },
     "execution_count": 13,
     "metadata": {},
     "output_type": "execute_result"
    }
   ],
   "source": [
    "test"
   ]
  },
  {
   "cell_type": "code",
   "execution_count": null,
   "id": "7f4f0c2c",
   "metadata": {},
   "outputs": [],
   "source": []
  }
 ],
 "metadata": {
  "kernelspec": {
   "display_name": "Python 3 (ipykernel)",
   "language": "python",
   "name": "python3"
  },
  "language_info": {
   "codemirror_mode": {
    "name": "ipython",
    "version": 3
   },
   "file_extension": ".py",
   "mimetype": "text/x-python",
   "name": "python",
   "nbconvert_exporter": "python",
   "pygments_lexer": "ipython3",
   "version": "3.9.12"
  }
 },
 "nbformat": 4,
 "nbformat_minor": 5
}
