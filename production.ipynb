{
 "cells": [
  {
   "cell_type": "code",
   "execution_count": null,
   "id": "f35778d3",
   "metadata": {},
   "outputs": [],
   "source": [
    "from utilities import SolutionGenerator, ConstraintChecker,BuilderFactory,RouteResourceCalculator, SolutionChromosome, GeneticAlgorithm\n",
    "from typing import List\n",
    "from random import random, choices\n",
    "import math\n",
    "from copy import deepcopy"
   ]
  },
  {
   "cell_type": "code",
   "execution_count": null,
   "id": "525e972b",
   "metadata": {},
   "outputs": [],
   "source": [
    "generator = SolutionGenerator()\n",
    "checker = ConstraintChecker()\n",
    "factory = BuilderFactory()\n",
    "resource_calc = RouteResourceCalculator()"
   ]
  },
  {
   "cell_type": "code",
   "execution_count": null,
   "id": "44fc0f34",
   "metadata": {
    "scrolled": false
   },
   "outputs": [],
   "source": [
    "# solution = generator.generate_valid_solutions(5)\n",
    "# solution"
   ]
  },
  {
   "cell_type": "code",
   "execution_count": null,
   "id": "48888b93",
   "metadata": {},
   "outputs": [],
   "source": [
    "# solution[0].mutate(1)"
   ]
  },
  {
   "cell_type": "code",
   "execution_count": null,
   "id": "deef3610",
   "metadata": {},
   "outputs": [],
   "source": [
    "# solution[0].vehicles_can_be_chosen_for_mutation"
   ]
  },
  {
   "cell_type": "code",
   "execution_count": null,
   "id": "e32476dc",
   "metadata": {},
   "outputs": [],
   "source": [
    "# solution[0].mutate(1)"
   ]
  },
  {
   "cell_type": "code",
   "execution_count": null,
   "id": "2543c3ed",
   "metadata": {},
   "outputs": [],
   "source": [
    "# solution[-1].vehicles_can_be_chosen_for_crossover"
   ]
  },
  {
   "cell_type": "code",
   "execution_count": null,
   "id": "ba0ecd93",
   "metadata": {},
   "outputs": [],
   "source": [
    "# solution[-1].vehicles_can_be_chosen_for_mutation"
   ]
  },
  {
   "cell_type": "code",
   "execution_count": null,
   "id": "f6a97151",
   "metadata": {},
   "outputs": [],
   "source": [
    "ga = GeneticAlgorithm(10, 0.5,0.6, 100)"
   ]
  },
  {
   "cell_type": "code",
   "execution_count": null,
   "id": "e9572ca3",
   "metadata": {},
   "outputs": [],
   "source": [
    "ga.solve()"
   ]
  },
  {
   "cell_type": "code",
   "execution_count": null,
   "id": "bce542fa",
   "metadata": {},
   "outputs": [],
   "source": [
    "ga.population"
   ]
  },
  {
   "cell_type": "code",
   "execution_count": null,
   "id": "ac1844e6",
   "metadata": {},
   "outputs": [],
   "source": [
    "ga.current_best_solution"
   ]
  },
  {
   "cell_type": "code",
   "execution_count": null,
   "id": "42628a3c",
   "metadata": {},
   "outputs": [],
   "source": [
    "ga.global_best_solution"
   ]
  },
  {
   "cell_type": "code",
   "execution_count": null,
   "id": "3dfceb83",
   "metadata": {},
   "outputs": [],
   "source": [
    "checker.is_all_depots_passing_time_window_constraints(0, [0, 1, 8, 6, 0, 4, 7, 0])"
   ]
  },
  {
   "cell_type": "code",
   "execution_count": null,
   "id": "a688557e",
   "metadata": {},
   "outputs": [],
   "source": []
  }
 ],
 "metadata": {
  "kernelspec": {
   "display_name": "Python 3",
   "language": "python",
   "name": "python3"
  },
  "language_info": {
   "codemirror_mode": {
    "name": "ipython",
    "version": 3
   },
   "file_extension": ".py",
   "mimetype": "text/x-python",
   "name": "python",
   "nbconvert_exporter": "python",
   "pygments_lexer": "ipython3",
   "version": "3.8.8"
  }
 },
 "nbformat": 4,
 "nbformat_minor": 5
}
