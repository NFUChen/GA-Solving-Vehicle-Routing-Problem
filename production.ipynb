{
 "cells": [
  {
   "cell_type": "code",
   "execution_count": 1,
   "id": "f35778d3",
   "metadata": {},
   "outputs": [],
   "source": [
    "from utilities import SolutionGenerator, ConstraintChecker,BuilderFactory"
   ]
  },
  {
   "cell_type": "code",
   "execution_count": 2,
   "id": "525e972b",
   "metadata": {},
   "outputs": [
    {
     "name": "stdout",
     "output_type": "stream",
     "text": [
      "Available Depot Names: [0, 1, 2, 3, 4, 5, 6, 7, 8, 9, 10, 11, 12, 13, 14, 15, 16, 17, 18, 19, 20, 21, 22, 23, 24, 25, 26, 27, 28, 29, 30, 31, 32, 33, 34, 35, 36, 37, 38, 39, 40, 41, 42, 43, 44, 45, 46, 47, 48, 49, 50, 51, 52, 53, 54, 55, 56, 57, 58, 59, 60, 61, 62, 63, 64, 65]\n",
      "Available Vehicle Names: [0, 1, 2, 3, 4, 5, 6, 7, 8, 9, 10, 11, 12, 13, 14, 15, 16, 17, 18, 19, 20, 21]\n"
     ]
    }
   ],
   "source": [
    "generator = SolutionGenerator()\n",
    "checker = ConstraintChecker()\n",
    "factory = BuilderFactory()"
   ]
  },
  {
   "cell_type": "code",
   "execution_count": null,
   "id": "44fc0f34",
   "metadata": {
    "scrolled": false
   },
   "outputs": [
    {
     "name": "stdout",
     "output_type": "stream",
     "text": [
      "Function '_generate_initial_raw_solution' executed in 4.8447s\tNo. 1\n",
      "Function '_generate_initial_raw_solution' executed in 9.8347s\t"
     ]
    }
   ],
   "source": [
    "solution = generator.generate_valid_solutions(5)"
   ]
  },
  {
   "cell_type": "code",
   "execution_count": null,
   "id": "02b7bbe1",
   "metadata": {},
   "outputs": [],
   "source": [
    "resource_calc = RouteResourceCalculator()"
   ]
  },
  {
   "cell_type": "code",
   "execution_count": null,
   "id": "62e0db3a",
   "metadata": {},
   "outputs": [],
   "source": [
    "sorted(solution)"
   ]
  },
  {
   "cell_type": "code",
   "execution_count": null,
   "id": "5248d408",
   "metadata": {},
   "outputs": [],
   "source": []
  }
 ],
 "metadata": {
  "kernelspec": {
   "display_name": "Python 3 (ipykernel)",
   "language": "python",
   "name": "python3"
  },
  "language_info": {
   "codemirror_mode": {
    "name": "ipython",
    "version": 3
   },
   "file_extension": ".py",
   "mimetype": "text/x-python",
   "name": "python",
   "nbconvert_exporter": "python",
   "pygments_lexer": "ipython3",
   "version": "3.9.12"
  }
 },
 "nbformat": 4,
 "nbformat_minor": 5
}
