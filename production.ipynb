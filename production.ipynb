{
 "cells": [
  {
   "cell_type": "code",
   "execution_count": 1,
   "id": "f35778d3",
   "metadata": {},
   "outputs": [],
   "source": [
    "from utilities import GeneticAlgorithm"
   ]
  },
  {
   "cell_type": "code",
   "execution_count": 2,
   "id": "f6a97151",
   "metadata": {},
   "outputs": [
    {
     "name": "stdout",
     "output_type": "stream",
     "text": [
      "Available Vehicle Names: [0, 1, 2, 3, 4, 5, 6, 7, 8, 9, 10, 11, 12, 13, 14]\n",
      "Available Depot Names: [0, 1, 2, 3, 4, 5, 6, 7, 8, 9, 10, 11, 12, 13, 14, 15, 16, 17, 18, 19, 20, 21, 22, 23, 24, 25, 26, 27, 28, 29]\n",
      "All Depots With Time Window Constraints: [0, 1, 4, 5, 6, 8, 15, 19, 23, 26]\n"
     ]
    }
   ],
   "source": [
    "ga = GeneticAlgorithm(100, 0.05,0.7,100)"
   ]
  },
  {
   "cell_type": "code",
   "execution_count": null,
   "id": "e9572ca3",
   "metadata": {
    "scrolled": true
   },
   "outputs": [
    {
     "name": "stdout",
     "output_type": "stream",
     "text": [
      "Function '_generate_initial_raw_solution' executed in 2.1161s\tNo. 1 Success\n",
      "Function '_generate_initial_raw_solution' executed in 2.3577s\tNo. 2 Success\n",
      "Function '_generate_initial_raw_solution' executed in 2.5489s\tNo. 3 Success\n",
      "Function '_generate_initial_raw_solution' executed in 2.6418s\tNo. 4 Success\n",
      "Function '_generate_initial_raw_solution' executed in 2.2691s\tNo. 5 Success\n",
      "Function '_generate_initial_raw_solution' executed in 2.5827s\tNo. 6 Success\n",
      "Function '_generate_initial_raw_solution' executed in 2.1309s\tNo. 7 Success\n",
      "Function '_generate_initial_raw_solution' executed in 2.5814s\tNo. 8 Success\n",
      "Function '_generate_initial_raw_solution' executed in 2.0581s\tNo. 9 Success\n",
      "Function '_generate_initial_raw_solution' executed in 2.3741s\tNo. 10 Success\n",
      "Function '_generate_initial_raw_solution' executed in 2.0774s\tNo. 11 Success\n",
      "Function '_generate_initial_raw_solution' executed in 2.0152s\tNo. 12 Success\n",
      "Function '_generate_initial_raw_solution' executed in 1.9347s\tNo. 13 Success\n",
      "Function '_generate_initial_raw_solution' executed in 2.0129s\tNo. 14 Success\n",
      "Function '_generate_initial_raw_solution' executed in 2.1735s\tNo. 15 Success\n",
      "Function '_generate_initial_raw_solution' executed in 2.4963s\tNo. 16 Success\n",
      "Function '_generate_initial_raw_solution' executed in 2.7892s\tNo. 17 Success\n",
      "Function '_generate_initial_raw_solution' executed in 2.4494s\tNo. 18 Success\n",
      "Function '_generate_initial_raw_solution' executed in 2.2386s\tNo. 19 Success\n",
      "Function '_generate_initial_raw_solution' executed in 1.8416s\tNo. 20 Success\n",
      "Function '_generate_initial_raw_solution' executed in 1.9216s\tNo. 21 Success\n",
      "Function '_generate_initial_raw_solution' executed in 1.9560s\tNo. 22 Success\n",
      "Function '_generate_initial_raw_solution' executed in 2.1542s\tNo. 23 Success\n",
      "Function '_generate_initial_raw_solution' executed in 2.5851s\tNo. 24 Success\n",
      "Function '_generate_initial_raw_solution' executed in 2.1414s\tNo. 25 Success\n",
      "Function '_generate_initial_raw_solution' executed in 2.3695s\tNo. 26 Success\n",
      "Function '_generate_initial_raw_solution' executed in 1.9794s\tNo. 27 Success\n",
      "Function '_generate_initial_raw_solution' executed in 1.9816s\tNo. 28 Success\n",
      "Function '_generate_initial_raw_solution' executed in 2.5009s\tNo. 29 Success\n",
      "Function '_generate_initial_raw_solution' executed in 2.5098s\tNo. 30 Success\n",
      "Function '_generate_initial_raw_solution' executed in 2.0524s\tNo. 31 Success\n",
      "Function '_generate_initial_raw_solution' executed in 2.3206s\tNo. 32 Success\n",
      "Function '_generate_initial_raw_solution' executed in 2.3315s\tNo. 33 Success\n",
      "Function '_generate_initial_raw_solution' executed in 2.1525s\tNo. 34 Success\n",
      "Function '_generate_initial_raw_solution' executed in 1.7753s\tNo. 35 Success\n",
      "Function '_generate_initial_raw_solution' executed in 1.7941s\tNo. 36 Success\n",
      "Function '_generate_initial_raw_solution' executed in 1.8633s\tNo. 37 Success\n",
      "Function '_generate_initial_raw_solution' executed in 2.8136s\tNo. 38 Success\n",
      "Function '_generate_initial_raw_solution' executed in 2.7593s\tNo. 39 Success\n",
      "Function '_generate_initial_raw_solution' executed in 2.2147s\tNo. 40 Success\n",
      "Function '_generate_initial_raw_solution' executed in 2.2608s\tNo. 41 Success\n",
      "Function '_generate_initial_raw_solution' executed in 2.0377s\tNo. 42 Success\n",
      "Function '_generate_initial_raw_solution' executed in 2.2714s\tNo. 43 Success\n",
      "Function '_generate_initial_raw_solution' executed in 2.3958s\tNo. 44 Success\n",
      "Function '_generate_initial_raw_solution' executed in 2.3377s\tNo. 45 Success\n",
      "Function '_generate_initial_raw_solution' executed in 1.9139s\tNo. 46 Success\n",
      "Function '_generate_initial_raw_solution' executed in 2.1750s\tNo. 47 Success\n",
      "Function '_generate_initial_raw_solution' executed in 1.7800s\tNo. 48 Success\n",
      "Function '_generate_initial_raw_solution' executed in 2.0345s\tNo. 49 Success\n",
      "Function '_generate_initial_raw_solution' executed in 2.1464s\tNo. 50 Success\n",
      "Function '_generate_initial_raw_solution' executed in 2.2825s\tNo. 51 Success\n",
      "Function '_generate_initial_raw_solution' executed in 2.2567s\tNo. 52 Success\n",
      "Function '_generate_initial_raw_solution' executed in 2.1427s\tNo. 53 Success\n",
      "Function '_generate_initial_raw_solution' executed in 2.0759s\tNo. 54 Success\n",
      "Function '_generate_initial_raw_solution' executed in 2.6929s\tNo. 55 Success\n",
      "Function '_generate_initial_raw_solution' executed in 2.1973s\tNo. 56 Success\n",
      "Function '_generate_initial_raw_solution' executed in 2.4662s\tNo. 57 Success\n",
      "Function '_generate_initial_raw_solution' executed in 2.0719s\tNo. 58 Success\n",
      "Function '_generate_initial_raw_solution' executed in 1.8375s\tNo. 59 Success\n",
      "Function '_generate_initial_raw_solution' executed in 2.5875s\tNo. 60 Success\n",
      "Function '_generate_initial_raw_solution' executed in 2.1384s\tNo. 61 Success\n",
      "Function '_generate_initial_raw_solution' executed in 2.3029s\tNo. 62 Success\n",
      "Function '_generate_initial_raw_solution' executed in 2.1725s\tNo. 63 Success\n",
      "Function '_generate_initial_raw_solution' executed in 2.1398s\tNo. 64 Success\n",
      "Function '_generate_initial_raw_solution' executed in 1.9308s\tNo. 65 Success\n",
      "Function '_generate_initial_raw_solution' executed in 1.9102s\tNo. 66 Success\n",
      "Function '_generate_initial_raw_solution' executed in 1.8001s\tNo. 67 Success\n",
      "Function '_generate_initial_raw_solution' executed in 1.9111s\tNo. 68 Success\n",
      "Function '_generate_initial_raw_solution' executed in 2.2786s\tNo. 69 Success\n",
      "Function '_generate_initial_raw_solution' executed in 2.0729s\tNo. 70 Success\n",
      "Function '_generate_initial_raw_solution' executed in 1.9579s\tNo. 71 Success\n",
      "Function '_generate_initial_raw_solution' executed in 2.1968s\tNo. 72 Success\n",
      "Function '_generate_initial_raw_solution' executed in 1.6626s\tNo. 73 Success\n",
      "Function '_generate_initial_raw_solution' executed in 1.6553s\tNo. 74 Success\n",
      "Function '_generate_initial_raw_solution' executed in 1.9151s\tNo. 75 Success\n",
      "Function '_generate_initial_raw_solution' executed in 2.3723s\tNo. 76 Success\n",
      "Function '_generate_initial_raw_solution' executed in 2.1747s\tNo. 77 Success\n",
      "Function '_generate_initial_raw_solution' executed in 2.2679s\tNo. 78 Success\n",
      "Function '_generate_initial_raw_solution' executed in 2.2067s\tNo. 79 Success\n",
      "Function '_generate_initial_raw_solution' executed in 2.4344s\tNo. 80 Success\n",
      "Function '_generate_initial_raw_solution' executed in 2.2665s\tNo. 81 Success\n",
      "Function '_generate_initial_raw_solution' executed in 2.1175s\tNo. 82 Success\n",
      "Function '_generate_initial_raw_solution' executed in 1.9668s\tNo. 83 Success\n",
      "Function '_generate_initial_raw_solution' executed in 2.0631s\tNo. 84 Success\n",
      "Function '_generate_initial_raw_solution' executed in 2.1560s\tNo. 85 Success\n",
      "Function '_generate_initial_raw_solution' executed in 1.9744s\tNo. 86 Success\n",
      "Function '_generate_initial_raw_solution' executed in 2.2742s\tNo. 87 Success\n",
      "Function '_generate_initial_raw_solution' executed in 2.1599s\tNo. 88 Success\n",
      "Function '_generate_initial_raw_solution' executed in 2.1747s\tNo. 89 Success\n",
      "Function '_generate_initial_raw_solution' executed in 1.9153s\tNo. 90 Success\n",
      "Function '_generate_initial_raw_solution' executed in 1.8517s\tNo. 91 Success\n",
      "Function '_generate_initial_raw_solution' executed in 2.3849s\tNo. 92 Success\n",
      "Function '_generate_initial_raw_solution' executed in 2.1962s\tNo. 93 Success\n",
      "Function '_generate_initial_raw_solution' executed in 2.6493s\tNo. 94 Success\n",
      "Function '_generate_initial_raw_solution' executed in 2.2605s\tNo. 95 Success\n",
      "Function '_generate_initial_raw_solution' executed in 2.0945s\tNo. 96 Success\n",
      "Function '_generate_initial_raw_solution' executed in 2.0114s\tNo. 97 Success\n",
      "Function '_generate_initial_raw_solution' executed in 2.5322s\tNo. 98 Success\n",
      "Function '_generate_initial_raw_solution' executed in 1.8347s\tNo. 99 Success\n",
      "Function '_generate_initial_raw_solution' executed in 2.1404s\tNo. 100 Success\n",
      "Successful Rate: 100.0%\n",
      "Processing Solution Chromosomes...\n"
     ]
    },
    {
     "name": "stderr",
     "output_type": "stream",
     "text": [
      " 27%|███████████▎                              | 27/100 [00:39<01:45,  1.45s/it]"
     ]
    }
   ],
   "source": [
    "ga.solve()"
   ]
  },
  {
   "cell_type": "code",
   "execution_count": null,
   "id": "54802f87",
   "metadata": {},
   "outputs": [],
   "source": [
    "ga.current_best_solution"
   ]
  },
  {
   "cell_type": "code",
   "execution_count": null,
   "id": "ffeb98e4",
   "metadata": {},
   "outputs": [],
   "source": [
    "ga.global_best_solution"
   ]
  }
 ],
 "metadata": {
  "kernelspec": {
   "display_name": "Python 3 (ipykernel)",
   "language": "python",
   "name": "python3"
  },
  "language_info": {
   "codemirror_mode": {
    "name": "ipython",
    "version": 3
   },
   "file_extension": ".py",
   "mimetype": "text/x-python",
   "name": "python",
   "nbconvert_exporter": "python",
   "pygments_lexer": "ipython3",
   "version": "3.9.12"
  }
 },
 "nbformat": 4,
 "nbformat_minor": 5
}
