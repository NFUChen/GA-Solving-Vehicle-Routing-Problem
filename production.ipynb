{
 "cells": [
  {
   "cell_type": "code",
   "execution_count": 1,
   "id": "f35778d3",
   "metadata": {},
   "outputs": [],
   "source": [
    "from utilities import SolutionGenerator, ConstraintChecker,BuilderFactory,RouteResourceCalculator\n",
    "from typing import List\n",
    "from random import random, choices\n",
    "import math"
   ]
  },
  {
   "cell_type": "code",
   "execution_count": 2,
   "id": "525e972b",
   "metadata": {},
   "outputs": [
    {
     "name": "stdout",
     "output_type": "stream",
     "text": [
      "Available Depot Names: [0, 1, 2, 3, 4, 5, 6, 7, 8, 9, 10, 11, 12, 13, 14, 15, 16, 17, 18, 19, 20, 21, 22, 23, 24, 25, 26, 27, 28, 29, 30, 31, 32, 33, 34, 35, 36, 37, 38, 39, 40, 41, 42, 43, 44, 45, 46, 47, 48, 49, 50, 51, 52, 53, 54, 55, 56, 57, 58, 59, 60, 61, 62, 63, 64, 65]\n",
      "Available Vehicle Names: [0, 1, 2, 3, 4, 5, 6, 7, 8, 9, 10, 11, 12, 13, 14, 15, 16, 17, 18, 19, 20, 21]\n"
     ]
    }
   ],
   "source": [
    "generator = SolutionGenerator()\n",
    "checker = ConstraintChecker()\n",
    "factory = BuilderFactory()\n",
    "resource_calc = RouteResourceCalculator()"
   ]
  },
  {
   "cell_type": "code",
   "execution_count": 3,
   "id": "39505801",
   "metadata": {},
   "outputs": [
    {
     "data": {
      "text/plain": [
       "[0, 1, 4, 5, 6, 8, 48, 49, 54]"
      ]
     },
     "execution_count": 3,
     "metadata": {},
     "output_type": "execute_result"
    }
   ],
   "source": [
    "factory.depot_builder.all_depot_names_with_time_window_constraint"
   ]
  },
  {
   "cell_type": "code",
   "execution_count": 4,
   "id": "44fc0f34",
   "metadata": {
    "scrolled": true
   },
   "outputs": [
    {
     "name": "stdout",
     "output_type": "stream",
     "text": [
      "Function '_generate_initial_raw_solution' executed in 4.6358s\t**Depot 54 Is Not Assigned**\n",
      "Function '_generate_initial_raw_solution' executed in 1.5372s\t**Depot 48 Is Not Assigned**\n",
      "Function '_generate_initial_raw_solution' executed in 1.9013s\t**Depot 48 Is Not Assigned**\n",
      "Function '_generate_initial_raw_solution' executed in 1.6057s\t**Depot 48 Is Not Assigned**\n",
      "Function '_generate_initial_raw_solution' executed in 1.6161s\t**Depot 48 Is Not Assigned**\n",
      "Function '_generate_initial_raw_solution' executed in 6.6467s\tNo. 1 Success\n",
      "Function '_generate_initial_raw_solution' executed in 1.4611s\t**Depot 48 Is Not Assigned**\n",
      "Function '_generate_initial_raw_solution' executed in 1.4585s\t**Depot 48 Is Not Assigned**\n",
      "Function '_generate_initial_raw_solution' executed in 2.4685s\t**Depot 54 Is Not Assigned**\n",
      "Function '_generate_initial_raw_solution' executed in 1.5142s\t**Depot 48 Is Not Assigned**\n",
      "Function '_generate_initial_raw_solution' executed in 3.5130s\tNo. 2 Success\n",
      "Function '_generate_initial_raw_solution' executed in 4.2353s\t**Depot 54 Is Not Assigned**\n",
      "Function '_generate_initial_raw_solution' executed in 2.4958s\t**Depot 54 Is Not Assigned**\n",
      "Function '_generate_initial_raw_solution' executed in 1.6241s\t**Depot 48 Is Not Assigned**\n",
      "Function '_generate_initial_raw_solution' executed in 1.6125s\t**Depot 48 Is Not Assigned**\n",
      "Function '_generate_initial_raw_solution' executed in 1.4914s\t**Depot 48 Is Not Assigned**\n",
      "Function '_generate_initial_raw_solution' executed in 1.5866s\t**Depot 48 Is Not Assigned**\n",
      "Function '_generate_initial_raw_solution' executed in 2.6213s\t**Depot 49 Is Not Assigned**\n",
      "Function '_generate_initial_raw_solution' executed in 1.8125s\t**Depot 48 Is Not Assigned**\n",
      "Function '_generate_initial_raw_solution' executed in 1.7543s\t**Depot 48 Is Not Assigned**\n",
      "Function '_generate_initial_raw_solution' executed in 1.4937s\t**Depot 48 Is Not Assigned**\n",
      "Function '_generate_initial_raw_solution' executed in 1.6423s\t**Depot 48 Is Not Assigned**\n",
      "Function '_generate_initial_raw_solution' executed in 1.6751s\t**Depot 48 Is Not Assigned**\n",
      "Function '_generate_initial_raw_solution' executed in 1.4724s\t**Depot 48 Is Not Assigned**\n",
      "Function '_generate_initial_raw_solution' executed in 2.5606s\t**Depot 54 Is Not Assigned**\n",
      "Function '_generate_initial_raw_solution' executed in 1.5094s\t**Depot 48 Is Not Assigned**\n",
      "Function '_generate_initial_raw_solution' executed in 5.0369s\t**Depot 54 Is Not Assigned**\n",
      "Function '_generate_initial_raw_solution' executed in 1.4830s\t**Depot 48 Is Not Assigned**\n",
      "Function '_generate_initial_raw_solution' executed in 1.5107s\t**Depot 48 Is Not Assigned**\n",
      "Function '_generate_initial_raw_solution' executed in 1.5675s\t**Depot 48 Is Not Assigned**\n",
      "Function '_generate_initial_raw_solution' executed in 1.4904s\t**Depot 48 Is Not Assigned**\n",
      "Function '_generate_initial_raw_solution' executed in 1.5049s\t**Depot 48 Is Not Assigned**\n",
      "Function '_generate_initial_raw_solution' executed in 1.4661s\t**Depot 48 Is Not Assigned**\n",
      "Function '_generate_initial_raw_solution' executed in 2.7034s\t**Depot 49 Is Not Assigned**\n",
      "Function '_generate_initial_raw_solution' executed in 1.6084s\t**Depot 48 Is Not Assigned**\n",
      "Function '_generate_initial_raw_solution' executed in 1.6972s\t**Depot 48 Is Not Assigned**\n",
      "Function '_generate_initial_raw_solution' executed in 1.4731s\t**Depot 48 Is Not Assigned**\n",
      "Function '_generate_initial_raw_solution' executed in 1.5654s\t**Depot 48 Is Not Assigned**\n",
      "Function '_generate_initial_raw_solution' executed in 1.6952s\t**Depot 48 Is Not Assigned**\n",
      "Function '_generate_initial_raw_solution' executed in 1.6264s\t**Depot 48 Is Not Assigned**\n",
      "Function '_generate_initial_raw_solution' executed in 2.9741s\t**Depot 54 Is Not Assigned**\n",
      "Function '_generate_initial_raw_solution' executed in 1.5794s\t**Depot 48 Is Not Assigned**\n",
      "Function '_generate_initial_raw_solution' executed in 1.6740s\t**Depot 48 Is Not Assigned**\n",
      "Function '_generate_initial_raw_solution' executed in 1.5132s\t**Depot 48 Is Not Assigned**\n",
      "Function '_generate_initial_raw_solution' executed in 1.4833s\t**Depot 48 Is Not Assigned**\n",
      "Function '_generate_initial_raw_solution' executed in 1.4653s\t**Depot 48 Is Not Assigned**\n",
      "Function '_generate_initial_raw_solution' executed in 1.4775s\t**Depot 48 Is Not Assigned**\n",
      "Function '_generate_initial_raw_solution' executed in 1.5165s\t**Depot 48 Is Not Assigned**\n",
      "Function '_generate_initial_raw_solution' executed in 3.0352s\t**Depot 49 Is Not Assigned**\n",
      "Function '_generate_initial_raw_solution' executed in 1.5004s\t**Depot 48 Is Not Assigned**\n",
      "Function '_generate_initial_raw_solution' executed in 1.5536s\t**Depot 48 Is Not Assigned**\n",
      "Function '_generate_initial_raw_solution' executed in 2.7817s\t**Depot 54 Is Not Assigned**\n",
      "Function '_generate_initial_raw_solution' executed in 1.5262s\t**Depot 48 Is Not Assigned**\n",
      "Function '_generate_initial_raw_solution' executed in 1.5431s\t**Depot 48 Is Not Assigned**\n",
      "Function '_generate_initial_raw_solution' executed in 1.4735s\t**Depot 48 Is Not Assigned**\n",
      "Function '_generate_initial_raw_solution' executed in 4.8421s\tNo. 3 Success\n",
      "Successful Rate: 5.36%\n",
      "Processing Solution Chromosomes...\n"
     ]
    },
    {
     "name": "stderr",
     "output_type": "stream",
     "text": [
      "100%|██████████████████████████████████████████████████████████████████████████████████████████| 3/3 [00:18<00:00,  6.01s/it]"
     ]
    },
    {
     "name": "stdout",
     "output_type": "stream",
     "text": [
      "Function 'generate_valid_solutions' executed in 134.4341s\t"
     ]
    },
    {
     "name": "stderr",
     "output_type": "stream",
     "text": [
      "\n"
     ]
    }
   ],
   "source": [
    "solution = generator.generate_valid_solutions(3)"
   ]
  },
  {
   "cell_type": "code",
   "execution_count": 5,
   "id": "361ed6be",
   "metadata": {},
   "outputs": [
    {
     "data": {
      "text/plain": [
       "[Chromosome: {0: [0, 30, 40, 57, 0], 1: [0, 9, 20, 0], 2: [0, 29, 37, 39, 0], 3: [0, 61, 0], 4: [0, 4, 5, 22, 26, 36, 0], 5: [0, 6, 38, 64, 0], 6: [0, 28, 31, 0], 7: [0, 11, 17, 23, 35, 46, 60, 0, 48, 49, 54, 0], 8: [0, 13, 47, 0], 9: [0, 2, 3, 12, 21, 27, 53, 0], 10: [0, 19, 25, 34, 0], 11: [0, 51, 63, 0], 12: [0, 14, 42, 45, 65, 0], 13: [0, 32, 50, 62, 0], 14: [0, 10, 41, 0], 15: [0, 52, 56, 0], 16: [0, 1, 8, 7, 16, 18, 43, 44, 0, 55, 59, 0], 17: [0, 15, 33, 58, 0], 18: [0, 24, 0], 19: [], 20: [], 21: []}\n",
       " \tTotal Cost: $82368\n",
       " \tFuel Fee: $51081\n",
       " \tVehicle Fixed Cost: $21400\n",
       " \tDriver Cost: $9887\n",
       " \tDistance: 2588 km\n",
       " \tTotal Delivery Time: 3531.41 Mins\n",
       " \tNumber of Vehicles Assigned: 19\n",
       " \t------------------------------------------------------------,\n",
       " Chromosome: {0: [0, 14, 21, 23, 26, 0, 35, 48, 49, 0, 54, 0], 1: [0, 43, 0], 2: [0, 1, 32, 44, 61, 62, 0], 3: [0, 7, 50, 64, 0], 4: [0, 9, 30, 33, 36, 0], 5: [0, 16, 17, 22, 0], 6: [0, 4, 29, 51, 52, 65, 0], 7: [0, 5, 10, 46, 0], 8: [0, 6, 58, 0], 9: [0, 3, 31, 53, 0], 10: [0, 38, 59, 0], 11: [], 12: [0, 2, 11, 20, 42, 55, 0], 13: [0, 19, 27, 40, 56, 0], 14: [0, 28, 34, 39, 45, 0], 15: [0, 15, 18, 24, 37, 41, 0], 16: [0, 25, 0], 17: [0, 13, 47, 60, 0], 18: [0, 8, 12, 57, 63, 0], 19: [], 20: [], 21: []}\n",
       " \tTotal Cost: $80456\n",
       " \tFuel Fee: $50484\n",
       " \tVehicle Fixed Cost: $20200\n",
       " \tDriver Cost: $9772\n",
       " \tDistance: 2504 km\n",
       " \tTotal Delivery Time: 3490.24 Mins\n",
       " \tNumber of Vehicles Assigned: 18\n",
       " \t------------------------------------------------------------,\n",
       " Chromosome: {0: [0, 14, 40, 56, 0], 1: [0, 17, 65, 0], 2: [0, 24, 28, 44, 53, 0], 3: [0, 16, 19, 25, 33, 61, 0], 4: [0, 3, 21, 37, 0], 5: [0, 22, 50, 0], 6: [0, 26, 36, 38, 42, 58, 0], 7: [0, 11, 46, 0], 8: [0, 20, 60, 63, 0], 9: [0, 7, 12, 0], 10: [0, 55, 0], 11: [0, 6, 47, 0], 12: [], 13: [], 14: [0, 27, 34, 35, 0], 15: [0, 8, 32, 43, 45, 62, 0], 16: [0, 4, 9, 51, 57, 64, 0], 17: [0, 1, 5, 23, 30, 59, 48, 49, 54, 0], 18: [0, 2, 10, 13, 15, 18, 29, 31, 39, 41, 52, 0], 19: [], 20: [], 21: []}\n",
       " \tTotal Cost: $79268\n",
       " \tFuel Fee: $50648\n",
       " \tVehicle Fixed Cost: $19000\n",
       " \tDriver Cost: $9620\n",
       " \tDistance: 2546 km\n",
       " \tTotal Delivery Time: 3436.03 Mins\n",
       " \tNumber of Vehicles Assigned: 17\n",
       " \t------------------------------------------------------------]"
      ]
     },
     "execution_count": 5,
     "metadata": {},
     "output_type": "execute_result"
    }
   ],
   "source": [
    "solution"
   ]
  },
  {
   "cell_type": "code",
   "execution_count": null,
   "id": "aba3f977",
   "metadata": {},
   "outputs": [],
   "source": [
    "class MutationStrategy:\n",
    "    @staticmethod\n",
    "    def single_point_mutate(route:List[int]) -> None:\n",
    "        print(\"Calling Single Point\")\n",
    "\n",
    "    @staticmethod\n",
    "    def two_points_mutate(route:List[int]) -> None:\n",
    "        print(\"Calling Two Points\")\n",
    "\n",
    "    @classmethod\n",
    "    def chose_mutation_strategy(cls):\n",
    "        all_strategy = [cls.single_point_mutate, cls.two_points_mutate]\n",
    "        return all_strategy"
   ]
  },
  {
   "cell_type": "code",
   "execution_count": null,
   "id": "4abf4d19",
   "metadata": {},
   "outputs": [],
   "source": [
    "MutationStrategy.chose_mutation_strategy()[0]([0,2,1])"
   ]
  },
  {
   "cell_type": "code",
   "execution_count": null,
   "id": "697c097d",
   "metadata": {},
   "outputs": [],
   "source": [
    "test = [0,1,2,3,4,5,6,0]"
   ]
  },
  {
   "cell_type": "code",
   "execution_count": null,
   "id": "ec4c1e59",
   "metadata": {},
   "outputs": [],
   "source": [
    "def randomly_choose_index_position(route:List[int]) -> int:\n",
    "    is_choosing_warehose_depot = True\n",
    "    while (is_choosing_warehose_depot):\n",
    "        random_idx = math.floor((random() * len(route)))\n",
    "        if (route[random_idx] != 0):\n",
    "            is_choosing_warehose_depot = False\n",
    "    return random_idx\n",
    "\n",
    "def randomly_choose_two_different_index_positions(route:List[int]) -> List[int]:\n",
    "    first_point = randomly_choose_index_position(route)\n",
    "    second_point = randomly_choose_index_position(route)\n",
    "    while second_point == first_point:\n",
    "        second_point = randomly_choose_index_position(route)\n",
    "    left_ptr = min(first_point, second_point)\n",
    "    right_ptr = max(first_point, second_point)\n",
    "    \n",
    "    return [left_ptr, right_ptr]\n",
    "\n",
    "\n",
    "def swap_depots(route:List[int], x, y) -> None:\n",
    "    route[x], route[y] = route[y], route[x]\n",
    "\n",
    "def reverse_mutate(route:List[int]) -> None:\n",
    "    left_ptr, right_ptr = randomly_choose_two_different_index_positions()\n",
    "    \n",
    "    print(left_ptr, right_ptr)\n",
    "    while (left_ptr < right_ptr):\n",
    "        swap_depots(route, left_ptr, right_ptr)\n",
    "        \n",
    "        left_ptr += 1\n",
    "        right_ptr -= 1\n",
    "\n",
    "def two_points_mutate(route:List[int]) -> None:\n",
    "    left_ptr, right_ptr = randomly_choose_two_different_index_positions()\n",
    "    swap_depots(route, left_ptr, right_ptr)\n",
    "        \n",
    "    "
   ]
  },
  {
   "cell_type": "code",
   "execution_count": null,
   "id": "4916d5c1",
   "metadata": {},
   "outputs": [],
   "source": [
    "reverse_mutate(test)"
   ]
  },
  {
   "cell_type": "code",
   "execution_count": null,
   "id": "7aad971d",
   "metadata": {},
   "outputs": [],
   "source": [
    "test"
   ]
  },
  {
   "cell_type": "code",
   "execution_count": null,
   "id": "b8abcb3b",
   "metadata": {},
   "outputs": [],
   "source": [
    "swap_depots(test, 4,2)"
   ]
  },
  {
   "cell_type": "code",
   "execution_count": null,
   "id": "e43238d2",
   "metadata": {},
   "outputs": [],
   "source": [
    "test"
   ]
  },
  {
   "cell_type": "code",
   "execution_count": null,
   "id": "ca7805fd",
   "metadata": {},
   "outputs": [],
   "source": []
  }
 ],
 "metadata": {
  "kernelspec": {
   "display_name": "Python 3 (ipykernel)",
   "language": "python",
   "name": "python3"
  },
  "language_info": {
   "codemirror_mode": {
    "name": "ipython",
    "version": 3
   },
   "file_extension": ".py",
   "mimetype": "text/x-python",
   "name": "python",
   "nbconvert_exporter": "python",
   "pygments_lexer": "ipython3",
   "version": "3.9.12"
  }
 },
 "nbformat": 4,
 "nbformat_minor": 5
}
