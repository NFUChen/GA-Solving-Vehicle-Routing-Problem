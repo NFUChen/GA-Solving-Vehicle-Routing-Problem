{
 "cells": [
  {
   "cell_type": "code",
   "execution_count": 1,
   "id": "f35778d3",
   "metadata": {},
   "outputs": [],
   "source": [
    "from utilities import SolutionGenerator, ConstraintChecker,BuilderFactory,RouteResourceCalculator, SolutionChromosome\n",
    "from typing import List\n",
    "from random import random, choices\n",
    "import math\n",
    "from copy import deepcopy"
   ]
  },
  {
   "cell_type": "code",
   "execution_count": 2,
   "id": "525e972b",
   "metadata": {},
   "outputs": [
    {
     "name": "stdout",
     "output_type": "stream",
     "text": [
      "Available Vehicle Names: [0, 1, 2, 3, 4, 5, 6, 7, 8, 9, 10, 11, 12, 13, 14, 15, 16, 17, 18, 19, 20, 21]\n",
      "Available Depot Names: [0, 1, 2, 3, 4, 5, 6, 7, 8, 9, 10, 11, 12, 13, 14, 15, 16, 17, 18, 19, 20, 21, 22, 23, 24, 25, 26, 27, 28, 29, 30, 31, 32, 33, 34, 35, 36, 37, 38, 39, 40, 41, 42, 43, 44, 45, 46, 47, 48, 49, 50, 51, 52, 53, 54, 55, 56, 57, 58, 59, 60, 61, 62, 63, 64, 65]\n",
      "All Depots With Time Window Constraints: [0, 1, 4, 5, 6, 8, 48, 49, 54]\n"
     ]
    }
   ],
   "source": [
    "generator = SolutionGenerator()\n",
    "checker = ConstraintChecker()\n",
    "factory = BuilderFactory()\n",
    "resource_calc = RouteResourceCalculator()"
   ]
  },
  {
   "cell_type": "code",
   "execution_count": 19,
   "id": "44fc0f34",
   "metadata": {
    "scrolled": false
   },
   "outputs": [
    {
     "name": "stdout",
     "output_type": "stream",
     "text": [
      "Function '_generate_initial_raw_solution' executed in 15.5711s\tNo. 1 Success\n",
      "Function '_generate_initial_raw_solution' executed in 15.7130s\tNo. 2 Success\n",
      "Function '_generate_initial_raw_solution' executed in 10.2914s\tNo. 3 Success\n",
      "Successful Rate: 100.0%\n",
      "Processing Solution Chromosomes...\n"
     ]
    },
    {
     "name": "stderr",
     "output_type": "stream",
     "text": [
      "100%|██████████████████████████████████████████████████████████████████████████████████████████| 3/3 [00:17<00:00,  5.77s/it]"
     ]
    },
    {
     "name": "stdout",
     "output_type": "stream",
     "text": [
      "Function 'generate_valid_solutions' executed in 58.9184s\t"
     ]
    },
    {
     "name": "stderr",
     "output_type": "stream",
     "text": [
      "\n"
     ]
    },
    {
     "data": {
      "text/plain": [
       "[Chromosome: {0: [], 1: [0, 10, 27, 45, 0], 2: [0, 6, 20, 26, 0], 3: [0, 15, 36, 40, 43, 51, 0], 4: [0, 62, 0], 5: [0, 14, 24, 25, 53, 55, 0, 57, 0], 6: [0, 2, 22, 33, 41, 46, 63, 0], 7: [0, 7, 16, 52, 61, 0], 8: [0, 5, 19, 64, 0], 9: [0, 8, 42, 65, 0], 10: [0, 12, 23, 34, 48, 49, 0, 54, 0], 11: [0, 11, 31, 59, 0], 12: [0, 9, 28, 30, 0], 13: [0, 18, 21, 47, 50, 0], 14: [0, 1, 32, 0], 15: [0, 37, 0], 16: [0, 3, 0], 17: [0, 4, 13, 29, 35, 38, 39, 44, 56, 58, 0], 18: [0, 17, 60, 0], 19: [], 20: [], 21: []}\n",
       " \tTotal Cost: $62582\n",
       " \tFuel Fee: $51326\n",
       " \tVehicle Fixed Cost: $1400\n",
       " \tDriver Cost: $9856\n",
       " \tDistance: 2613 km\n",
       " \tTotal Delivery Time: 3520.09 Mins\n",
       " \tNumber of Vehicles Assigned: 18\n",
       " \tNumber of Replenishsments: 2\n",
       " \t------------------------------------------------------------,\n",
       " Chromosome: {0: [0, 18, 36, 38, 0], 1: [0, 28, 52, 64, 0], 2: [0, 27, 32, 35, 47, 55, 0, 57, 0], 3: [0, 19, 33, 60, 0], 4: [0, 5, 0], 5: [0, 20, 58, 62, 0], 6: [0, 2, 21, 37, 65, 0], 7: [0, 15, 0], 8: [0, 13, 29, 43, 45, 63, 0], 9: [0, 14, 22, 53, 0], 10: [0, 11, 30, 56, 0], 11: [0, 8, 61, 0], 12: [0, 4, 3, 31, 40, 59, 0], 13: [0, 1, 0], 14: [0, 9, 10, 41, 46, 0], 15: [0, 6, 16, 39, 0], 16: [0, 7, 12, 24, 44, 0], 17: [0, 17, 25, 34, 50, 51, 0], 18: [0, 23, 26, 42, 48, 49, 54, 0], 19: [], 20: [], 21: []}\n",
       " \tTotal Cost: $62453\n",
       " \tFuel Fee: $51209\n",
       " \tVehicle Fixed Cost: $1400\n",
       " \tDriver Cost: $9844\n",
       " \tDistance: 2562 km\n",
       " \tTotal Delivery Time: 3515.94 Mins\n",
       " \tNumber of Vehicles Assigned: 19\n",
       " \tNumber of Replenishsments: 1\n",
       " \t------------------------------------------------------------,\n",
       " Chromosome: {0: [0, 8, 17, 22, 39, 0], 1: [0, 1, 26, 60, 0], 2: [0, 19, 30, 32, 55, 0], 3: [0, 6, 45, 0], 4: [0, 9, 29, 59, 0], 5: [0, 14, 0], 6: [0, 18, 24, 0], 7: [0, 2, 23, 27, 36, 37, 43, 46, 0, 47, 0], 8: [0, 28, 31, 0], 9: [0, 35, 52, 0], 10: [0, 34, 42, 44, 51, 0], 11: [0, 4, 15, 0], 12: [0, 16, 25, 33, 0], 13: [0, 20, 21, 58, 0], 14: [0, 7, 12, 40, 61, 63, 0], 15: [0, 5, 13, 62, 65, 0], 16: [0, 56, 0], 17: [0, 3, 10, 11, 38, 53, 64, 0], 18: [0, 41, 50, 57, 48, 49, 54, 0], 19: [], 20: [], 21: []}\n",
       " \tTotal Cost: $60129\n",
       " \tFuel Fee: $49095\n",
       " \tVehicle Fixed Cost: $1400\n",
       " \tDriver Cost: $9634\n",
       " \tDistance: 2363 km\n",
       " \tTotal Delivery Time: 3440.97 Mins\n",
       " \tNumber of Vehicles Assigned: 19\n",
       " \tNumber of Replenishsments: 1\n",
       " \t------------------------------------------------------------]"
      ]
     },
     "execution_count": 19,
     "metadata": {},
     "output_type": "execute_result"
    }
   ],
   "source": [
    "solution = generator.generate_valid_solutions(3)\n",
    "solution"
   ]
  },
  {
   "cell_type": "code",
   "execution_count": 5,
   "id": "82631c6d",
   "metadata": {},
   "outputs": [],
   "source": [
    "# solution[-1].vehicles_can_be_chosen_for_crossover"
   ]
  },
  {
   "cell_type": "code",
   "execution_count": 8,
   "id": "8130e60e",
   "metadata": {},
   "outputs": [],
   "source": [
    "# solution[-1].vehicles_can_be_chosen_for_mutation"
   ]
  },
  {
   "cell_type": "code",
   "execution_count": 9,
   "id": "1f41be88",
   "metadata": {},
   "outputs": [],
   "source": [
    "from utilities import GeneticAlgorithm\n",
    "import numpy as np"
   ]
  },
  {
   "cell_type": "code",
   "execution_count": 17,
   "id": "f6a97151",
   "metadata": {},
   "outputs": [
    {
     "name": "stdout",
     "output_type": "stream",
     "text": [
      "Available Vehicle Names: [0, 1, 2, 3, 4, 5, 6, 7, 8, 9, 10, 11, 12, 13, 14, 15, 16, 17, 18, 19, 20, 21]\n",
      "Available Depot Names: [0, 1, 2, 3, 4, 5, 6, 7, 8, 9, 10, 11, 12, 13, 14, 15, 16, 17, 18, 19, 20, 21, 22, 23, 24, 25, 26, 27, 28, 29, 30, 31, 32, 33, 34, 35, 36, 37, 38, 39, 40, 41, 42, 43, 44, 45, 46, 47, 48, 49, 50, 51, 52, 53, 54, 55, 56, 57, 58, 59, 60, 61, 62, 63, 64, 65]\n",
      "All Depots With Time Window Constraints: [0, 1, 4, 5, 6, 8, 48, 49, 54]\n"
     ]
    }
   ],
   "source": [
    "ga = GeneticAlgorithm(6,0.05,0.6, 1000)"
   ]
  },
  {
   "cell_type": "code",
   "execution_count": null,
   "id": "e9572ca3",
   "metadata": {},
   "outputs": [],
   "source": [
    "# ga.solve()"
   ]
  },
  {
   "cell_type": "code",
   "execution_count": 29,
   "id": "65a62752",
   "metadata": {},
   "outputs": [
    {
     "data": {
      "text/plain": [
       "True"
      ]
     },
     "execution_count": 29,
     "metadata": {},
     "output_type": "execute_result"
    }
   ],
   "source": [
    "checker.is_all_depots_passing_time_window_constraints(10, [0, 41, 50, 57, 48, 49, 54, 0])"
   ]
  },
  {
   "cell_type": "code",
   "execution_count": 28,
   "id": "f152a42f",
   "metadata": {},
   "outputs": [
    {
     "data": {
      "text/plain": [
       "{'fuel_fee': 7442.826,\n",
       " 'distance': 370.709,\n",
       " 'delivery_time': 263.93,\n",
       " 'service_time': 140,\n",
       " 'total_time': 403.93,\n",
       " 'vehicle_fixed_cost': 1200,\n",
       " 'driver_cost': 1131.0040000000001,\n",
       " 'number_of_replenishment': 0,\n",
       " 'number_of_vehicles_assigned': 1}"
      ]
     },
     "execution_count": 28,
     "metadata": {},
     "output_type": "execute_result"
    }
   ],
   "source": [
    "resource_calc.calculate_route_resources(10, [0, 41, 50, 57, 48, 49, 54, 0])"
   ]
  },
  {
   "cell_type": "code",
   "execution_count": null,
   "id": "fdf918c2",
   "metadata": {},
   "outputs": [],
   "source": []
  }
 ],
 "metadata": {
  "kernelspec": {
   "display_name": "Python 3 (ipykernel)",
   "language": "python",
   "name": "python3"
  },
  "language_info": {
   "codemirror_mode": {
    "name": "ipython",
    "version": 3
   },
   "file_extension": ".py",
   "mimetype": "text/x-python",
   "name": "python",
   "nbconvert_exporter": "python",
   "pygments_lexer": "ipython3",
   "version": "3.9.12"
  }
 },
 "nbformat": 4,
 "nbformat_minor": 5
}
