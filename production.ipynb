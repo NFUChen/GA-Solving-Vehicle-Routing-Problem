{
 "cells": [
  {
   "cell_type": "code",
   "execution_count": 1,
   "id": "f35778d3",
   "metadata": {},
   "outputs": [],
   "source": [
    "from utilities import SolutionGenerator, ConstraintChecker,BuilderFactory,RouteResourceCalculator, SolutionChromosome\n",
    "from typing import List\n",
    "from random import random, choices\n",
    "import math"
   ]
  },
  {
   "cell_type": "code",
   "execution_count": 2,
   "id": "525e972b",
   "metadata": {},
   "outputs": [
    {
     "name": "stdout",
     "output_type": "stream",
     "text": [
      "Available Depot Names: [0, 1, 2, 3, 4, 5, 6, 7, 8, 9, 10, 11, 12, 13, 14, 15, 16, 17, 18, 19, 20, 21, 22, 23, 24, 25, 26, 27, 28, 29, 30, 31, 32, 33, 34, 35, 36, 37, 38, 39, 40, 41, 42, 43, 44, 45, 46, 47, 48, 49, 50, 51, 52, 53, 54, 55, 56, 57, 58, 59, 60, 61, 62, 63, 64, 65]\n",
      "Available Vehicle Names: [0, 1, 2, 3, 4, 5, 6, 7, 8, 9, 10, 11, 12, 13, 14, 15, 16, 17, 18, 19, 20, 21]\n"
     ]
    }
   ],
   "source": [
    "generator = SolutionGenerator()\n",
    "checker = ConstraintChecker()\n",
    "factory = BuilderFactory()\n",
    "resource_calc = RouteResourceCalculator()"
   ]
  },
  {
   "cell_type": "code",
   "execution_count": 3,
   "id": "5b2de8d6",
   "metadata": {},
   "outputs": [
    {
     "data": {
      "text/plain": [
       "[0, 1, 4, 5, 6, 8, 48, 49, 54]"
      ]
     },
     "execution_count": 3,
     "metadata": {},
     "output_type": "execute_result"
    }
   ],
   "source": [
    "factory.depot_builder.all_depot_names_with_time_window_constraint"
   ]
  },
  {
   "cell_type": "code",
   "execution_count": 4,
   "id": "44fc0f34",
   "metadata": {
    "scrolled": true
   },
   "outputs": [
    {
     "name": "stdout",
     "output_type": "stream",
     "text": [
      "Function '_generate_initial_raw_solution' executed in 1.5473s\t**Depot 48 Is Not Assigned**\n",
      "Function '_generate_initial_raw_solution' executed in 6.9062s\tNo. 1 Success\n",
      "Function '_generate_initial_raw_solution' executed in 1.5110s\t**Depot 48 Is Not Assigned**\n",
      "Function '_generate_initial_raw_solution' executed in 1.4791s\t**Depot 48 Is Not Assigned**\n",
      "Function '_generate_initial_raw_solution' executed in 1.5087s\t**Depot 48 Is Not Assigned**\n",
      "Function '_generate_initial_raw_solution' executed in 1.5043s\t**Depot 48 Is Not Assigned**\n",
      "Function '_generate_initial_raw_solution' executed in 1.4815s\t**Depot 48 Is Not Assigned**\n",
      "Function '_generate_initial_raw_solution' executed in 1.5254s\t**Depot 48 Is Not Assigned**\n",
      "Function '_generate_initial_raw_solution' executed in 1.5689s\t**Depot 48 Is Not Assigned**\n",
      "Function '_generate_initial_raw_solution' executed in 1.5794s\t**Depot 48 Is Not Assigned**\n",
      "Function '_generate_initial_raw_solution' executed in 6.5332s\tNo. 2 Success\n",
      "Function '_generate_initial_raw_solution' executed in 1.4920s\t**Depot 48 Is Not Assigned**\n",
      "Function '_generate_initial_raw_solution' executed in 1.5088s\t**Depot 48 Is Not Assigned**\n",
      "Function '_generate_initial_raw_solution' executed in 1.5563s\t**Depot 48 Is Not Assigned**\n",
      "Function '_generate_initial_raw_solution' executed in 1.5224s\t**Depot 48 Is Not Assigned**\n",
      "Function '_generate_initial_raw_solution' executed in 1.5752s\t**Depot 48 Is Not Assigned**\n",
      "Function '_generate_initial_raw_solution' executed in 2.5526s\t**Depot 54 Is Not Assigned**\n",
      "Function '_generate_initial_raw_solution' executed in 2.4451s\t**Depot 49 Is Not Assigned**\n",
      "Function '_generate_initial_raw_solution' executed in 1.5908s\t**Depot 48 Is Not Assigned**\n",
      "Function '_generate_initial_raw_solution' executed in 6.2144s\tNo. 3 Success\n",
      "Function '_generate_initial_raw_solution' executed in 1.7512s\t**Depot 49 Is Not Assigned**\n",
      "Function '_generate_initial_raw_solution' executed in 1.6241s\t**Depot 48 Is Not Assigned**\n",
      "Function '_generate_initial_raw_solution' executed in 1.6792s\t**Depot 48 Is Not Assigned**\n",
      "Function '_generate_initial_raw_solution' executed in 2.4189s\t**Depot 49 Is Not Assigned**\n",
      "Function '_generate_initial_raw_solution' executed in 1.6056s\t**Depot 48 Is Not Assigned**\n",
      "Function '_generate_initial_raw_solution' executed in 1.5732s\t**Depot 48 Is Not Assigned**\n",
      "Function '_generate_initial_raw_solution' executed in 1.5281s\t**Depot 48 Is Not Assigned**\n",
      "Function '_generate_initial_raw_solution' executed in 5.2735s\tNo. 4 Success\n",
      "Function '_generate_initial_raw_solution' executed in 1.4923s\t**Depot 48 Is Not Assigned**\n",
      "Function '_generate_initial_raw_solution' executed in 1.5480s\t**Depot 48 Is Not Assigned**\n",
      "Function '_generate_initial_raw_solution' executed in 1.5894s\t**Depot 48 Is Not Assigned**\n",
      "Function '_generate_initial_raw_solution' executed in 1.7058s\t**Depot 48 Is Not Assigned**\n",
      "Function '_generate_initial_raw_solution' executed in 1.5932s\t**Depot 48 Is Not Assigned**\n",
      "Function '_generate_initial_raw_solution' executed in 3.8338s\t**Depot 54 Is Not Assigned**\n",
      "Function '_generate_initial_raw_solution' executed in 1.5352s\t**Depot 48 Is Not Assigned**\n",
      "Function '_generate_initial_raw_solution' executed in 1.5755s\t**Depot 48 Is Not Assigned**\n",
      "Function '_generate_initial_raw_solution' executed in 3.6576s\t**Depot 54 Is Not Assigned**\n",
      "Function '_generate_initial_raw_solution' executed in 1.5120s\t**Depot 48 Is Not Assigned**\n",
      "Function '_generate_initial_raw_solution' executed in 1.5477s\t**Depot 48 Is Not Assigned**\n",
      "Function '_generate_initial_raw_solution' executed in 1.8411s\t**Depot 49 Is Not Assigned**\n",
      "Function '_generate_initial_raw_solution' executed in 1.5199s\t**Depot 48 Is Not Assigned**\n",
      "Function '_generate_initial_raw_solution' executed in 4.6613s\t**Depot 54 Is Not Assigned**\n",
      "Function '_generate_initial_raw_solution' executed in 1.7356s\t**Depot 49 Is Not Assigned**\n",
      "Function '_generate_initial_raw_solution' executed in 1.5622s\t**Depot 48 Is Not Assigned**\n",
      "Function '_generate_initial_raw_solution' executed in 2.3667s\t**Depot 49 Is Not Assigned**\n",
      "Function '_generate_initial_raw_solution' executed in 1.5006s\t**Depot 48 Is Not Assigned**\n",
      "Function '_generate_initial_raw_solution' executed in 2.1617s\t**Depot 49 Is Not Assigned**\n",
      "Function '_generate_initial_raw_solution' executed in 2.9621s\t**Depot 54 Is Not Assigned**\n",
      "Function '_generate_initial_raw_solution' executed in 5.4506s\tNo. 5 Success\n",
      "Successful Rate: 10.2%\n",
      "Processing Solution Chromosomes...\n"
     ]
    },
    {
     "name": "stderr",
     "output_type": "stream",
     "text": [
      "100%|████████████████████████████████████████████████████████████████████████████████████████████████████████████████████████████████████████████████████████████████████████████████████████████████████████████████████████████████████████████████████████████████████████| 5/5 [00:06<00:00,  1.30s/it]"
     ]
    },
    {
     "name": "stdout",
     "output_type": "stream",
     "text": [
      "Function 'generate_valid_solutions' executed in 118.9298s\t"
     ]
    },
    {
     "name": "stderr",
     "output_type": "stream",
     "text": [
      "\n"
     ]
    },
    {
     "data": {
      "text/plain": [
       "[Chromosome: {0: [0, 8, 20, 28, 46, 0], 1: [0, 45, 52, 0], 2: [0, 14, 25, 41, 0], 3: [0, 2, 29, 60, 0], 4: [0, 24, 33, 58, 61, 0], 5: [0, 10, 17, 32, 0], 6: [0, 26, 27, 0], 7: [0, 37, 0], 8: [0, 4, 6, 18, 31, 0], 9: [0, 1, 5, 34, 65, 0], 10: [0, 22, 0], 11: [0, 19, 23, 62, 0], 12: [0, 3, 0], 13: [0, 11, 12, 30, 36, 39, 40, 43, 53, 0, 59, 63, 48, 49, 54, 0], 14: [0, 21, 42, 44, 47, 50, 56, 0], 15: [0, 13, 0], 16: [0, 7, 9, 38, 51, 55, 64, 0], 17: [0, 15, 16, 35, 0], 18: [0, 57, 0], 19: [], 20: [], 21: []}\n",
       " \tTotal Cost: $16014\n",
       " \tFuel Fee: $12276\n",
       " \tVehicle Fixed Cost: $1400\n",
       " \tDriver Cost: $2338\n",
       " \tDistance: 652 km\n",
       " \tTotal Delivery Time: 835.35 Mins\n",
       " \tNumber of Vehicles Assigned: 19\n",
       " \t------------------------------------------------------------,\n",
       " Chromosome: {0: [0, 17, 60, 0], 1: [], 2: [0, 28, 33, 0], 3: [0, 32, 44, 0], 4: [0, 15, 20, 24, 39, 0], 5: [0, 2, 25, 31, 50, 58, 0], 6: [0, 1, 6, 3, 10, 30, 42, 0], 7: [0, 5, 0], 8: [0, 21, 59, 61, 62, 0], 9: [0, 13, 22, 27, 0], 10: [0, 7, 0], 11: [0, 35, 36, 40, 43, 45, 0], 12: [0, 11, 18, 63, 0], 13: [0, 8, 9, 26, 64, 0], 14: [0, 16, 34, 37, 57, 0], 15: [0, 12, 23, 46, 51, 53, 48, 0, 49, 54, 0], 16: [0, 4, 19, 47, 0], 17: [0, 29, 38, 65, 0], 18: [0, 14, 41, 52, 55, 56, 0], 19: [], 20: [], 21: []}\n",
       " \tTotal Cost: $15529\n",
       " \tFuel Fee: $11885\n",
       " \tVehicle Fixed Cost: $1400\n",
       " \tDriver Cost: $2244\n",
       " \tDistance: 639 km\n",
       " \tTotal Delivery Time: 801.46 Mins\n",
       " \tNumber of Vehicles Assigned: 18\n",
       " \t------------------------------------------------------------,\n",
       " Chromosome: {0: [0, 11, 13, 14, 25, 0, 38, 46, 50, 0], 1: [0, 2, 12, 32, 59, 0], 2: [0, 21, 36, 43, 65, 0], 3: [0, 9, 27, 35, 0], 4: [0, 6, 26, 40, 51, 60, 0], 5: [0, 24, 52, 0], 6: [0, 7, 23, 33, 55, 64, 0, 48, 49, 54, 0], 7: [0, 42, 53, 0], 8: [0, 47, 61, 0], 9: [0, 1, 5, 15, 22, 34, 37, 45, 0], 10: [0, 3, 19, 0], 11: [0, 62, 0], 12: [0, 20, 30, 0], 13: [0, 29, 0], 14: [0, 8, 16, 17, 28, 58, 0], 15: [0, 41, 44, 63, 0], 16: [0, 31, 0], 17: [0, 4, 10, 39, 56, 57, 0], 18: [0, 18, 0], 19: [], 20: [], 21: []}\n",
       " \tTotal Cost: $15162\n",
       " \tFuel Fee: $11450\n",
       " \tVehicle Fixed Cost: $1400\n",
       " \tDriver Cost: $2312\n",
       " \tDistance: 587 km\n",
       " \tTotal Delivery Time: 826.06 Mins\n",
       " \tNumber of Vehicles Assigned: 19\n",
       " \t------------------------------------------------------------,\n",
       " Chromosome: {0: [0, 12, 16, 30, 40, 0, 63, 0], 1: [0, 5, 32, 52, 62, 0], 2: [], 3: [0, 4, 26, 59, 0], 4: [0, 61, 0], 5: [0, 29, 51, 64, 0], 6: [0, 7, 24, 39, 0], 7: [0, 15, 18, 35, 45, 47, 65, 0], 8: [0, 2, 3, 42, 46, 56, 0], 9: [0, 9, 21, 23, 38, 60, 48, 0, 49, 54, 0], 10: [0, 1, 13, 14, 31, 53, 0], 11: [], 12: [0, 22, 43, 0], 13: [0, 58, 0], 14: [0, 20, 28, 41, 0], 15: [0, 10, 50, 0], 16: [0, 11, 33, 37, 0], 17: [0, 8, 25, 55, 57, 0], 18: [0, 6, 17, 19, 27, 34, 36, 44, 0], 19: [], 20: [], 21: []}\n",
       " \tTotal Cost: $15036\n",
       " \tFuel Fee: $11437\n",
       " \tVehicle Fixed Cost: $1400\n",
       " \tDriver Cost: $2199\n",
       " \tDistance: 615 km\n",
       " \tTotal Delivery Time: 785.59 Mins\n",
       " \tNumber of Vehicles Assigned: 17\n",
       " \t------------------------------------------------------------,\n",
       " Chromosome: {0: [0, 12, 28, 37, 42, 0, 52, 0], 1: [0, 5, 2, 32, 59, 0], 2: [0, 7, 25, 26, 0], 3: [0, 6, 24, 51, 0], 4: [0, 10, 13, 35, 43, 0], 5: [0, 4, 33, 0], 6: [0, 50, 0], 7: [0, 11, 30, 34, 57, 58, 0, 64, 48, 49, 54, 0], 8: [0, 20, 21, 0], 9: [0, 3, 38, 0], 10: [0, 9, 23, 41, 60, 0], 11: [0, 45, 0], 12: [0, 14, 27, 31, 0], 13: [0, 46, 0], 14: [0, 15, 18, 22, 62, 0], 15: [0, 8, 29, 53, 0], 16: [0, 1, 16, 17, 19, 56, 0], 17: [0, 40, 47, 55, 63, 0], 18: [0, 36, 39, 44, 61, 65, 0], 19: [], 20: [], 21: []}\n",
       " \tTotal Cost: $13867\n",
       " \tFuel Fee: $10272\n",
       " \tVehicle Fixed Cost: $1400\n",
       " \tDriver Cost: $2195\n",
       " \tDistance: 520 km\n",
       " \tTotal Delivery Time: 784.28 Mins\n",
       " \tNumber of Vehicles Assigned: 19\n",
       " \t------------------------------------------------------------]"
      ]
     },
     "execution_count": 4,
     "metadata": {},
     "output_type": "execute_result"
    }
   ],
   "source": [
    "solution = generator.generate_valid_solutions(5)\n",
    "solution"
   ]
  },
  {
   "cell_type": "code",
   "execution_count": null,
   "id": "f1a5a525",
   "metadata": {},
   "outputs": [],
   "source": []
  }
 ],
 "metadata": {
  "kernelspec": {
   "display_name": "Python 3 (ipykernel)",
   "language": "python",
   "name": "python3"
  },
  "language_info": {
   "codemirror_mode": {
    "name": "ipython",
    "version": 3
   },
   "file_extension": ".py",
   "mimetype": "text/x-python",
   "name": "python",
   "nbconvert_exporter": "python",
   "pygments_lexer": "ipython3",
   "version": "3.9.12"
  }
 },
 "nbformat": 4,
 "nbformat_minor": 5
}
