{
 "cells": [
  {
   "cell_type": "code",
   "execution_count": 1,
   "id": "f35778d3",
   "metadata": {},
   "outputs": [],
   "source": [
    "from utilities import SolutionGenerator, ConstraintChecker,BuilderFactory,RouteResourceCalculator"
   ]
  },
  {
   "cell_type": "code",
   "execution_count": 2,
   "id": "525e972b",
   "metadata": {},
   "outputs": [
    {
     "name": "stdout",
     "output_type": "stream",
     "text": [
      "Available Depot Names: [0, 1, 2, 3, 4, 5, 6, 7, 8]\n",
      "Available Vehicle Names: [0, 1, 2]\n"
     ]
    }
   ],
   "source": [
    "generator = SolutionGenerator()\n",
    "checker = ConstraintChecker()\n",
    "factory = BuilderFactory()"
   ]
  },
  {
   "cell_type": "code",
   "execution_count": 3,
   "id": "44fc0f34",
   "metadata": {
    "scrolled": false
   },
   "outputs": [],
   "source": [
    "# solution = generator.generate_valid_solutions(50)"
   ]
  },
  {
   "cell_type": "code",
   "execution_count": 4,
   "id": "02b7bbe1",
   "metadata": {},
   "outputs": [],
   "source": [
    "resource_calc = RouteResourceCalculator()"
   ]
  },
  {
   "cell_type": "code",
   "execution_count": 5,
   "id": "361ed6be",
   "metadata": {},
   "outputs": [],
   "source": [
    "# solution"
   ]
  },
  {
   "cell_type": "code",
   "execution_count": 6,
   "id": "ae33f597",
   "metadata": {},
   "outputs": [],
   "source": [
    "import numpy as np"
   ]
  },
  {
   "cell_type": "code",
   "execution_count": 7,
   "id": "76c772be",
   "metadata": {},
   "outputs": [
    {
     "data": {
      "text/plain": [
       "0.03002002002002002"
      ]
     },
     "execution_count": 7,
     "metadata": {},
     "output_type": "execute_result"
    }
   ],
   "source": [
    "np.linspace(0.03, 0.05, 1000)[1]"
   ]
  },
  {
   "cell_type": "code",
   "execution_count": 8,
   "id": "4f91aed2",
   "metadata": {},
   "outputs": [
    {
     "data": {
      "text/plain": [
       "{0: [0, 1, 2, 0], 1: [0, 3, 5, 0], 2: [0, 6, 8, 4, 7, 0]}"
      ]
     },
     "execution_count": 8,
     "metadata": {},
     "output_type": "execute_result"
    }
   ],
   "source": [
    "{0: [0, 2, 0], 1: [0, 1, 5, 6, 4, 7, 0], 2: [0, 3, 8, 0]}\n",
    "{0: [0, 1, 2, 0], 1: [0, 3, 5, 0], 2: [0, 6, 8, 4, 7, 0]}"
   ]
  },
  {
   "cell_type": "code",
   "execution_count": 9,
   "id": "8fa20fb3",
   "metadata": {},
   "outputs": [
    {
     "data": {
      "text/plain": [
       "{'fuel_fee': 467.84,\n",
       " 'distance': 20.886,\n",
       " 'delivery_time': 13.76,\n",
       " 'service_time': 20,\n",
       " 'vehicle_fixed_cost': 1200,\n",
       " 'driver_cost': 94.52799999999999}"
      ]
     },
     "execution_count": 9,
     "metadata": {},
     "output_type": "execute_result"
    }
   ],
   "source": [
    "resource_calc.calculate_route_resources(1, [0, 1])"
   ]
  },
  {
   "cell_type": "code",
   "execution_count": 18,
   "id": "ae59e22a",
   "metadata": {},
   "outputs": [
    {
     "data": {
      "text/plain": [
       "[48.78, 80]"
      ]
     },
     "execution_count": 18,
     "metadata": {},
     "output_type": "execute_result"
    }
   ],
   "source": [
    "resource_calc._calculate_time(1,[0, 1, 5, 6, 4])"
   ]
  },
  {
   "cell_type": "code",
   "execution_count": 11,
   "id": "16a04275",
   "metadata": {},
   "outputs": [
    {
     "name": "stdout",
     "output_type": "stream",
     "text": [
      "5\n",
      "[0, 1, 5, 6, 4, 7]\n",
      "1\n",
      "5\n",
      "6\n",
      "4\n",
      "7\n"
     ]
    },
    {
     "data": {
      "text/plain": [
       "128.78"
      ]
     },
     "execution_count": 11,
     "metadata": {},
     "output_type": "execute_result"
    }
   ],
   "source": [
    "resource_calc._calculate_time_before_depot_idx(1,[0, 1, 5, 6, 4, 7], 7)"
   ]
  },
  {
   "cell_type": "code",
   "execution_count": 16,
   "id": "7cada481",
   "metadata": {},
   "outputs": [
    {
     "name": "stdout",
     "output_type": "stream",
     "text": [
      "0\n",
      "[0]\n",
      "earilest_time_can_be_delivered\n"
     ]
    },
    {
     "data": {
      "text/plain": [
       "False"
      ]
     },
     "execution_count": 16,
     "metadata": {},
     "output_type": "execute_result"
    }
   ],
   "source": [
    "checker.is_passing_time_window_constraints(2, [0, 3, 8, 4, 7, 0], 7)"
   ]
  },
  {
   "cell_type": "code",
   "execution_count": 13,
   "id": "5c3cb4b7",
   "metadata": {},
   "outputs": [],
   "source": [
    "def is_passing_time_window_constraints(vehicle_idx: int, route, depot_idx: int) -> bool:\n",
    "    current_depot = self.depots[depot_idx]\n",
    "    current_vehicle = self.vehicles[vehicle_idx]\n",
    "\n",
    "    route_ending_point = route[-1]\n",
    "    time_before_ending_point = self.resource_calc._calculate_time_before_depot_idx(\n",
    "        vehicle_idx,\n",
    "        route,\n",
    "        route_ending_point)\n",
    "\n",
    "    if (time_before_ending_point < current_depot.earilest_time_can_be_delivered):\n",
    "        print(\"earilest_time_can_be_delivered\")\n",
    "        return False\n",
    "\n",
    "    if (time_before_ending_point > current_depot.latest_time_must_be_delivered):\n",
    "        print(\"latest_time_must_be_delivered\")\n",
    "        return False\n",
    "\n",
    "    if (time_before_ending_point > current_vehicle.maximum_available_time):\n",
    "        print(\"maximum_available_time\")\n",
    "        return False\n",
    "\n",
    "    return True"
   ]
  },
  {
   "cell_type": "code",
   "execution_count": 14,
   "id": "f5d1ccc5",
   "metadata": {},
   "outputs": [
    {
     "ename": "NameError",
     "evalue": "name 'self' is not defined",
     "output_type": "error",
     "traceback": [
      "\u001b[0;31m---------------------------------------------------------------------------\u001b[0m",
      "\u001b[0;31mNameError\u001b[0m                                 Traceback (most recent call last)",
      "Input \u001b[0;32mIn [14]\u001b[0m, in \u001b[0;36m<cell line: 1>\u001b[0;34m()\u001b[0m\n\u001b[0;32m----> 1\u001b[0m \u001b[43mis_passing_time_window_constraints\u001b[49m\u001b[43m(\u001b[49m\u001b[38;5;241;43m1\u001b[39;49m\u001b[43m,\u001b[49m\u001b[43m \u001b[49m\u001b[43m[\u001b[49m\u001b[38;5;241;43m0\u001b[39;49m\u001b[43m,\u001b[49m\u001b[43m \u001b[49m\u001b[38;5;241;43m1\u001b[39;49m\u001b[43m,\u001b[49m\u001b[43m \u001b[49m\u001b[38;5;241;43m5\u001b[39;49m\u001b[43m,\u001b[49m\u001b[43m \u001b[49m\u001b[38;5;241;43m6\u001b[39;49m\u001b[43m,\u001b[49m\u001b[43m \u001b[49m\u001b[38;5;241;43m4\u001b[39;49m\u001b[43m,\u001b[49m\u001b[43m \u001b[49m\u001b[38;5;241;43m7\u001b[39;49m\u001b[43m,\u001b[49m\u001b[43m \u001b[49m\u001b[38;5;241;43m0\u001b[39;49m\u001b[43m]\u001b[49m\u001b[43m,\u001b[49m\u001b[43m \u001b[49m\u001b[38;5;241;43m4\u001b[39;49m\u001b[43m)\u001b[49m\n",
      "Input \u001b[0;32mIn [13]\u001b[0m, in \u001b[0;36mis_passing_time_window_constraints\u001b[0;34m(vehicle_idx, route, depot_idx)\u001b[0m\n\u001b[1;32m      1\u001b[0m \u001b[38;5;28;01mdef\u001b[39;00m \u001b[38;5;21mis_passing_time_window_constraints\u001b[39m(vehicle_idx: \u001b[38;5;28mint\u001b[39m, route, depot_idx: \u001b[38;5;28mint\u001b[39m) \u001b[38;5;241m-\u001b[39m\u001b[38;5;241m>\u001b[39m \u001b[38;5;28mbool\u001b[39m:\n\u001b[0;32m----> 2\u001b[0m     current_depot \u001b[38;5;241m=\u001b[39m \u001b[38;5;28;43mself\u001b[39;49m\u001b[38;5;241m.\u001b[39mdepots[depot_idx]\n\u001b[1;32m      3\u001b[0m     current_vehicle \u001b[38;5;241m=\u001b[39m \u001b[38;5;28mself\u001b[39m\u001b[38;5;241m.\u001b[39mvehicles[vehicle_idx]\n\u001b[1;32m      5\u001b[0m     route_ending_point \u001b[38;5;241m=\u001b[39m route[\u001b[38;5;241m-\u001b[39m\u001b[38;5;241m1\u001b[39m]\n",
      "\u001b[0;31mNameError\u001b[0m: name 'self' is not defined"
     ]
    }
   ],
   "source": [
    "is_passing_time_window_constraints(1, [0, 1, 5, 6, 4, 7, 0], 4)"
   ]
  },
  {
   "cell_type": "code",
   "execution_count": null,
   "id": "98c7341b",
   "metadata": {},
   "outputs": [],
   "source": []
  }
 ],
 "metadata": {
  "kernelspec": {
   "display_name": "Python 3 (ipykernel)",
   "language": "python",
   "name": "python3"
  },
  "language_info": {
   "codemirror_mode": {
    "name": "ipython",
    "version": 3
   },
   "file_extension": ".py",
   "mimetype": "text/x-python",
   "name": "python",
   "nbconvert_exporter": "python",
   "pygments_lexer": "ipython3",
   "version": "3.9.12"
  }
 },
 "nbformat": 4,
 "nbformat_minor": 5
}
