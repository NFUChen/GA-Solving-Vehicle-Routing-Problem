{
 "cells": [
  {
   "cell_type": "code",
   "execution_count": 1,
   "id": "f35778d3",
   "metadata": {},
   "outputs": [],
   "source": [
    "from utilities import SolutionGenerator, ConstraintChecker,BuilderFactory,RouteResourceCalculator, SolutionChromosome\n",
    "from typing import List\n",
    "from random import random, choices\n",
    "import math\n",
    "from copy import deepcopy"
   ]
  },
  {
   "cell_type": "code",
   "execution_count": 2,
   "id": "525e972b",
   "metadata": {},
   "outputs": [
    {
     "name": "stdout",
     "output_type": "stream",
     "text": [
      "Available Vehicle Names: [0, 1, 2, 3, 4, 5, 6, 7, 8, 9, 10, 11, 12, 13, 14, 15, 16, 17, 18, 19, 20, 21]\n",
      "Available Depot Names: [0, 1, 2, 3, 4, 5, 6, 7, 8, 9, 10, 11, 12, 13, 14, 15, 16, 17, 18, 19, 20, 21, 22, 23, 24, 25, 26, 27, 28, 29, 30, 31, 32, 33, 34, 35, 36, 37, 38, 39, 40, 41, 42, 43, 44, 45, 46, 47, 48, 49, 50, 51, 52, 53, 54, 55, 56, 57, 58, 59, 60, 61, 62, 63, 64, 65]\n",
      "All Depots With Time Window Constraints: [0, 1, 4, 5, 6, 8, 48, 49, 54]\n"
     ]
    }
   ],
   "source": [
    "generator = SolutionGenerator()\n",
    "checker = ConstraintChecker()\n",
    "factory = BuilderFactory()\n",
    "resource_calc = RouteResourceCalculator()"
   ]
  },
  {
   "cell_type": "code",
   "execution_count": 4,
   "id": "44fc0f34",
   "metadata": {
    "scrolled": false
   },
   "outputs": [
    {
     "name": "stdout",
     "output_type": "stream",
     "text": [
      "Function '_generate_initial_raw_solution' executed in 19.3019s\tNo. 1 Success\n",
      "Function '_generate_initial_raw_solution' executed in 8.4127s\t**Depot 48 Is Not Assigned**\n",
      "Function '_generate_initial_raw_solution' executed in 23.7286s\tNo. 2 Success\n",
      "Function '_generate_initial_raw_solution' executed in 20.9931s\tNo. 3 Success\n",
      "Successful Rate: 75.0%\n",
      "Processing Solution Chromosomes...\n"
     ]
    },
    {
     "name": "stderr",
     "output_type": "stream",
     "text": [
      "100%|██████████████████████████████████████████████████████████████████████████████████████████| 3/3 [00:16<00:00,  5.57s/it]"
     ]
    },
    {
     "name": "stdout",
     "output_type": "stream",
     "text": [
      "Function 'generate_valid_solutions' executed in 89.1655s\t"
     ]
    },
    {
     "name": "stderr",
     "output_type": "stream",
     "text": [
      "\n"
     ]
    },
    {
     "data": {
      "text/plain": [
       "[Chromosome: {0: [0, 18, 22, 52, 0], 1: [0, 11, 41, 0], 2: [0, 21, 33, 42, 0], 3: [0, 17, 0], 4: [0, 31, 37, 56, 59, 0], 5: [0, 28, 35, 61, 0], 6: [0, 1, 13, 39, 0], 7: [0, 24, 45, 0], 8: [0, 29, 43, 63, 0], 9: [0, 10, 25, 57, 60, 48, 49, 0], 10: [0, 3, 0], 11: [0, 5, 7, 16, 20, 23, 0], 12: [0, 46, 51, 0], 13: [0, 15, 19, 26, 38, 65, 0], 14: [0, 2, 12, 30, 62, 0], 15: [0, 9, 34, 44, 0], 16: [0, 4, 6, 14, 27, 32, 40, 0], 17: [0, 8, 36, 47, 50, 53, 58, 54, 0], 18: [0, 55, 64, 0], 19: [], 20: [], 21: []}\n",
       " \tTotal Cost: $62946\n",
       " \tFuel Fee: $51708\n",
       " \tVehicle Fixed Cost: $1400\n",
       " \tDriver Cost: $9838\n",
       " \tDistance: 2598 km\n",
       " \tTotal Delivery Time: 3513.63 Mins\n",
       " \tNumber of Vehicles Assigned: 19\n",
       " \tNumber of Replenishsments: 0\n",
       " \t------------------------------------------------------------,\n",
       " Chromosome: {0: [0, 1, 7, 33, 0], 1: [0, 3, 45, 62, 0], 2: [0, 6, 0], 3: [0, 12, 26, 53, 0], 4: [0, 13, 38, 41, 42, 57, 0], 5: [0, 11, 28, 43, 0], 6: [0, 24, 64, 0], 7: [0, 4, 34, 46, 0], 8: [0, 39, 40, 65, 0], 9: [0, 15, 16, 17, 22, 25, 0], 10: [], 11: [0, 20, 35, 37, 51, 52, 61, 0], 12: [0, 10, 36, 44, 58, 0], 13: [0, 8, 55, 0], 14: [0, 59, 60, 63, 0], 15: [0, 9, 32, 47, 50, 0], 16: [0, 2, 14, 21, 30, 56, 0], 17: [0, 19, 23, 27, 48, 49, 54, 0], 18: [0, 5, 18, 29, 31, 0], 19: [], 20: [], 21: []}\n",
       " \tTotal Cost: $61189\n",
       " \tFuel Fee: $50161\n",
       " \tVehicle Fixed Cost: $1400\n",
       " \tDriver Cost: $9628\n",
       " \tDistance: 2511 km\n",
       " \tTotal Delivery Time: 3438.79 Mins\n",
       " \tNumber of Vehicles Assigned: 18\n",
       " \tNumber of Replenishsments: 0\n",
       " \t------------------------------------------------------------,\n",
       " Chromosome: {0: [0, 21, 30, 59, 0], 1: [0, 14, 15, 0], 2: [0, 12, 26, 39, 0], 3: [0, 8, 11, 13, 58, 0], 4: [0, 1, 16, 44, 56, 0], 5: [0, 23, 31, 55, 64, 48, 0], 6: [0, 36, 37, 42, 43, 60, 0], 7: [0, 3, 19, 0], 8: [0, 40, 0], 9: [0, 18, 25, 28, 35, 45, 46, 52, 0], 10: [0, 41, 65, 0], 11: [0, 32, 33, 53, 63, 0], 12: [0, 6, 38, 0], 13: [0, 5, 29, 50, 0], 14: [0, 10, 34, 47, 51, 0], 15: [0, 17, 24, 27, 62, 0], 16: [0, 7, 22, 61, 0], 17: [], 18: [0, 4, 2, 9, 20, 57, 49, 54, 0], 19: [], 20: [], 21: []}\n",
       " \tTotal Cost: $61047\n",
       " \tFuel Fee: $50032\n",
       " \tVehicle Fixed Cost: $1400\n",
       " \tDriver Cost: $9615\n",
       " \tDistance: 2476 km\n",
       " \tTotal Delivery Time: 3434.21 Mins\n",
       " \tNumber of Vehicles Assigned: 18\n",
       " \tNumber of Replenishsments: 0\n",
       " \t------------------------------------------------------------]"
      ]
     },
     "execution_count": 4,
     "metadata": {},
     "output_type": "execute_result"
    }
   ],
   "source": [
    "solution = generator.generate_valid_solutions(3)\n",
    "solution"
   ]
  },
  {
   "cell_type": "code",
   "execution_count": null,
   "id": "38316f1f",
   "metadata": {},
   "outputs": [],
   "source": [
    "# solution[-1].vehicles_can_be_chosen_for_crossover"
   ]
  },
  {
   "cell_type": "code",
   "execution_count": null,
   "id": "59e81ff8",
   "metadata": {},
   "outputs": [],
   "source": [
    "# solution[-1].vehicles_can_be_chosen_for_mutation"
   ]
  },
  {
   "cell_type": "code",
   "execution_count": null,
   "id": "1f41be88",
   "metadata": {},
   "outputs": [],
   "source": [
    "from utilities import GeneticAlgorithm\n",
    "import numpy as np"
   ]
  },
  {
   "cell_type": "code",
   "execution_count": null,
   "id": "f6a97151",
   "metadata": {},
   "outputs": [],
   "source": [
    "ga = GeneticAlgorithm(6,0.05,0.6, 1000)"
   ]
  },
  {
   "cell_type": "code",
   "execution_count": null,
   "id": "e9572ca3",
   "metadata": {},
   "outputs": [],
   "source": [
    "# ga.solve()"
   ]
  },
  {
   "cell_type": "code",
   "execution_count": 8,
   "id": "7513340f",
   "metadata": {},
   "outputs": [
    {
     "data": {
      "text/plain": [
       "True"
      ]
     },
     "execution_count": 8,
     "metadata": {},
     "output_type": "execute_result"
    }
   ],
   "source": [
    "checker.is_all_depots_passing_time_window_constraints(10,[0, 10, 25, 57, 60, 48, 49, 0])"
   ]
  },
  {
   "cell_type": "code",
   "execution_count": 9,
   "id": "26c397af",
   "metadata": {},
   "outputs": [
    {
     "data": {
      "text/plain": [
       "{'fuel_fee': 8276.699999999999,\n",
       " 'distance': 422.13400000000007,\n",
       " 'delivery_time': 293.5,\n",
       " 'service_time': 140,\n",
       " 'total_time': 433.5,\n",
       " 'vehicle_fixed_cost': 1200,\n",
       " 'driver_cost': 1213.8,\n",
       " 'number_of_replenishment': 0,\n",
       " 'number_of_vehicles_assigned': 1}"
      ]
     },
     "execution_count": 9,
     "metadata": {},
     "output_type": "execute_result"
    }
   ],
   "source": [
    "resource_calc.calculate_route_resources(10,[0, 10, 25, 57, 60, 48, 49, 0])"
   ]
  },
  {
   "cell_type": "code",
   "execution_count": null,
   "id": "5fb48074",
   "metadata": {},
   "outputs": [],
   "source": []
  }
 ],
 "metadata": {
  "kernelspec": {
   "display_name": "Python 3 (ipykernel)",
   "language": "python",
   "name": "python3"
  },
  "language_info": {
   "codemirror_mode": {
    "name": "ipython",
    "version": 3
   },
   "file_extension": ".py",
   "mimetype": "text/x-python",
   "name": "python",
   "nbconvert_exporter": "python",
   "pygments_lexer": "ipython3",
   "version": "3.9.12"
  }
 },
 "nbformat": 4,
 "nbformat_minor": 5
}
