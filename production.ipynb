{
 "cells": [
  {
   "cell_type": "code",
   "execution_count": 1,
   "id": "f35778d3",
   "metadata": {},
   "outputs": [],
   "source": [
    "from utilities import SolutionGenerator, ConstraintChecker,BuilderFactory,RouteResourceCalculator, SolutionChromosome\n",
    "from typing import List\n",
    "from random import random, choices\n",
    "import math\n",
    "from copy import deepcopy"
   ]
  },
  {
   "cell_type": "code",
   "execution_count": 2,
   "id": "525e972b",
   "metadata": {},
   "outputs": [
    {
     "name": "stdout",
     "output_type": "stream",
     "text": [
      "Available Vehicle Names: [0, 1, 2, 3, 4, 5, 6, 7, 8, 9, 10, 11, 12, 13, 14, 15, 16, 17, 18, 19, 20, 21]\n",
      "Available Depot Names: [0, 1, 2, 3, 4, 5, 6, 7, 8, 9, 10, 11, 12, 13, 14, 15, 16, 17, 18, 19, 20, 21, 22, 23, 24, 25, 26, 27, 28, 29, 30, 31, 32, 33, 34, 35, 36, 37, 38, 39, 40, 41, 42, 43, 44, 45, 46, 47, 48, 49, 50, 51, 52, 53, 54, 55, 56, 57, 58, 59, 60, 61, 62, 63, 64, 65]\n",
      "All Depots With Time Window Constraints: [0, 1, 4, 5, 6, 8, 48, 49, 54]\n"
     ]
    }
   ],
   "source": [
    "generator = SolutionGenerator()\n",
    "checker = ConstraintChecker()\n",
    "factory = BuilderFactory()\n",
    "resource_calc = RouteResourceCalculator()"
   ]
  },
  {
   "cell_type": "code",
   "execution_count": 4,
   "id": "44fc0f34",
   "metadata": {
    "scrolled": false
   },
   "outputs": [
    {
     "name": "stdout",
     "output_type": "stream",
     "text": [
      "Function '_generate_initial_raw_solution' executed in 10.6635s\tNo. 1 Success\n",
      "Function '_generate_initial_raw_solution' executed in 12.2852s\tNo. 2 Success\n",
      "Function '_generate_initial_raw_solution' executed in 13.1819s\tNo. 3 Success\n",
      "Successful Rate: 100.0%\n",
      "Processing Solution Chromosomes...\n"
     ]
    },
    {
     "name": "stderr",
     "output_type": "stream",
     "text": [
      "100%|██████████████████████████████████████████████████████████████████████████████████████████| 3/3 [00:16<00:00,  5.64s/it]"
     ]
    },
    {
     "name": "stdout",
     "output_type": "stream",
     "text": [
      "Function 'generate_valid_solutions' executed in 53.0743s\t"
     ]
    },
    {
     "name": "stderr",
     "output_type": "stream",
     "text": [
      "\n"
     ]
    },
    {
     "data": {
      "text/plain": [
       "[Chromosome: {0: [0, 16, 21, 26, 0], 1: [0, 4, 46, 51, 53, 0], 2: [0, 35, 0], 3: [0, 1, 10, 13, 20, 40, 41, 0], 4: [0, 11, 12, 50, 0], 5: [0, 23, 31, 59, 48, 0, 49, 0], 6: [0, 2, 24, 36, 37, 0], 7: [0, 38, 39, 58, 0], 8: [0, 29, 45, 62, 0], 9: [0, 6, 22, 30, 0], 10: [0, 56, 0], 11: [0, 14, 19, 44, 60, 0], 12: [0, 43, 0], 13: [0, 3, 18, 42, 47, 0], 14: [0, 8, 34, 61, 63, 0], 15: [0, 15, 57, 54, 0], 16: [0, 9, 17, 25, 65, 0], 17: [0, 7, 28, 33, 52, 55, 0], 18: [0, 5, 27, 32, 64, 0], 19: [], 20: [], 21: []}\n",
       " \tTotal Cost: $63969\n",
       " \tFuel Fee: $52588\n",
       " \tVehicle Fixed Cost: $1400\n",
       " \tDriver Cost: $9981\n",
       " \tDistance: 2599 km\n",
       " \tTotal Delivery Time: 3564.85 Mins\n",
       " \tNumber of Vehicles Assigned: 19\n",
       " \tNumber of Replenishsments: 1\n",
       " \t------------------------------------------------------------,\n",
       " Chromosome: {0: [0, 3, 18, 52, 62, 0], 1: [0, 16, 42, 57, 48, 0, 49, 0], 2: [0, 5, 24, 39, 0], 3: [0, 11, 14, 43, 65, 0], 4: [0, 9, 22, 32, 36, 0], 5: [0, 23, 29, 44, 56, 0], 6: [0, 7, 55, 60, 0], 7: [0, 41, 46, 0], 8: [0, 6, 12, 13, 61, 0], 9: [0, 30, 63, 0], 10: [0, 53, 59, 64, 0], 11: [0, 10, 45, 0], 12: [0, 8, 21, 0], 13: [0, 4, 40, 0], 14: [0, 34, 50, 0], 15: [0, 15, 28, 38, 0], 16: [0, 17, 20, 25, 27, 37, 47, 51, 54, 0], 17: [0, 1, 2, 19, 26, 33, 35, 0], 18: [0, 31, 58, 0], 19: [], 20: [], 21: []}\n",
       " \tTotal Cost: $62172\n",
       " \tFuel Fee: $50953\n",
       " \tVehicle Fixed Cost: $1400\n",
       " \tDriver Cost: $9819\n",
       " \tDistance: 2533 km\n",
       " \tTotal Delivery Time: 3506.86 Mins\n",
       " \tNumber of Vehicles Assigned: 19\n",
       " \tNumber of Replenishsments: 1\n",
       " \t------------------------------------------------------------,\n",
       " Chromosome: {0: [0, 13, 17, 41, 0], 1: [0, 4, 18, 0], 2: [0, 43, 0], 3: [0, 39, 45, 59, 0], 4: [0, 5, 8, 12, 32, 0, 44, 58, 65, 48, 49, 0], 5: [0, 16, 42, 63, 0], 6: [0, 33, 56, 0], 7: [0, 51, 55, 0], 8: [0, 1, 2, 14, 22, 24, 38, 46, 62, 0, 54, 0], 9: [0, 20, 23, 26, 50, 0], 10: [], 11: [0, 10, 29, 53, 61, 0], 12: [0, 9, 27, 35, 40, 0], 13: [0, 11, 15, 0], 14: [0, 19, 34, 37, 60, 64, 0], 15: [0, 3, 31, 47, 0], 16: [0, 28, 30, 57, 0], 17: [0, 6, 21, 25, 36, 0], 18: [0, 7, 52, 0], 19: [], 20: [], 21: []}\n",
       " \tTotal Cost: $61818\n",
       " \tFuel Fee: $50631\n",
       " \tVehicle Fixed Cost: $1400\n",
       " \tDriver Cost: $9787\n",
       " \tDistance: 2486 km\n",
       " \tTotal Delivery Time: 3495.45 Mins\n",
       " \tNumber of Vehicles Assigned: 18\n",
       " \tNumber of Replenishsments: 2\n",
       " \t------------------------------------------------------------]"
      ]
     },
     "execution_count": 4,
     "metadata": {},
     "output_type": "execute_result"
    }
   ],
   "source": [
    "solution = generator.generate_valid_solutions(3)\n",
    "solution"
   ]
  },
  {
   "cell_type": "code",
   "execution_count": null,
   "id": "f036b27e",
   "metadata": {},
   "outputs": [],
   "source": [
    "# solution[-1].vehicles_can_be_chosen_for_crossover"
   ]
  },
  {
   "cell_type": "code",
   "execution_count": null,
   "id": "524f9dcf",
   "metadata": {},
   "outputs": [],
   "source": [
    "# solution[-1].vehicles_can_be_chosen_for_mutation"
   ]
  },
  {
   "cell_type": "code",
   "execution_count": null,
   "id": "1f41be88",
   "metadata": {},
   "outputs": [],
   "source": [
    "from utilities import GeneticAlgorithm\n",
    "import numpy as np"
   ]
  },
  {
   "cell_type": "code",
   "execution_count": null,
   "id": "f6a97151",
   "metadata": {},
   "outputs": [],
   "source": [
    "ga = GeneticAlgorithm(6,0.05,0.6, 1000)"
   ]
  },
  {
   "cell_type": "code",
   "execution_count": null,
   "id": "e9572ca3",
   "metadata": {},
   "outputs": [],
   "source": [
    "# ga.solve()"
   ]
  },
  {
   "cell_type": "code",
   "execution_count": 3,
   "id": "82fa96fb",
   "metadata": {},
   "outputs": [
    {
     "name": "stdout",
     "output_type": "stream",
     "text": [
      "[0, 4]\n",
      "[0, 4, 8]\n",
      "[0, 4, 8, 34, 0]\n",
      "[0, 4, 8, 34, 0, 52]\n",
      "[0, 4, 8, 34, 0, 52, 59]\n",
      "[0, 4, 8, 34, 0, 52, 59, 63]\n",
      "[0, 4, 8, 34, 0, 52, 59, 63, 48, 0]\n",
      "[0, 4, 8, 34, 0, 52, 59, 63, 48, 0, 49]\n"
     ]
    },
    {
     "data": {
      "text/plain": [
       "False"
      ]
     },
     "execution_count": 3,
     "metadata": {},
     "output_type": "execute_result"
    }
   ],
   "source": [
    "checker.is_all_depots_passing_time_window_constraints(10, [0, 4, 8, 34, 0, 52, 59, 63, 48, 0, 49, 54, 0])"
   ]
  },
  {
   "cell_type": "code",
   "execution_count": null,
   "id": "ce98f978",
   "metadata": {},
   "outputs": [],
   "source": [
    "resource_calc.calculate_route_resources(10, [0, 3, 12, 13, 14, 19, 26, 43, 0, 60, 63, 49])"
   ]
  },
  {
   "cell_type": "code",
   "execution_count": null,
   "id": "5bc481e2",
   "metadata": {},
   "outputs": [],
   "source": []
  }
 ],
 "metadata": {
  "kernelspec": {
   "display_name": "Python 3 (ipykernel)",
   "language": "python",
   "name": "python3"
  },
  "language_info": {
   "codemirror_mode": {
    "name": "ipython",
    "version": 3
   },
   "file_extension": ".py",
   "mimetype": "text/x-python",
   "name": "python",
   "nbconvert_exporter": "python",
   "pygments_lexer": "ipython3",
   "version": "3.9.12"
  }
 },
 "nbformat": 4,
 "nbformat_minor": 5
}
