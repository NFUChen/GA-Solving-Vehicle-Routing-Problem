{
 "cells": [
  {
   "cell_type": "code",
   "execution_count": 1,
   "id": "f35778d3",
   "metadata": {},
   "outputs": [],
   "source": [
    "from utilities import SolutionGenerator, ConstraintChecker, BuilderFactory"
   ]
  },
  {
   "cell_type": "code",
   "execution_count": 2,
   "id": "53b3749a",
   "metadata": {},
   "outputs": [
    {
     "name": "stdout",
     "output_type": "stream",
     "text": [
      "Available Depot Names: [0, 1, 2, 3, 4, 5, 6, 7, 8]\n",
      "Available Vehicle Names: [0, 1, 2]\n"
     ]
    }
   ],
   "source": [
    "solution_generator = SolutionGenerator()"
   ]
  },
  {
   "cell_type": "code",
   "execution_count": null,
   "id": "3fc2057b",
   "metadata": {},
   "outputs": [],
   "source": [
    "solution_generator.generate_valid_solutions(50)"
   ]
  },
  {
   "cell_type": "code",
   "execution_count": null,
   "id": "9f6729b9",
   "metadata": {},
   "outputs": [],
   "source": []
  },
  {
   "cell_type": "code",
   "execution_count": null,
   "id": "11eb1ffc",
   "metadata": {},
   "outputs": [],
   "source": []
  }
 ],
 "metadata": {
  "kernelspec": {
   "display_name": "Python 3 (ipykernel)",
   "language": "python",
   "name": "python3"
  },
  "language_info": {
   "codemirror_mode": {
    "name": "ipython",
    "version": 3
   },
   "file_extension": ".py",
   "mimetype": "text/x-python",
   "name": "python",
   "nbconvert_exporter": "python",
   "pygments_lexer": "ipython3",
   "version": "3.9.12"
  }
 },
 "nbformat": 4,
 "nbformat_minor": 5
}
