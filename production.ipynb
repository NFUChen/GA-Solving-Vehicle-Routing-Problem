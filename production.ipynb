{
 "cells": [
  {
   "cell_type": "code",
   "execution_count": 1,
   "id": "f35778d3",
   "metadata": {},
   "outputs": [],
   "source": [
    "from utilities import SolutionGenerator, ConstraintChecker,BuilderFactory,RouteResourceCalculator, SolutionChromosome\n",
    "from typing import List\n",
    "from random import random, choices\n",
    "import math\n",
    "from copy import deepcopy"
   ]
  },
  {
   "cell_type": "code",
   "execution_count": 2,
   "id": "525e972b",
   "metadata": {},
   "outputs": [
    {
     "name": "stdout",
     "output_type": "stream",
     "text": [
      "Available Vehicle Names: [0, 1, 2, 3, 4, 5, 6, 7, 8, 9, 10, 11, 12, 13, 14, 15, 16, 17, 18, 19, 20, 21]\n",
      "Available Depot Names: [0, 1, 2, 3, 4, 5, 6, 7, 8, 9, 10, 11, 12, 13, 14, 15, 16, 17, 18, 19, 20, 21, 22, 23, 24, 25, 26, 27, 28, 29, 30, 31, 32, 33, 34, 35, 36, 37, 38, 39, 40, 41, 42, 43, 44, 45, 46, 47, 48, 49, 50, 51, 52, 53, 54, 55, 56, 57, 58, 59, 60, 61, 62, 63, 64, 65]\n",
      "All Depots With Time Window Constraints: [0, 1, 4, 5, 6, 8, 48, 49, 54]\n"
     ]
    }
   ],
   "source": [
    "generator = SolutionGenerator()\n",
    "checker = ConstraintChecker()\n",
    "factory = BuilderFactory()\n",
    "resource_calc = RouteResourceCalculator()"
   ]
  },
  {
   "cell_type": "code",
   "execution_count": 3,
   "id": "44fc0f34",
   "metadata": {
    "scrolled": true
   },
   "outputs": [],
   "source": [
    "# solution = generator.generate_valid_solutions(3)\n",
    "# solution"
   ]
  },
  {
   "cell_type": "code",
   "execution_count": 4,
   "id": "c20c7f13",
   "metadata": {},
   "outputs": [],
   "source": [
    "test_solusion = {0: [0, 10, 50, 55, 0], 1: [0, 6, 41, 45, 0], 2: [0, 15, 21, 25, 30, 36, 0], 3: [0, 47, 0], 4: [0, 18, 0], 5: [0, 13, 28, 29, 33, 0], 6: [0, 1, 14, 17, 19, 31, 37, 43, 0], 7: [0, 26, 38, 46, 65, 0], 8: [], 9: [0, 11, 23, 27, 32, 56, 48, 0, 49, 54, 0], 10: [], 11: [0, 4, 5, 8, 12, 20, 24, 35, 40, 0], 12: [0, 34, 51, 60, 64, 0], 13: [], 14: [0, 39, 61, 63, 0], 15: [0, 2, 3, 9, 22, 42, 0], 16: [0, 16, 53, 0], 17: [0, 58, 62, 0], 18: [0, 7, 44, 52, 57, 59, 0], 19: [], 20: [], 21: []}"
   ]
  },
  {
   "cell_type": "code",
   "execution_count": 5,
   "id": "7b0de8c8",
   "metadata": {},
   "outputs": [],
   "source": [
    "chromosome = SolutionChromosome(test_solusion,[0, 1, 4, 5, 6, 8, 48, 49, 54])\n",
    "copy_chromosome = deepcopy(chromosome)"
   ]
  },
  {
   "cell_type": "code",
   "execution_count": 11,
   "id": "6a93bc83",
   "metadata": {},
   "outputs": [
    {
     "name": "stdout",
     "output_type": "stream",
     "text": [
      "Mutate:  reverse_mutate\n",
      "7 [0, 26, 38, 46, 65, 0]\n",
      "[0, 38, 26, 46, 65, 0]\n"
     ]
    },
    {
     "data": {
      "text/plain": [
       "Chromosome: {0: [0, 10, 50, 55, 0], 1: [0, 6, 41, 45, 0], 2: [0, 15, 21, 25, 30, 36, 0], 3: [0, 47, 0], 4: [0, 18, 0], 5: [0, 13, 28, 29, 33, 0], 6: [0, 1, 14, 17, 19, 31, 37, 43, 0], 7: [0, 38, 26, 46, 65, 0], 8: [], 9: [0, 11, 23, 27, 32, 56, 48, 0, 49, 54, 0], 10: [], 11: [0, 4, 5, 8, 12, 20, 24, 35, 40, 0], 12: [0, 34, 51, 60, 64, 0], 13: [], 14: [0, 39, 61, 63, 0], 15: [0, 2, 3, 9, 22, 42, 0], 16: [0, 53, 16, 0], 17: [0, 58, 62, 0], 18: [0, 7, 44, 52, 57, 59, 0], 19: [], 20: [], 21: []}\n",
       "\tTotal Cost: $11240\n",
       "\tFuel Fee: $8086\n",
       "\tVehicle Fixed Cost: $1400\n",
       "\tDriver Cost: $1754\n",
       "\tDistance: 426 km\n",
       "\tTotal Delivery Time: 626.75 Mins\n",
       "\tNumber of Vehicles Assigned: 16\n",
       "\tNumber of Replenishsments: 1\n",
       "\t------------------------------------------------------------"
      ]
     },
     "execution_count": 11,
     "metadata": {},
     "output_type": "execute_result"
    }
   ],
   "source": [
    "chromosome.mutate(1)"
   ]
  },
  {
   "cell_type": "code",
   "execution_count": 7,
   "id": "a2de65d8",
   "metadata": {},
   "outputs": [
    {
     "data": {
      "text/plain": [
       "Chromosome: {0: [0, 10, 50, 55, 0], 1: [0, 6, 41, 45, 0], 2: [0, 15, 21, 25, 30, 36, 0], 3: [0, 47, 0], 4: [0, 18, 0], 5: [0, 13, 28, 29, 33, 0], 6: [0, 1, 14, 17, 19, 31, 37, 43, 0], 7: [0, 26, 38, 46, 65, 0], 8: [], 9: [0, 11, 23, 27, 32, 56, 48, 0, 49, 54, 0], 10: [], 11: [0, 4, 5, 8, 12, 20, 24, 35, 40, 0], 12: [0, 34, 51, 60, 64, 0], 13: [], 14: [0, 39, 61, 63, 0], 15: [0, 2, 3, 9, 22, 42, 0], 16: [0, 16, 53, 0], 17: [0, 58, 62, 0], 18: [0, 7, 44, 52, 57, 59, 0], 19: [], 20: [], 21: []}\n",
       "\tTotal Cost: $11287\n",
       "\tFuel Fee: $8128\n",
       "\tVehicle Fixed Cost: $1400\n",
       "\tDriver Cost: $1759\n",
       "\tDistance: 430 km\n",
       "\tTotal Delivery Time: 628.23 Mins\n",
       "\tNumber of Vehicles Assigned: 16\n",
       "\tNumber of Replenishsments: 1\n",
       "\t------------------------------------------------------------"
      ]
     },
     "execution_count": 7,
     "metadata": {},
     "output_type": "execute_result"
    }
   ],
   "source": [
    "copy_chromosome"
   ]
  },
  {
   "cell_type": "code",
   "execution_count": 12,
   "id": "613ecdea",
   "metadata": {},
   "outputs": [
    {
     "data": {
      "text/plain": [
       "True"
      ]
     },
     "execution_count": 12,
     "metadata": {},
     "output_type": "execute_result"
    }
   ],
   "source": [
    "checker.is_passing_time_window_constraints(7,[0, 38, 26, 46, 65, 0], 16)"
   ]
  },
  {
   "cell_type": "code",
   "execution_count": null,
   "id": "5ff4ad70",
   "metadata": {},
   "outputs": [],
   "source": []
  }
 ],
 "metadata": {
  "kernelspec": {
   "display_name": "Python 3 (ipykernel)",
   "language": "python",
   "name": "python3"
  },
  "language_info": {
   "codemirror_mode": {
    "name": "ipython",
    "version": 3
   },
   "file_extension": ".py",
   "mimetype": "text/x-python",
   "name": "python",
   "nbconvert_exporter": "python",
   "pygments_lexer": "ipython3",
   "version": "3.9.12"
  }
 },
 "nbformat": 4,
 "nbformat_minor": 5
}
