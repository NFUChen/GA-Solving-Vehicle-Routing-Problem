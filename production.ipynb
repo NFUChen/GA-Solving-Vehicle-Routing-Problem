{
 "cells": [
  {
   "cell_type": "code",
   "execution_count": 1,
   "id": "f35778d3",
   "metadata": {},
   "outputs": [],
   "source": [
    "from utilities import SolutionGenerator, ConstraintChecker,BuilderFactory,RouteResourceCalculator, SolutionChromosome\n",
    "from typing import List\n",
    "from random import random, choices\n",
    "import math\n",
    "from copy import deepcopy"
   ]
  },
  {
   "cell_type": "code",
   "execution_count": 2,
   "id": "525e972b",
   "metadata": {},
   "outputs": [
    {
     "name": "stdout",
     "output_type": "stream",
     "text": [
      "Available Vehicle Names: [0, 1, 2]\n",
      "Available Depot Names: [0, 1, 2, 3, 4, 5, 6, 7, 8]\n",
      "All Depots With Time Window Constraints: [0, 1, 3, 4, 7]\n"
     ]
    }
   ],
   "source": [
    "generator = SolutionGenerator()\n",
    "checker = ConstraintChecker()\n",
    "factory = BuilderFactory()\n",
    "resource_calc = RouteResourceCalculator()"
   ]
  },
  {
   "cell_type": "code",
   "execution_count": 3,
   "id": "44fc0f34",
   "metadata": {
    "scrolled": true
   },
   "outputs": [],
   "source": [
    "# solution = generator.generate_valid_solutions(3)\n",
    "# solution"
   ]
  },
  {
   "cell_type": "code",
   "execution_count": 4,
   "id": "1f41be88",
   "metadata": {},
   "outputs": [],
   "source": [
    "from utilities import GeneticAlgorithm\n",
    "    "
   ]
  },
  {
   "cell_type": "code",
   "execution_count": 5,
   "id": "f6a97151",
   "metadata": {},
   "outputs": [
    {
     "name": "stdout",
     "output_type": "stream",
     "text": [
      "Available Vehicle Names: [0, 1, 2]\n",
      "Available Depot Names: [0, 1, 2, 3, 4, 5, 6, 7, 8]\n",
      "All Depots With Time Window Constraints: [0, 1, 3, 4, 7]\n"
     ]
    }
   ],
   "source": [
    "ga = GeneticAlgorithm(6,0.05,0.6, 300)"
   ]
  },
  {
   "cell_type": "code",
   "execution_count": 6,
   "id": "e9572ca3",
   "metadata": {},
   "outputs": [
    {
     "name": "stdout",
     "output_type": "stream",
     "text": [
      "Function '_generate_initial_raw_solution' executed in 0.0998s\t**Depot 4 Is Not Assigned**\n",
      "Function '_generate_initial_raw_solution' executed in 0.0673s\t**Depot 4 Is Not Assigned**\n",
      "Function '_generate_initial_raw_solution' executed in 0.0738s\t**Depot 4 Is Not Assigned**\n",
      "Function '_generate_initial_raw_solution' executed in 0.0800s\t**Depot 4 Is Not Assigned**\n",
      "Function '_generate_initial_raw_solution' executed in 0.0848s\t**Depot 4 Is Not Assigned**\n",
      "Function '_generate_initial_raw_solution' executed in 0.0903s\t**Depot 4 Is Not Assigned**\n",
      "Function '_generate_initial_raw_solution' executed in 0.0689s\t**Depot 4 Is Not Assigned**\n",
      "Function '_generate_initial_raw_solution' executed in 0.0536s\t**Depot 4 Is Not Assigned**\n",
      "Function '_generate_initial_raw_solution' executed in 0.0669s\t**Depot 4 Is Not Assigned**\n",
      "Function '_generate_initial_raw_solution' executed in 0.0444s\t**Depot 4 Is Not Assigned**\n",
      "Function '_generate_initial_raw_solution' executed in 0.0581s\t**Depot 4 Is Not Assigned**\n",
      "Function '_generate_initial_raw_solution' executed in 0.0691s\t**Depot 4 Is Not Assigned**\n",
      "Function '_generate_initial_raw_solution' executed in 0.0668s\t**Depot 4 Is Not Assigned**\n",
      "Function '_generate_initial_raw_solution' executed in 0.0508s\t**Depot 4 Is Not Assigned**\n",
      "Function '_generate_initial_raw_solution' executed in 0.0933s\t**Depot 4 Is Not Assigned**\n",
      "Function '_generate_initial_raw_solution' executed in 0.0853s\t**Depot 4 Is Not Assigned**\n",
      "Function '_generate_initial_raw_solution' executed in 0.0804s\t**Depot 4 Is Not Assigned**\n",
      "Function '_generate_initial_raw_solution' executed in 0.2963s\tNo. 1 Success\n",
      "Function '_generate_initial_raw_solution' executed in 0.0735s\t**Depot 4 Is Not Assigned**\n",
      "Function '_generate_initial_raw_solution' executed in 0.0690s\t**Depot 4 Is Not Assigned**\n",
      "Function '_generate_initial_raw_solution' executed in 0.0531s\t**Depot 4 Is Not Assigned**\n",
      "Function '_generate_initial_raw_solution' executed in 0.0664s\t**Depot 4 Is Not Assigned**\n",
      "Function '_generate_initial_raw_solution' executed in 0.0638s\t**Depot 4 Is Not Assigned**\n",
      "Function '_generate_initial_raw_solution' executed in 0.2615s\tNo. 2 Success\n",
      "Function '_generate_initial_raw_solution' executed in 0.0687s\t**Depot 4 Is Not Assigned**\n",
      "Function '_generate_initial_raw_solution' executed in 0.0631s\t**Depot 4 Is Not Assigned**\n",
      "Function '_generate_initial_raw_solution' executed in 0.0639s\t**Depot 4 Is Not Assigned**\n",
      "Function '_generate_initial_raw_solution' executed in 0.0547s\t**Depot 4 Is Not Assigned**\n",
      "Function '_generate_initial_raw_solution' executed in 0.0573s\t**Depot 4 Is Not Assigned**\n",
      "Function '_generate_initial_raw_solution' executed in 0.0525s\t**Depot 4 Is Not Assigned**\n",
      "Function '_generate_initial_raw_solution' executed in 0.0624s\t**Depot 4 Is Not Assigned**\n",
      "Function '_generate_initial_raw_solution' executed in 0.0532s\t**Depot 4 Is Not Assigned**\n",
      "Function '_generate_initial_raw_solution' executed in 0.0559s\t**Depot 4 Is Not Assigned**\n",
      "Function '_generate_initial_raw_solution' executed in 0.0531s\t**Depot 4 Is Not Assigned**\n",
      "Function '_generate_initial_raw_solution' executed in 0.0628s\t**Depot 4 Is Not Assigned**\n",
      "Function '_generate_initial_raw_solution' executed in 0.0532s\t**Depot 4 Is Not Assigned**\n",
      "Function '_generate_initial_raw_solution' executed in 0.0551s\t**Depot 4 Is Not Assigned**\n",
      "Function '_generate_initial_raw_solution' executed in 0.0571s\t**Depot 4 Is Not Assigned**\n",
      "Function '_generate_initial_raw_solution' executed in 0.0541s\t**Depot 4 Is Not Assigned**\n",
      "Function '_generate_initial_raw_solution' executed in 0.0539s\t**Depot 4 Is Not Assigned**\n",
      "Function '_generate_initial_raw_solution' executed in 0.0536s\t**Depot 4 Is Not Assigned**\n",
      "Function '_generate_initial_raw_solution' executed in 0.0416s\t**Depot 4 Is Not Assigned**\n",
      "Function '_generate_initial_raw_solution' executed in 0.0567s\t**Depot 4 Is Not Assigned**\n",
      "Function '_generate_initial_raw_solution' executed in 0.0523s\t**Depot 4 Is Not Assigned**\n",
      "Function '_generate_initial_raw_solution' executed in 0.0538s\t**Depot 4 Is Not Assigned**\n",
      "Function '_generate_initial_raw_solution' executed in 0.0628s\t**Depot 4 Is Not Assigned**\n",
      "Function '_generate_initial_raw_solution' executed in 0.0661s\t**Depot 4 Is Not Assigned**\n",
      "Function '_generate_initial_raw_solution' executed in 0.0529s\t**Depot 4 Is Not Assigned**\n",
      "Function '_generate_initial_raw_solution' executed in 0.0432s\t**Depot 4 Is Not Assigned**\n",
      "Function '_generate_initial_raw_solution' executed in 0.0539s\t**Depot 4 Is Not Assigned**\n",
      "Function '_generate_initial_raw_solution' executed in 0.0528s\t**Depot 4 Is Not Assigned**\n",
      "Function '_generate_initial_raw_solution' executed in 0.0670s\t**Depot 4 Is Not Assigned**\n",
      "Function '_generate_initial_raw_solution' executed in 0.0646s\t**Depot 4 Is Not Assigned**\n",
      "Function '_generate_initial_raw_solution' executed in 0.0429s\t**Depot 4 Is Not Assigned**\n",
      "Function '_generate_initial_raw_solution' executed in 0.0523s\t**Depot 4 Is Not Assigned**\n",
      "Function '_generate_initial_raw_solution' executed in 0.0661s\t**Depot 4 Is Not Assigned**\n",
      "Function '_generate_initial_raw_solution' executed in 0.0532s\t**Depot 4 Is Not Assigned**\n",
      "Function '_generate_initial_raw_solution' executed in 0.0542s\t**Depot 4 Is Not Assigned**\n",
      "Function '_generate_initial_raw_solution' executed in 0.0519s\t**Depot 4 Is Not Assigned**\n",
      "Function '_generate_initial_raw_solution' executed in 0.0518s\t**Depot 4 Is Not Assigned**\n",
      "Function '_generate_initial_raw_solution' executed in 0.0566s\t**Depot 4 Is Not Assigned**\n",
      "Function '_generate_initial_raw_solution' executed in 0.0555s\t**Depot 4 Is Not Assigned**\n",
      "Function '_generate_initial_raw_solution' executed in 0.0530s\t**Depot 4 Is Not Assigned**\n",
      "Function '_generate_initial_raw_solution' executed in 0.0513s\t**Depot 4 Is Not Assigned**\n",
      "Function '_generate_initial_raw_solution' executed in 0.0658s\t**Depot 4 Is Not Assigned**\n",
      "Function '_generate_initial_raw_solution' executed in 0.0546s\t**Depot 4 Is Not Assigned**\n",
      "Function '_generate_initial_raw_solution' executed in 0.0644s\t**Depot 4 Is Not Assigned**\n",
      "Function '_generate_initial_raw_solution' executed in 0.0516s\t**Depot 4 Is Not Assigned**\n",
      "Function '_generate_initial_raw_solution' executed in 0.0521s\t**Depot 4 Is Not Assigned**\n",
      "Function '_generate_initial_raw_solution' executed in 0.0683s\t**Depot 4 Is Not Assigned**\n",
      "Function '_generate_initial_raw_solution' executed in 0.0643s\t**Depot 4 Is Not Assigned**\n",
      "Function '_generate_initial_raw_solution' executed in 0.0518s\t**Depot 4 Is Not Assigned**\n",
      "Function '_generate_initial_raw_solution' executed in 0.2146s\tNo. 3 Success\n",
      "Successful Rate: 4.109999999999999%\n",
      "Processing Solution Chromosomes...\n"
     ]
    },
    {
     "name": "stderr",
     "output_type": "stream",
     "text": [
      "100%|██████████████████████████████████████████████████████████████████████████████████████████| 3/3 [00:00<00:00,  4.62it/s]"
     ]
    },
    {
     "name": "stdout",
     "output_type": "stream",
     "text": [
      "Function 'generate_valid_solutions' executed in 5.7035s\t{1: 52, 4: 43, 5: 57, 6: 50, 2: 47, 3: 52}\n"
     ]
    },
    {
     "name": "stderr",
     "output_type": "stream",
     "text": [
      "\n"
     ]
    }
   ],
   "source": [
    "ga.solve()"
   ]
  },
  {
   "cell_type": "code",
   "execution_count": null,
   "id": "ce0d36fc",
   "metadata": {},
   "outputs": [],
   "source": []
  }
 ],
 "metadata": {
  "kernelspec": {
   "display_name": "Python 3 (ipykernel)",
   "language": "python",
   "name": "python3"
  },
  "language_info": {
   "codemirror_mode": {
    "name": "ipython",
    "version": 3
   },
   "file_extension": ".py",
   "mimetype": "text/x-python",
   "name": "python",
   "nbconvert_exporter": "python",
   "pygments_lexer": "ipython3",
   "version": "3.9.12"
  }
 },
 "nbformat": 4,
 "nbformat_minor": 5
}
