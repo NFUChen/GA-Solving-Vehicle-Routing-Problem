{
 "cells": [
  {
   "cell_type": "code",
   "execution_count": 32,
   "id": "f35778d3",
   "metadata": {},
   "outputs": [],
   "source": [
    "from utilities import SolutionGenerator, ConstraintChecker,BuilderFactory,RouteResourceCalculator\n",
    "from typing import List\n",
    "from random import random, choices\n",
    "import math"
   ]
  },
  {
   "cell_type": "code",
   "execution_count": null,
   "id": "525e972b",
   "metadata": {},
   "outputs": [],
   "source": [
    "generator = SolutionGenerator()\n",
    "checker = ConstraintChecker()\n",
    "factory = BuilderFactory()"
   ]
  },
  {
   "cell_type": "code",
   "execution_count": null,
   "id": "cc69528b",
   "metadata": {},
   "outputs": [],
   "source": [
    "factory.depot_builder.all_depot_names_with_time_window_constraint"
   ]
  },
  {
   "cell_type": "code",
   "execution_count": null,
   "id": "44fc0f34",
   "metadata": {
    "scrolled": true
   },
   "outputs": [],
   "source": [
    "solution = generator.generate_valid_solutions(1)"
   ]
  },
  {
   "cell_type": "code",
   "execution_count": null,
   "id": "02b7bbe1",
   "metadata": {},
   "outputs": [],
   "source": [
    "resource_calc = RouteResourceCalculator()"
   ]
  },
  {
   "cell_type": "code",
   "execution_count": null,
   "id": "361ed6be",
   "metadata": {},
   "outputs": [],
   "source": [
    "solution"
   ]
  },
  {
   "cell_type": "code",
   "execution_count": 10,
   "id": "26249d85",
   "metadata": {},
   "outputs": [],
   "source": [
    "class MutationStrategy:\n",
    "    @staticmethod\n",
    "    def single_point_mutate(route:List[int]) -> None:\n",
    "        print(\"Calling Single Point\")\n",
    "\n",
    "    @staticmethod\n",
    "    def two_points_mutate(route:List[int]) -> None:\n",
    "        print(\"Calling Two Points\")\n",
    "\n",
    "    @classmethod\n",
    "    def chose_mutation_strategy(cls):\n",
    "        all_strategy = [cls.single_point_mutate, cls.two_points_mutate]\n",
    "        return all_strategy"
   ]
  },
  {
   "cell_type": "code",
   "execution_count": 13,
   "id": "7008ef2b",
   "metadata": {},
   "outputs": [
    {
     "name": "stdout",
     "output_type": "stream",
     "text": [
      "Calling Single Point\n"
     ]
    }
   ],
   "source": [
    "MutationStrategy.chose_mutation_strategy()[0]([0,2,1])"
   ]
  },
  {
   "cell_type": "code",
   "execution_count": 189,
   "id": "55ad137b",
   "metadata": {},
   "outputs": [],
   "source": [
    "test = [0,1,2,3,4,5,6,0]"
   ]
  },
  {
   "cell_type": "code",
   "execution_count": 190,
   "id": "a7cee452",
   "metadata": {},
   "outputs": [],
   "source": [
    "def randomly_choose_index_position(route:List[int]) -> int:\n",
    "    is_choosing_warehose_depot = True\n",
    "    while (is_choosing_warehose_depot):\n",
    "        random_idx = math.floor((random() * len(route)))\n",
    "        if (route[random_idx] != 0):\n",
    "            is_choosing_warehose_depot = False\n",
    "    return random_idx\n",
    "\n",
    "def randomly_choose_two_different_index_positions(route:List[int]) -> List[int]:\n",
    "    first_point = randomly_choose_index_position(route)\n",
    "    second_point = randomly_choose_index_position(route)\n",
    "    while second_point == first_point:\n",
    "        second_point = randomly_choose_index_position(route)\n",
    "    left_ptr = min(first_point, second_point)\n",
    "    right_ptr = max(first_point, second_point)\n",
    "    \n",
    "    return [left_ptr, right_ptr]\n",
    "\n",
    "\n",
    "def swap_depots(route:List[int], x, y) -> None:\n",
    "    route[x], route[y] = route[y], route[x]\n",
    "\n",
    "def reverse_mutate(route:List[int]) -> None:\n",
    "    left_ptr, right_ptr = randomly_choose_two_different_index_positions()\n",
    "    \n",
    "    print(left_ptr, right_ptr)\n",
    "    while (left_ptr < right_ptr):\n",
    "        swap_depots(route, left_ptr, right_ptr)\n",
    "        \n",
    "        left_ptr += 1\n",
    "        right_ptr -= 1\n",
    "\n",
    "def two_points_mutate(route:List[int]) -> None:\n",
    "    left_ptr, right_ptr = randomly_choose_two_different_index_positions()\n",
    "    swap_depots(route, left_ptr, right_ptr)\n",
    "        \n",
    "    "
   ]
  },
  {
   "cell_type": "code",
   "execution_count": 191,
   "id": "372c7651",
   "metadata": {},
   "outputs": [
    {
     "name": "stdout",
     "output_type": "stream",
     "text": [
      "1 6\n"
     ]
    }
   ],
   "source": [
    "reverse_mutate(test)"
   ]
  },
  {
   "cell_type": "code",
   "execution_count": 192,
   "id": "e7077459",
   "metadata": {},
   "outputs": [
    {
     "data": {
      "text/plain": [
       "[0, 6, 5, 4, 3, 2, 1, 0]"
      ]
     },
     "execution_count": 192,
     "metadata": {},
     "output_type": "execute_result"
    }
   ],
   "source": [
    "test"
   ]
  },
  {
   "cell_type": "code",
   "execution_count": 55,
   "id": "9e18fcc2",
   "metadata": {},
   "outputs": [],
   "source": [
    "swap_depots(test, 4,2)"
   ]
  },
  {
   "cell_type": "code",
   "execution_count": 56,
   "id": "a546b6a0",
   "metadata": {},
   "outputs": [
    {
     "data": {
      "text/plain": [
       "[0, 1, 2, 3, 4, 5, 6, 0]"
      ]
     },
     "execution_count": 56,
     "metadata": {},
     "output_type": "execute_result"
    }
   ],
   "source": [
    "test"
   ]
  },
  {
   "cell_type": "code",
   "execution_count": null,
   "id": "38273a33",
   "metadata": {},
   "outputs": [],
   "source": []
  }
 ],
 "metadata": {
  "kernelspec": {
   "display_name": "Python 3 (ipykernel)",
   "language": "python",
   "name": "python3"
  },
  "language_info": {
   "codemirror_mode": {
    "name": "ipython",
    "version": 3
   },
   "file_extension": ".py",
   "mimetype": "text/x-python",
   "name": "python",
   "nbconvert_exporter": "python",
   "pygments_lexer": "ipython3",
   "version": "3.9.12"
  }
 },
 "nbformat": 4,
 "nbformat_minor": 5
}
