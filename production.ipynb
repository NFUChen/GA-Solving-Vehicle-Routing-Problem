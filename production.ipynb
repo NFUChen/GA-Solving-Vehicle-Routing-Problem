{
 "cells": [
  {
   "cell_type": "code",
   "execution_count": 1,
   "id": "f35778d3",
   "metadata": {},
   "outputs": [],
   "source": [
    "from utilities import SolutionGenerator, ConstraintChecker,BuilderFactory,RouteResourceCalculator, SolutionChromosome, GeneticAlgorithm\n",
    "from typing import List\n",
    "from random import random, choices\n",
    "import math\n",
    "from copy import deepcopy"
   ]
  },
  {
   "cell_type": "code",
   "execution_count": 2,
   "id": "525e972b",
   "metadata": {},
   "outputs": [
    {
     "name": "stdout",
     "output_type": "stream",
     "text": [
      "Available Vehicle Names: [0, 1, 2, 3, 4, 5, 6, 7, 8, 9, 10, 11, 12, 13, 14, 15, 16, 17, 18, 19, 20, 21]\n",
      "Available Depot Names: [0, 1, 2, 3, 4, 5, 6, 7, 8, 9, 10, 11, 12, 13, 14, 15, 16, 17, 18, 19, 20, 21, 22, 23, 24, 25, 26, 27, 28, 29, 30, 31, 32, 33, 34, 35, 36, 37, 38, 39, 40, 41, 42, 43, 44, 45, 46, 47, 48, 49, 50, 51, 52, 53, 54, 55, 56, 57, 58, 59, 60, 61, 62, 63, 64, 65]\n",
      "All Depots With Time Window Constraints: [0, 1, 4, 5, 6, 8, 48, 49, 54]\n"
     ]
    }
   ],
   "source": [
    "generator = SolutionGenerator()\n",
    "checker = ConstraintChecker()\n",
    "factory = BuilderFactory()\n",
    "resource_calc = RouteResourceCalculator()"
   ]
  },
  {
   "cell_type": "code",
   "execution_count": 3,
   "id": "44fc0f34",
   "metadata": {
    "scrolled": false
   },
   "outputs": [
    {
     "name": "stdout",
     "output_type": "stream",
     "text": [
      "Function '_generate_initial_raw_solution' executed in 9.5877s\tNo. 1 Success\n",
      "Successful Rate: 100.0%\n",
      "Processing Solution Chromosomes...\n"
     ]
    },
    {
     "name": "stderr",
     "output_type": "stream",
     "text": [
      "100%|██████████████████████████████████████████████████████████████████████████████████████████| 1/1 [00:05<00:00,  5.94s/it]"
     ]
    },
    {
     "name": "stdout",
     "output_type": "stream",
     "text": [
      "Function 'generate_valid_solutions' executed in 15.5408s\t"
     ]
    },
    {
     "name": "stderr",
     "output_type": "stream",
     "text": [
      "\n"
     ]
    },
    {
     "data": {
      "text/plain": [
       "[Chromosome: {0: [0, 17, 24, 0], 1: [0, 4, 20, 23, 48, 0, 49, 0], 2: [0, 14, 22, 56, 62, 0], 3: [0, 29, 45, 0], 4: [0, 3, 9, 21, 65, 0], 5: [0, 2, 28, 38, 47, 53, 0], 6: [0, 31, 32, 39, 51, 0], 7: [0, 5, 35, 36, 0], 8: [0, 6, 26, 27, 43, 57, 54, 0], 9: [0, 18, 0], 10: [], 11: [0, 8, 50, 0], 12: [0, 19, 33, 52, 63, 0], 13: [0, 1, 10, 13, 25, 30, 37, 46, 61, 0], 14: [0, 42, 55, 0], 15: [0, 15, 40, 0], 16: [0, 7, 11, 16, 60, 64, 0], 17: [0, 12, 34, 41, 58, 59, 0], 18: [0, 44, 0], 19: [], 20: [], 21: []}\n",
       " \tTotal Cost: $60413\n",
       " \tFuel Fee: $49404\n",
       " \tVehicle Fixed Cost: $1400\n",
       " \tDriver Cost: $9609\n",
       " \tDistance: 2390 km\n",
       " \tTotal Delivery Time: 3431.95 Mins\n",
       " \tNumber of Vehicles Assigned: 18\n",
       " \tNumber of Replenishsments: 1\n",
       " \t------------------------------------------------------------]"
      ]
     },
     "execution_count": 3,
     "metadata": {},
     "output_type": "execute_result"
    }
   ],
   "source": [
    "solution = generator.generate_valid_solutions(1)\n",
    "solution"
   ]
  },
  {
   "cell_type": "code",
   "execution_count": 4,
   "id": "9b3f7c44",
   "metadata": {},
   "outputs": [
    {
     "data": {
      "text/plain": [
       "Chromosome: {0: [0, 17, 24, 0], 1: [0, 4, 20, 23, 48, 0, 49, 0], 2: [0, 14, 22, 56, 62, 0], 3: [0, 29, 45, 0], 4: [0, 3, 9, 21, 65, 0], 5: [0, 2, 28, 38, 47, 53, 0], 6: [0, 31, 32, 39, 51, 0], 7: [0, 5, 35, 36, 0], 8: [0, 6, 26, 27, 43, 57, 54, 0], 9: [0, 18, 0], 10: [], 11: [0, 8, 50, 0], 12: [0, 19, 33, 52, 63, 0], 13: [0, 1, 10, 13, 25, 30, 37, 46, 61, 0], 14: [0, 42, 55, 0], 15: [0, 15, 40, 0], 16: [0, 60, 16, 11, 7, 64, 0], 17: [0, 12, 34, 41, 58, 59, 0], 18: [0, 44, 0], 19: [], 20: [], 21: []}\n",
       "\tTotal Cost: $61020\n",
       "\tFuel Fee: $49956\n",
       "\tVehicle Fixed Cost: $1400\n",
       "\tDriver Cost: $9664\n",
       "\tDistance: 2435 km\n",
       "\tTotal Delivery Time: 3451.51 Mins\n",
       "\tNumber of Vehicles Assigned: 18\n",
       "\tNumber of Replenishsments: 1\n",
       "\t------------------------------------------------------------"
      ]
     },
     "execution_count": 4,
     "metadata": {},
     "output_type": "execute_result"
    }
   ],
   "source": [
    "solution[0].mutate(1)"
   ]
  },
  {
   "cell_type": "code",
   "execution_count": 5,
   "id": "2543c3ed",
   "metadata": {},
   "outputs": [
    {
     "data": {
      "text/plain": [
       "[0, 2, 3, 4, 5, 6, 9, 12, 14, 15, 16, 17, 18]"
      ]
     },
     "execution_count": 5,
     "metadata": {},
     "output_type": "execute_result"
    }
   ],
   "source": [
    "solution[-1].vehicles_can_be_chosen_for_crossover"
   ]
  },
  {
   "cell_type": "code",
   "execution_count": null,
   "id": "ba0ecd93",
   "metadata": {},
   "outputs": [],
   "source": [
    "solution[-1].vehicles_can_be_chosen_for_mutation"
   ]
  },
  {
   "cell_type": "code",
   "execution_count": 7,
   "id": "f6a97151",
   "metadata": {},
   "outputs": [
    {
     "name": "stdout",
     "output_type": "stream",
     "text": [
      "Available Vehicle Names: [0, 1, 2, 3, 4, 5, 6, 7, 8, 9, 10, 11, 12, 13, 14, 15, 16, 17, 18, 19, 20, 21]\n",
      "Available Depot Names: [0, 1, 2, 3, 4, 5, 6, 7, 8, 9, 10, 11, 12, 13, 14, 15, 16, 17, 18, 19, 20, 21, 22, 23, 24, 25, 26, 27, 28, 29, 30, 31, 32, 33, 34, 35, 36, 37, 38, 39, 40, 41, 42, 43, 44, 45, 46, 47, 48, 49, 50, 51, 52, 53, 54, 55, 56, 57, 58, 59, 60, 61, 62, 63, 64, 65]\n",
      "All Depots With Time Window Constraints: [0, 1, 4, 5, 6, 8, 48, 49, 54]\n"
     ]
    }
   ],
   "source": [
    "ga = GeneticAlgorithm(6,0.05,0.6, 1000)"
   ]
  },
  {
   "cell_type": "code",
   "execution_count": 8,
   "id": "e9572ca3",
   "metadata": {},
   "outputs": [
    {
     "name": "stdout",
     "output_type": "stream",
     "text": [
      "Function '_generate_initial_raw_solution' executed in 13.4617s\tNo. 1 Success\n",
      "Function '_generate_initial_raw_solution' executed in 13.4826s\t**Depot 54 Is Not Assigned**\n",
      "Function '_generate_initial_raw_solution' executed in 8.8168s\t**Depot 49 Is Not Assigned**\n",
      "Function '_generate_initial_raw_solution' executed in 6.5290s\t**Depot 48 Is Not Assigned**\n",
      "Function '_generate_initial_raw_solution' executed in 10.3979s\tNo. 2 Success\n",
      "Function '_generate_initial_raw_solution' executed in 6.5653s\t**Depot 48 Is Not Assigned**\n",
      "Function '_generate_initial_raw_solution' executed in 7.4725s\tNo. 3 Success\n",
      "Successful Rate: 42.86%\n",
      "Processing Solution Chromosomes...\n"
     ]
    },
    {
     "name": "stderr",
     "output_type": "stream",
     "text": [
      "100%|██████████████████████████████████████████████████████████████████████████████████████████| 3/3 [00:15<00:00,  5.31s/it]\n"
     ]
    },
    {
     "name": "stdout",
     "output_type": "stream",
     "text": [
      "Function 'generate_valid_solutions' executed in 82.6566s\t0\n",
      "1\n"
     ]
    },
    {
     "ename": "KeyboardInterrupt",
     "evalue": "",
     "output_type": "error",
     "traceback": [
      "\u001b[0;31m---------------------------------------------------------------------------\u001b[0m",
      "\u001b[0;31mKeyboardInterrupt\u001b[0m                         Traceback (most recent call last)",
      "Input \u001b[0;32mIn [8]\u001b[0m, in \u001b[0;36m<cell line: 1>\u001b[0;34m()\u001b[0m\n\u001b[0;32m----> 1\u001b[0m \u001b[43mga\u001b[49m\u001b[38;5;241;43m.\u001b[39;49m\u001b[43msolve\u001b[49m\u001b[43m(\u001b[49m\u001b[43m)\u001b[49m\n",
      "File \u001b[0;32m~/Library/CloudStorage/OneDrive-AKIR/守心/GA演算法/utilities/genetic_algorithm.py:101\u001b[0m, in \u001b[0;36mGeneticAlgorithm.solve\u001b[0;34m(self)\u001b[0m\n\u001b[1;32m    100\u001b[0m \u001b[38;5;28;01mdef\u001b[39;00m \u001b[38;5;21msolve\u001b[39m(\u001b[38;5;28mself\u001b[39m) \u001b[38;5;241m-\u001b[39m\u001b[38;5;241m>\u001b[39m \u001b[38;5;28;01mNone\u001b[39;00m:\n\u001b[0;32m--> 101\u001b[0m     \u001b[38;5;28;43mself\u001b[39;49m\u001b[38;5;241;43m.\u001b[39;49m\u001b[43m_generate_initial_population\u001b[49m\u001b[43m(\u001b[49m\u001b[43m)\u001b[49m\n",
      "File \u001b[0;32m~/Library/CloudStorage/OneDrive-AKIR/守心/GA演算法/utilities/genetic_algorithm.py:46\u001b[0m, in \u001b[0;36mGeneticAlgorithm._generate_initial_population\u001b[0;34m(self)\u001b[0m\n\u001b[1;32m     43\u001b[0m initial_half_population \u001b[38;5;241m=\u001b[39m \u001b[38;5;28mself\u001b[39m\u001b[38;5;241m.\u001b[39msolution_generator\u001b[38;5;241m.\u001b[39mgenerate_valid_solutions(\n\u001b[1;32m     44\u001b[0m     \u001b[38;5;28mself\u001b[39m\u001b[38;5;241m.\u001b[39mpopulation_size \u001b[38;5;241m/\u001b[39m\u001b[38;5;241m/\u001b[39m \u001b[38;5;241m2\u001b[39m)\n\u001b[1;32m     45\u001b[0m half_population_cloned \u001b[38;5;241m=\u001b[39m deepcopy(initial_half_population)\n\u001b[0;32m---> 46\u001b[0m \u001b[38;5;28;43mself\u001b[39;49m\u001b[38;5;241;43m.\u001b[39;49m\u001b[43m_reproduce\u001b[49m\u001b[43m(\u001b[49m\u001b[43mhalf_population_cloned\u001b[49m\u001b[43m)\u001b[49m  \u001b[38;5;66;03m# in-place operation\u001b[39;00m\n\u001b[1;32m     47\u001b[0m total_population \u001b[38;5;241m=\u001b[39m [\n\u001b[1;32m     48\u001b[0m     \u001b[38;5;241m*\u001b[39minitial_half_population, \u001b[38;5;241m*\u001b[39mhalf_population_cloned\n\u001b[1;32m     49\u001b[0m ]\n\u001b[1;32m     50\u001b[0m \u001b[38;5;66;03m# -> [0, 1, 2, 3], remember to choose last one to get the best fitness, chromosome is sorted by 'FITNESS'\u001b[39;00m\n",
      "File \u001b[0;32m~/Library/CloudStorage/OneDrive-AKIR/守心/GA演算法/utilities/genetic_algorithm.py:90\u001b[0m, in \u001b[0;36mGeneticAlgorithm._reproduce\u001b[0;34m(self, cloned_chromosomes)\u001b[0m\n\u001b[1;32m     88\u001b[0m \u001b[38;5;28;01mdef\u001b[39;00m \u001b[38;5;21m_reproduce\u001b[39m(\u001b[38;5;28mself\u001b[39m, cloned_chromosomes: List[SolutionChromosome]) \u001b[38;5;241m-\u001b[39m\u001b[38;5;241m>\u001b[39m \u001b[38;5;28;01mNone\u001b[39;00m:\n\u001b[1;32m     89\u001b[0m     \u001b[38;5;28;01mfor\u001b[39;00m chromosome \u001b[38;5;129;01min\u001b[39;00m cloned_chromosomes:\n\u001b[0;32m---> 90\u001b[0m         \u001b[43mchromosome\u001b[49m\u001b[38;5;241;43m.\u001b[39;49m\u001b[43m_reproduction_mutate\u001b[49m\u001b[43m(\u001b[49m\u001b[43m)\u001b[49m\n\u001b[1;32m     91\u001b[0m     \u001b[38;5;28;01mreturn\u001b[39;00m cloned_chromosomes\n",
      "File \u001b[0;32m~/Library/CloudStorage/OneDrive-AKIR/守心/GA演算法/utilities/solution_chromosome.py:181\u001b[0m, in \u001b[0;36mSolutionChromosome._reproduction_mutate\u001b[0;34m(self)\u001b[0m\n\u001b[1;32m    179\u001b[0m \u001b[38;5;28;01mfor\u001b[39;00m vehicle_idx \u001b[38;5;129;01min\u001b[39;00m \u001b[38;5;28mself\u001b[39m\u001b[38;5;241m.\u001b[39mvehicles_can_be_chosen_for_mutation:\n\u001b[1;32m    180\u001b[0m     \u001b[38;5;28mprint\u001b[39m(vehicle_idx)\n\u001b[0;32m--> 181\u001b[0m     \u001b[38;5;28;43mself\u001b[39;49m\u001b[38;5;241;43m.\u001b[39;49m\u001b[43mmutate\u001b[49m\u001b[43m(\u001b[49m\u001b[38;5;241;43m1\u001b[39;49m\u001b[43m,\u001b[49m\u001b[43m \u001b[49m\u001b[43mvehicle_idx\u001b[49m\u001b[43m)\u001b[49m\n\u001b[1;32m    183\u001b[0m \u001b[38;5;28;01mreturn\u001b[39;00m \u001b[38;5;28mself\u001b[39m\n",
      "File \u001b[0;32m~/Library/CloudStorage/OneDrive-AKIR/守心/GA演算法/utilities/solution_chromosome.py:52\u001b[0m, in \u001b[0;36mSolutionChromosome.mutate\u001b[0;34m(self, mutation_rate, chosen_vehicle_idx)\u001b[0m\n\u001b[1;32m     50\u001b[0m     chosen_vehicle_idx \u001b[38;5;241m=\u001b[39m \u001b[38;5;28mself\u001b[39m\u001b[38;5;241m.\u001b[39m_randomly_choose_a_vehicle()\n\u001b[1;32m     51\u001b[0m chosen_vehicle_route \u001b[38;5;241m=\u001b[39m \u001b[38;5;28mself\u001b[39m\u001b[38;5;241m.\u001b[39msolusion[chosen_vehicle_idx]\n\u001b[0;32m---> 52\u001b[0m mutated_route \u001b[38;5;241m=\u001b[39m \u001b[43mmutation_func\u001b[49m\u001b[43m(\u001b[49m\u001b[43mchosen_vehicle_route\u001b[49m\u001b[43m)\u001b[49m\n\u001b[1;32m     54\u001b[0m \u001b[38;5;66;03m# after mutation, update chromosome fitness ( based on self.resources_used, and self.solusion)\u001b[39;00m\n\u001b[1;32m     56\u001b[0m \u001b[38;5;28mself\u001b[39m\u001b[38;5;241m.\u001b[39m_update_resources_used(chosen_vehicle_idx, mutated_route)\n",
      "File \u001b[0;32m~/Library/CloudStorage/OneDrive-AKIR/守心/GA演算法/utilities/mutation_strategy.py:39\u001b[0m, in \u001b[0;36mMutationStrategy.two_points_mutate\u001b[0;34m(self, route)\u001b[0m\n\u001b[1;32m     36\u001b[0m copy_route \u001b[38;5;241m=\u001b[39m route\u001b[38;5;241m.\u001b[39mcopy()\n\u001b[1;32m     38\u001b[0m \u001b[38;5;28;01mwhile\u001b[39;00m \u001b[38;5;28;01mTrue\u001b[39;00m:\n\u001b[0;32m---> 39\u001b[0m     left_ptr, right_ptr \u001b[38;5;241m=\u001b[39m \u001b[38;5;28;43mself\u001b[39;49m\u001b[38;5;241;43m.\u001b[39;49m\u001b[43m_randomly_choose_two_different_index_positions\u001b[49m\u001b[43m(\u001b[49m\u001b[43mroute\u001b[49m\u001b[43m)\u001b[49m\n\u001b[1;32m     40\u001b[0m     \u001b[38;5;28;01mif\u001b[39;00m \u001b[38;5;129;01mnot\u001b[39;00m \u001b[38;5;28mself\u001b[39m\u001b[38;5;241m.\u001b[39m_is_two_points_mutation_affecting_immutable_depots(route, [left_ptr, right_ptr]):\n\u001b[1;32m     41\u001b[0m         \u001b[38;5;28;01mbreak\u001b[39;00m\n",
      "File \u001b[0;32m~/Library/CloudStorage/OneDrive-AKIR/守心/GA演算法/utilities/mutation_strategy.py:67\u001b[0m, in \u001b[0;36mMutationStrategy._randomly_choose_two_different_index_positions\u001b[0;34m(self, route)\u001b[0m\n\u001b[1;32m     64\u001b[0m \u001b[38;5;28;01mdef\u001b[39;00m \u001b[38;5;21m_randomly_choose_two_different_index_positions\u001b[39m(\u001b[38;5;28mself\u001b[39m, route:List[\u001b[38;5;28mint\u001b[39m]) \u001b[38;5;241m-\u001b[39m\u001b[38;5;241m>\u001b[39m List[\u001b[38;5;28mint\u001b[39m]:\n\u001b[1;32m     66\u001b[0m     \u001b[38;5;28;01mwhile\u001b[39;00m \u001b[38;5;28;01mTrue\u001b[39;00m:\n\u001b[0;32m---> 67\u001b[0m         first_point \u001b[38;5;241m=\u001b[39m \u001b[38;5;28;43mself\u001b[39;49m\u001b[38;5;241;43m.\u001b[39;49m\u001b[43m_randomly_choose_index_position\u001b[49m\u001b[43m(\u001b[49m\u001b[43mroute\u001b[49m\u001b[43m)\u001b[49m\n\u001b[1;32m     68\u001b[0m         second_point \u001b[38;5;241m=\u001b[39m \u001b[38;5;28mself\u001b[39m\u001b[38;5;241m.\u001b[39m_randomly_choose_index_position(route)\n\u001b[1;32m     69\u001b[0m         \u001b[38;5;28;01mif\u001b[39;00m (second_point \u001b[38;5;241m!=\u001b[39m first_point):\n",
      "File \u001b[0;32m~/Library/CloudStorage/OneDrive-AKIR/守心/GA演算法/utilities/mutation_strategy.py:60\u001b[0m, in \u001b[0;36mMutationStrategy._randomly_choose_index_position\u001b[0;34m(self, route)\u001b[0m\n\u001b[1;32m     58\u001b[0m \u001b[38;5;28;01mwhile\u001b[39;00m \u001b[38;5;28;01mTrue\u001b[39;00m:\n\u001b[1;32m     59\u001b[0m     random_idx \u001b[38;5;241m=\u001b[39m math\u001b[38;5;241m.\u001b[39mfloor((random() \u001b[38;5;241m*\u001b[39m \u001b[38;5;28mlen\u001b[39m(route)))\n\u001b[0;32m---> 60\u001b[0m     \u001b[38;5;28;01mif\u001b[39;00m (\u001b[43mroute\u001b[49m\u001b[43m[\u001b[49m\u001b[43mrandom_idx\u001b[49m\u001b[43m]\u001b[49m \u001b[38;5;241m!=\u001b[39m \u001b[38;5;241m0\u001b[39m):\n\u001b[1;32m     61\u001b[0m         \u001b[38;5;28;01mbreak\u001b[39;00m\n\u001b[1;32m     62\u001b[0m \u001b[38;5;28;01mreturn\u001b[39;00m random_idx\n",
      "\u001b[0;31mKeyboardInterrupt\u001b[0m: "
     ]
    }
   ],
   "source": [
    "ga.solve()"
   ]
  },
  {
   "cell_type": "code",
   "execution_count": null,
   "id": "e6780bbc",
   "metadata": {},
   "outputs": [],
   "source": []
  },
  {
   "cell_type": "code",
   "execution_count": null,
   "id": "e7f1408d",
   "metadata": {},
   "outputs": [],
   "source": [
    "checker.is_all_depots_passing_time_window_constraints(9, [0, 23, 28, 31, 48, 49, 54, 0],)"
   ]
  },
  {
   "cell_type": "code",
   "execution_count": null,
   "id": "566272a3",
   "metadata": {},
   "outputs": [],
   "source": [
    "resource_calc.calculate_route_resources(9, [0, 23, 28, 31, 48, 49, 54, 0],)"
   ]
  },
  {
   "cell_type": "code",
   "execution_count": null,
   "id": "42628a3c",
   "metadata": {},
   "outputs": [],
   "source": []
  }
 ],
 "metadata": {
  "kernelspec": {
   "display_name": "Python 3 (ipykernel)",
   "language": "python",
   "name": "python3"
  },
  "language_info": {
   "codemirror_mode": {
    "name": "ipython",
    "version": 3
   },
   "file_extension": ".py",
   "mimetype": "text/x-python",
   "name": "python",
   "nbconvert_exporter": "python",
   "pygments_lexer": "ipython3",
   "version": "3.9.12"
  }
 },
 "nbformat": 4,
 "nbformat_minor": 5
}
