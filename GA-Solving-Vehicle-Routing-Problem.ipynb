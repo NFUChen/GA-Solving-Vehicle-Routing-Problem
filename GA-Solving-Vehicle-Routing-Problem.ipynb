{
 "cells": [
  {
   "cell_type": "code",
   "execution_count": 1,
   "id": "f35778d3",
   "metadata": {},
   "outputs": [],
   "source": [
    "from utilities import GeneticAlgorithm"
   ]
  },
  {
   "cell_type": "code",
   "execution_count": 2,
   "id": "f6a97151",
   "metadata": {},
   "outputs": [
    {
     "name": "stdout",
     "output_type": "stream",
     "text": [
      "Available Vehicle Names: [0, 1, 2, 3, 4, 5, 6, 7, 8, 9, 10, 11, 12, 13, 14]\n",
      "Available Depot Names: [0, 1, 2, 3, 4, 5, 6, 7, 8, 9, 10, 11, 12, 13, 14, 15, 16, 17, 18, 19, 20, 21, 22, 23, 24, 25, 26, 27, 28, 29]\n",
      "All Depots With Time Window Constraints: [0, 1, 4, 5, 6, 8, 15, 19, 23, 26]\n"
     ]
    }
   ],
   "source": [
    "ga = GeneticAlgorithm(100, 0.3,0.7,100)"
   ]
  },
  {
   "cell_type": "code",
   "execution_count": null,
   "id": "e9572ca3",
   "metadata": {
    "scrolled": true
   },
   "outputs": [
    {
     "name": "stdout",
     "output_type": "stream",
     "text": [
      "Function '_generate_initial_raw_solution' executed in 14.0486s\tNo. 1 Success\n",
      "Function '_generate_initial_raw_solution' executed in 11.4774s\tNo. 2 Success\n",
      "Function '_generate_initial_raw_solution' executed in 8.8352s\tNo. 3 Success\n",
      "Function '_generate_initial_raw_solution' executed in 12.4088s\tNo. 4 Success\n",
      "Function '_generate_initial_raw_solution' executed in 12.1148s\tNo. 5 Success\n",
      "Function '_generate_initial_raw_solution' executed in 11.8174s\tNo. 6 Success\n",
      "Function '_generate_initial_raw_solution' executed in 10.3154s\tNo. 7 Success\n",
      "Function '_generate_initial_raw_solution' executed in 12.6315s\t**Depot [26] Not Assigned**\n",
      "Function '_generate_initial_raw_solution' executed in 12.0741s\tNo. 8 Success\n",
      "Function '_generate_initial_raw_solution' executed in 12.4209s\tNo. 9 Success\n",
      "Function '_generate_initial_raw_solution' executed in 19.7455s\tNo. 10 Success\n",
      "Function '_generate_initial_raw_solution' executed in 15.3643s\t**Depot [23] Not Assigned**\n",
      "Function '_generate_initial_raw_solution' executed in 17.3995s\tNo. 11 Success\n",
      "Function '_generate_initial_raw_solution' executed in 12.5039s\tNo. 12 Success\n",
      "Function '_generate_initial_raw_solution' executed in 11.0342s\tNo. 13 Success\n",
      "Function '_generate_initial_raw_solution' executed in 10.7816s\tNo. 14 Success\n",
      "Function '_generate_initial_raw_solution' executed in 10.9328s\tNo. 15 Success\n"
     ]
    }
   ],
   "source": [
    "ga.solve()"
   ]
  },
  {
   "cell_type": "code",
   "execution_count": null,
   "id": "54802f87",
   "metadata": {
    "scrolled": true
   },
   "outputs": [],
   "source": [
    "ga.population"
   ]
  },
  {
   "cell_type": "code",
   "execution_count": null,
   "id": "8fba4a83",
   "metadata": {},
   "outputs": [],
   "source": [
    "ga.global_best_solution"
   ]
  },
  {
   "cell_type": "code",
   "execution_count": null,
   "id": "ffbc2c30",
   "metadata": {},
   "outputs": [],
   "source": []
  }
 ],
 "metadata": {
  "kernelspec": {
   "display_name": "Python 3 (ipykernel)",
   "language": "python",
   "name": "python3"
  },
  "language_info": {
   "codemirror_mode": {
    "name": "ipython",
    "version": 3
   },
   "file_extension": ".py",
   "mimetype": "text/x-python",
   "name": "python",
   "nbconvert_exporter": "python",
   "pygments_lexer": "ipython3",
   "version": "3.9.7"
  }
 },
 "nbformat": 4,
 "nbformat_minor": 5
}
