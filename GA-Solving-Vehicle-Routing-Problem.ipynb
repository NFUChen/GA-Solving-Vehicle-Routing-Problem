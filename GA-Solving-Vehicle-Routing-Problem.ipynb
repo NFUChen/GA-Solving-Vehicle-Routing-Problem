{
 "cells": [
  {
   "cell_type": "code",
   "execution_count": 1,
   "id": "f35778d3",
   "metadata": {},
   "outputs": [],
   "source": [
    "from utilities import GeneticAlgorithm"
   ]
  },
  {
   "cell_type": "code",
   "execution_count": 2,
   "id": "f6a97151",
   "metadata": {},
   "outputs": [
    {
     "name": "stdout",
     "output_type": "stream",
     "text": [
      "Available Vehicle Names: [0, 1, 2]\n",
      "Available Depot Names: [0, 1, 2, 3, 4, 5, 6, 7, 8]\n",
      "All Depots With Time Window Constraints: [0, 1, 3, 4, 7]\n"
     ]
    }
   ],
   "source": [
    "ga = GeneticAlgorithm(5, 0.7,0.7,50)"
   ]
  },
  {
   "cell_type": "code",
   "execution_count": null,
   "id": "e9572ca3",
   "metadata": {
    "scrolled": false
   },
   "outputs": [
    {
     "name": "stdout",
     "output_type": "stream",
     "text": [
      "Function '_generate_initial_raw_solution' executed in 1.0070s\tNo. 1 Success\n",
      "Function '_generate_initial_raw_solution' executed in 0.9513s\tNo. 2 Success\n",
      "Function '_generate_initial_raw_solution' executed in 0.9800s\tNo. 3 Success\n",
      "Function '_generate_initial_raw_solution' executed in 0.9595s\tNo. 4 Success\n",
      "Function '_generate_initial_raw_solution' executed in 1.2496s\tNo. 5 Success\n",
      "Successful Rate: 100.0%\n",
      "Processing Solution Chromosomes...\n"
     ]
    },
    {
     "name": "stderr",
     "output_type": "stream",
     "text": [
      "100%|███████████████████████████████████████████████████████████████████████████████████████████████████████████████| 5/5 [00:01<00:00,  4.68it/s]\n"
     ]
    },
    {
     "name": "stdout",
     "output_type": "stream",
     "text": [
      "Function 'generate_valid_solutions' executed in 6.2284s\tFirst Generation Population is Initialized\n",
      "Iteration: 0 \n",
      "Total Fitness: 896.3478849877102\n",
      "Best Fitness: 204.60692962749263\n",
      "New Population Fitness: 165.9242,165.9242,204.6069,204.6069,204.6069,204.6069\n",
      "---------------------------------------------------------------------------------------------------- \n",
      "\n",
      "Iteration: 1 \n",
      "Total Fitness: 1150.276118745158\n",
      "Best Fitness: 165.92420011759378\n",
      "New Population Fitness: 164.5828,164.5828,165.9242,165.9242,165.9242,165.9242\n",
      "---------------------------------------------------------------------------------------------------- \n",
      "\n",
      "Iteration: 2 \n",
      "Total Fitness: 992.8624143556867\n",
      "Best Fitness: 165.92420011759378\n",
      "New Population Fitness: 164.5828,164.5828,165.9242,165.9242,165.9242,165.9242\n",
      "---------------------------------------------------------------------------------------------------- \n",
      "\n",
      "Iteration: 3 \n",
      "Total Fitness: 992.8624143556867\n",
      "Best Fitness: 165.92420011759378\n",
      "New Population Fitness: 164.5828,164.5828,165.9242,165.9242,165.9242,165.9242\n",
      "---------------------------------------------------------------------------------------------------- \n",
      "\n",
      "Iteration: 4 \n",
      "Total Fitness: 992.8624143556867\n",
      "Best Fitness: 164.5828069426558\n",
      "New Population Fitness: 164.5828,164.5828,164.5828,164.5828,164.5828,164.5828\n",
      "---------------------------------------------------------------------------------------------------- \n",
      "\n"
     ]
    }
   ],
   "source": [
    "ga.solve()"
   ]
  },
  {
   "cell_type": "code",
   "execution_count": null,
   "id": "54802f87",
   "metadata": {},
   "outputs": [],
   "source": [
    "ga.current_best_solution"
   ]
  },
  {
   "cell_type": "code",
   "execution_count": null,
   "id": "8fba4a83",
   "metadata": {},
   "outputs": [],
   "source": [
    "ga.global_best_solution"
   ]
  },
  {
   "cell_type": "code",
   "execution_count": null,
   "id": "1130857b",
   "metadata": {},
   "outputs": [],
   "source": []
  }
 ],
 "metadata": {
  "kernelspec": {
   "display_name": "Python 3 (ipykernel)",
   "language": "python",
   "name": "python3"
  },
  "language_info": {
   "codemirror_mode": {
    "name": "ipython",
    "version": 3
   },
   "file_extension": ".py",
   "mimetype": "text/x-python",
   "name": "python",
   "nbconvert_exporter": "python",
   "pygments_lexer": "ipython3",
   "version": "3.9.7"
  }
 },
 "nbformat": 4,
 "nbformat_minor": 5
}
