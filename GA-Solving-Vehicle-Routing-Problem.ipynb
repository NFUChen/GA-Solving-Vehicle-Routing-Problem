{
 "cells": [
  {
   "cell_type": "code",
   "execution_count": 1,
   "id": "f35778d3",
   "metadata": {},
   "outputs": [],
   "source": [
    "from utilities import GeneticAlgorithm"
   ]
  },
  {
   "cell_type": "code",
   "execution_count": 2,
   "id": "f6a97151",
   "metadata": {},
   "outputs": [
    {
     "name": "stdout",
     "output_type": "stream",
     "text": [
      "Available Vehicle Names: [0, 1, 2, 3, 4, 5, 6, 7, 8, 9, 10, 11, 12, 13, 14]\n",
      "Available Depot Names: [0, 1, 2, 3, 4, 5, 6, 7, 8, 9, 10, 11, 12, 13, 14, 15, 16, 17, 18, 19, 20, 21, 22, 23, 24, 25, 26, 27, 28, 29]\n",
      "All Depots With Time Window Constraints: [0, 1, 4, 5, 6, 8, 15, 19, 23, 26]\n"
     ]
    }
   ],
   "source": [
    "ga = GeneticAlgorithm(100, 0.3,0.7,10)"
   ]
  },
  {
   "cell_type": "code",
   "execution_count": 3,
   "id": "e9572ca3",
   "metadata": {
    "scrolled": true
   },
   "outputs": [
    {
     "name": "stdout",
     "output_type": "stream",
     "text": [
      "Function '_generate_initial_raw_solution' executed in 2.1671s\tNo. 1 Success\n",
      "Function '_generate_initial_raw_solution' executed in 1.9057s\tNo. 2 Success\n",
      "Function '_generate_initial_raw_solution' executed in 1.9568s\tNo. 3 Success\n",
      "Function '_generate_initial_raw_solution' executed in 2.2053s\tNo. 4 Success\n",
      "Function '_generate_initial_raw_solution' executed in 1.7935s\tNo. 5 Success\n",
      "Function '_generate_initial_raw_solution' executed in 2.0587s\tNo. 6 Success\n",
      "Function '_generate_initial_raw_solution' executed in 2.4739s\tNo. 7 Success\n",
      "Function '_generate_initial_raw_solution' executed in 2.6297s\tNo. 8 Success\n",
      "Function '_generate_initial_raw_solution' executed in 2.8707s\tNo. 9 Success\n",
      "Function '_generate_initial_raw_solution' executed in 2.9868s\tNo. 10 Success\n",
      "Function '_generate_initial_raw_solution' executed in 3.3805s\tNo. 11 Success\n",
      "Function '_generate_initial_raw_solution' executed in 2.7398s\tNo. 12 Success\n",
      "Function '_generate_initial_raw_solution' executed in 2.7470s\tNo. 13 Success\n",
      "Function '_generate_initial_raw_solution' executed in 2.6885s\tNo. 14 Success\n",
      "Function '_generate_initial_raw_solution' executed in 2.2739s\tNo. 15 Success\n",
      "Function '_generate_initial_raw_solution' executed in 2.2520s\tNo. 16 Success\n",
      "Function '_generate_initial_raw_solution' executed in 2.7046s\tNo. 17 Success\n",
      "Function '_generate_initial_raw_solution' executed in 2.6921s\tNo. 18 Success\n",
      "Function '_generate_initial_raw_solution' executed in 3.1788s\tNo. 19 Success\n",
      "Function '_generate_initial_raw_solution' executed in 2.4406s\tNo. 20 Success\n",
      "Function '_generate_initial_raw_solution' executed in 2.6065s\tNo. 21 Success\n",
      "Function '_generate_initial_raw_solution' executed in 2.9616s\tNo. 22 Success\n",
      "Function '_generate_initial_raw_solution' executed in 2.0292s\tNo. 23 Success\n",
      "Function '_generate_initial_raw_solution' executed in 2.3367s\tNo. 24 Success\n",
      "Function '_generate_initial_raw_solution' executed in 2.9682s\tNo. 25 Success\n",
      "Function '_generate_initial_raw_solution' executed in 2.6432s\tNo. 26 Success\n",
      "Function '_generate_initial_raw_solution' executed in 2.4111s\tNo. 27 Success\n",
      "Function '_generate_initial_raw_solution' executed in 2.2617s\tNo. 28 Success\n",
      "Function '_generate_initial_raw_solution' executed in 1.8024s\tNo. 29 Success\n",
      "Function '_generate_initial_raw_solution' executed in 1.7805s\tNo. 30 Success\n",
      "Function '_generate_initial_raw_solution' executed in 2.0687s\tNo. 31 Success\n",
      "Function '_generate_initial_raw_solution' executed in 2.0576s\tNo. 32 Success\n",
      "Function '_generate_initial_raw_solution' executed in 1.6453s\tNo. 33 Success\n",
      "Function '_generate_initial_raw_solution' executed in 2.1509s\tNo. 34 Success\n",
      "Function '_generate_initial_raw_solution' executed in 1.7188s\tNo. 35 Success\n",
      "Function '_generate_initial_raw_solution' executed in 1.8378s\tNo. 36 Success\n",
      "Function '_generate_initial_raw_solution' executed in 2.3125s\tNo. 37 Success\n",
      "Function '_generate_initial_raw_solution' executed in 2.3927s\tNo. 38 Success\n",
      "Function '_generate_initial_raw_solution' executed in 2.0542s\tNo. 39 Success\n",
      "Function '_generate_initial_raw_solution' executed in 2.5518s\tNo. 40 Success\n",
      "Function '_generate_initial_raw_solution' executed in 2.1272s\tNo. 41 Success\n",
      "Function '_generate_initial_raw_solution' executed in 2.0554s\tNo. 42 Success\n",
      "Function '_generate_initial_raw_solution' executed in 2.1355s\tNo. 43 Success\n",
      "Function '_generate_initial_raw_solution' executed in 1.9223s\tNo. 44 Success\n",
      "Function '_generate_initial_raw_solution' executed in 2.2254s\tNo. 45 Success\n",
      "Function '_generate_initial_raw_solution' executed in 2.0382s\tNo. 46 Success\n",
      "Function '_generate_initial_raw_solution' executed in 2.2056s\tNo. 47 Success\n",
      "Function '_generate_initial_raw_solution' executed in 2.1220s\tNo. 48 Success\n",
      "Function '_generate_initial_raw_solution' executed in 2.0874s\tNo. 49 Success\n",
      "Function '_generate_initial_raw_solution' executed in 2.3105s\tNo. 50 Success\n",
      "Function '_generate_initial_raw_solution' executed in 2.0226s\tNo. 51 Success\n",
      "Function '_generate_initial_raw_solution' executed in 2.0289s\tNo. 52 Success\n",
      "Function '_generate_initial_raw_solution' executed in 2.0170s\tNo. 53 Success\n",
      "Function '_generate_initial_raw_solution' executed in 2.0052s\tNo. 54 Success\n",
      "Function '_generate_initial_raw_solution' executed in 2.2854s\tNo. 55 Success\n",
      "Function '_generate_initial_raw_solution' executed in 1.6592s\tNo. 56 Success\n",
      "Function '_generate_initial_raw_solution' executed in 1.7873s\tNo. 57 Success\n",
      "Function '_generate_initial_raw_solution' executed in 2.2815s\tNo. 58 Success\n",
      "Function '_generate_initial_raw_solution' executed in 2.1046s\tNo. 59 Success\n",
      "Function '_generate_initial_raw_solution' executed in 1.7133s\tNo. 60 Success\n",
      "Function '_generate_initial_raw_solution' executed in 2.5234s\tNo. 61 Success\n",
      "Function '_generate_initial_raw_solution' executed in 2.0775s\tNo. 62 Success\n",
      "Function '_generate_initial_raw_solution' executed in 2.2132s\tNo. 63 Success\n",
      "Function '_generate_initial_raw_solution' executed in 2.2879s\tNo. 64 Success\n",
      "Function '_generate_initial_raw_solution' executed in 2.1497s\tNo. 65 Success\n",
      "Function '_generate_initial_raw_solution' executed in 1.9628s\tNo. 66 Success\n",
      "Function '_generate_initial_raw_solution' executed in 2.0928s\tNo. 67 Success\n",
      "Function '_generate_initial_raw_solution' executed in 1.7551s\tNo. 68 Success\n",
      "Function '_generate_initial_raw_solution' executed in 2.1093s\tNo. 69 Success\n",
      "Function '_generate_initial_raw_solution' executed in 1.7495s\tNo. 70 Success\n",
      "Function '_generate_initial_raw_solution' executed in 2.3635s\tNo. 71 Success\n",
      "Function '_generate_initial_raw_solution' executed in 1.9990s\tNo. 72 Success\n",
      "Function '_generate_initial_raw_solution' executed in 1.7134s\tNo. 73 Success\n",
      "Function '_generate_initial_raw_solution' executed in 1.7281s\tNo. 74 Success\n",
      "Function '_generate_initial_raw_solution' executed in 2.1346s\tNo. 75 Success\n",
      "Function '_generate_initial_raw_solution' executed in 1.9303s\tNo. 76 Success\n",
      "Function '_generate_initial_raw_solution' executed in 2.1563s\tNo. 77 Success\n",
      "Function '_generate_initial_raw_solution' executed in 2.2074s\tNo. 78 Success\n",
      "Function '_generate_initial_raw_solution' executed in 1.7488s\tNo. 79 Success\n",
      "Function '_generate_initial_raw_solution' executed in 1.7140s\tNo. 80 Success\n",
      "Function '_generate_initial_raw_solution' executed in 2.2078s\tNo. 81 Success\n",
      "Function '_generate_initial_raw_solution' executed in 2.0107s\tNo. 82 Success\n",
      "Function '_generate_initial_raw_solution' executed in 2.2023s\tNo. 83 Success\n",
      "Function '_generate_initial_raw_solution' executed in 2.2710s\tNo. 84 Success\n",
      "Function '_generate_initial_raw_solution' executed in 2.1965s\tNo. 85 Success\n",
      "Function '_generate_initial_raw_solution' executed in 2.1055s\tNo. 86 Success\n",
      "Function '_generate_initial_raw_solution' executed in 2.0835s\tNo. 87 Success\n",
      "Function '_generate_initial_raw_solution' executed in 2.2023s\tNo. 88 Success\n",
      "Function '_generate_initial_raw_solution' executed in 2.3752s\tNo. 89 Success\n",
      "Function '_generate_initial_raw_solution' executed in 2.0093s\tNo. 90 Success\n",
      "Function '_generate_initial_raw_solution' executed in 2.2121s\tNo. 91 Success\n",
      "Function '_generate_initial_raw_solution' executed in 2.1135s\tNo. 92 Success\n",
      "Function '_generate_initial_raw_solution' executed in 2.1701s\t**Depot 19 Is Not Assigned**\n",
      "Function '_generate_initial_raw_solution' executed in 2.5009s\tNo. 93 Success\n",
      "Function '_generate_initial_raw_solution' executed in 1.6955s\tNo. 94 Success\n",
      "Function '_generate_initial_raw_solution' executed in 2.6163s\tNo. 95 Success\n",
      "Function '_generate_initial_raw_solution' executed in 2.5422s\tNo. 96 Success\n",
      "Function '_generate_initial_raw_solution' executed in 1.9586s\tNo. 97 Success\n",
      "Function '_generate_initial_raw_solution' executed in 2.2253s\tNo. 98 Success\n",
      "Function '_generate_initial_raw_solution' executed in 1.9906s\tNo. 99 Success\n",
      "Function '_generate_initial_raw_solution' executed in 2.0719s\tNo. 100 Success\n",
      "Successful Rate: 99.00999999999999%\n",
      "Processing Solution Chromosomes...\n"
     ]
    },
    {
     "name": "stderr",
     "output_type": "stream",
     "text": [
      "100%|███████████████████████████████████████████████████████████████████████████████████████████████████████████| 100/100 [02:29<00:00,  1.50s/it]\n"
     ]
    },
    {
     "name": "stdout",
     "output_type": "stream",
     "text": [
      "Function 'generate_valid_solutions' executed in 371.9390s\tFirst Generation Population is Initialized\n",
      "Iteration: 0 \n",
      "Total Fitness: 3310.523268850094\n",
      "Best Fitness: 35.62456270849276\n",
      "New Population Fitness: 31.2974,31.2974,31.3503,31.3503,31.478,31.478,31.5714,31.5714,31.7539,31.7539,31.862,31.862,31.9158,31.9158,31.929,31.929,32.0421,32.0421,32.0421,32.0421,32.1297,32.1297,32.1475,32.1475,32.2162,32.2162,32.3387,32.3387,32.3563,32.3563,32.3871,32.3871,32.4164,32.4164,32.4729,32.4729,32.4912,32.4912,32.4912,32.4912,32.5349,32.5349,32.7201,32.7201,32.874,32.874,32.8882,32.8882,32.9145,32.9145,33.0092,33.0092,33.0803,33.0803,33.0864,33.0864,33.2496,33.2496,33.3661,33.3661,33.3793,33.3793,33.3957,33.3957,33.4164,33.4164,33.4469,33.4469,33.5152,33.5152,33.5935,33.5935,33.614,33.614,33.6335,33.6335,33.7061,33.7061,33.7959,33.7959,33.9599,33.9599,33.9651,33.9651,34.0904,34.0904,34.4356,34.4356,34.4813,34.4813,34.718,34.718,34.7298,34.7298,35.0131,35.0131,35.3349,35.3349,35.6246,35.6246\n",
      "---------------------------------------------------------------------------------------------------- \n",
      "\n",
      "Iteration: 1 \n",
      "Total Fitness: 3304.5228252252646\n",
      "Best Fitness: 35.57976877419869\n",
      "New Population Fitness: 31.187,31.3503,31.3503,31.3779,31.3779,31.4332,31.4332,31.7338,31.7338,31.862,31.862,31.9021,31.9021,31.9484,31.9484,31.9958,31.9958,32.0421,32.0421,32.0421,32.0421,32.1297,32.1297,32.3103,32.3103,32.3167,32.3563,32.3563,32.4151,32.4729,32.4729,32.5836,32.5836,32.6914,32.6914,32.8091,32.8091,32.8541,32.8541,32.8896,32.8896,33.0803,33.0803,33.0803,33.0803,33.0803,33.0803,33.2608,33.3661,33.3661,33.3661,33.3661,33.3793,33.3793,33.4391,33.4391,33.4469,33.4469,33.4487,33.4487,33.5152,33.5152,33.5152,33.5152,33.6261,33.6261,33.7061,33.7061,33.7061,33.7061,33.7304,33.8473,33.8473,33.8497,33.9599,33.9599,33.9599,33.9599,33.9651,33.9651,34.0904,34.0904,34.1289,34.1289,34.1548,34.1548,34.718,34.718,34.718,34.718,34.718,34.718,34.7334,34.7334,35.0131,35.0131,35.0131,35.0131,35.5798,35.5798\n",
      "---------------------------------------------------------------------------------------------------- \n",
      "\n",
      "Iteration: 2 \n",
      "Total Fitness: 3319.039579344786\n",
      "Best Fitness: 35.68195531406009\n",
      "New Population Fitness: 31.187,31.187,31.5272,31.5272,31.7634,31.7751,31.7751,31.8095,31.8105,31.8105,31.9021,31.9021,31.9021,31.9021,31.9705,31.9705,32.0047,32.0421,32.0421,32.0832,32.0832,32.1297,32.1297,32.1297,32.1297,32.1354,32.1354,32.2229,32.2229,32.3167,32.3167,32.381,32.4729,32.4729,32.5369,32.5369,32.5604,32.7043,32.7043,32.9813,32.9813,33.0803,33.0803,33.1147,33.2211,33.4391,33.4391,33.4391,33.4391,33.4391,33.4391,33.4487,33.4487,33.5152,33.5152,33.5323,33.5487,33.57,33.57,33.5843,33.5886,33.6347,33.7061,33.7061,33.7304,33.7304,33.7891,33.8497,33.8497,33.8825,33.9651,33.9651,34.0773,34.0773,34.0904,34.0904,34.2595,34.2595,34.2682,34.2846,34.5163,34.5163,34.6411,34.718,34.718,34.8433,34.9869,35.0131,35.0131,35.0131,35.0131,35.0203,35.0203,35.023,35.1233,35.2472,35.5798,35.5798,35.682,35.682\n",
      "---------------------------------------------------------------------------------------------------- \n",
      "\n",
      "Iteration: 3 \n",
      "Total Fitness: 3330.796968607306\n",
      "Best Fitness: 36.07581693687454\n",
      "New Population Fitness: 31.187,31.187,31.7522,31.7522,31.9705,31.9705,32.0421,32.0421,32.0421,32.0421,32.0593,32.1218,32.1297,32.1297,32.1297,32.1297,32.2699,32.2699,32.2798,32.2855,32.2974,32.2974,32.3167,32.3167,32.3415,32.3981,32.3981,32.5097,32.5369,32.5369,32.5401,32.5604,32.5604,32.6444,32.6712,32.6712,32.8066,32.8066,32.8111,32.8857,32.906,32.906,32.9813,32.9813,32.9813,32.9813,33.1979,33.2284,33.2284,33.3071,33.3323,33.4425,33.4491,33.4898,33.4957,33.5152,33.5152,33.5152,33.5152,33.5152,33.5152,33.5375,33.5521,33.6158,33.6158,33.6347,33.6347,33.7304,33.7304,33.8032,33.8497,33.8497,33.8698,33.8698,33.8827,33.8827,33.9091,33.9651,33.9651,34.0598,34.0598,34.2595,34.2595,34.2663,34.2663,34.2846,34.2846,34.4445,34.5163,34.5163,34.6492,34.7384,34.8704,35.023,35.1233,35.1233,35.3469,35.5798,35.5798,36.0758\n",
      "---------------------------------------------------------------------------------------------------- \n",
      "\n",
      "Iteration: 4 \n",
      "Total Fitness: 3326.924900782191\n",
      "Best Fitness: 35.83097953656928\n",
      "New Population Fitness: 31.4365,31.4365,31.7659,31.8667,31.9705,31.9705,32.0421,32.0421,32.0593,32.0593,32.1218,32.1218,32.1218,32.1218,32.1297,32.1297,32.177,32.2605,32.2699,32.2699,32.2974,32.2974,32.2974,32.2974,32.5241,32.5407,32.5604,32.5604,32.5604,32.5604,32.6,32.8136,32.8275,32.875,32.9015,32.9015,32.9489,32.9813,33.0171,33.1878,33.1878,33.2284,33.2284,33.2284,33.2284,33.2374,33.3071,33.3071,33.3696,33.3696,33.4495,33.4957,33.4957,33.5089,33.5089,33.533,33.534,33.5521,33.5521,33.8112,33.8112,33.8379,33.8379,33.8497,33.8497,33.8497,33.8497,33.861,33.8681,33.8838,33.9062,33.9091,33.9091,33.9651,33.9651,34.085,34.1898,34.2511,34.2511,34.2595,34.2595,34.2637,34.5163,34.5163,34.6492,34.6492,34.6492,34.6492,34.7384,34.7384,35.0098,35.023,35.0786,35.1091,35.1233,35.1233,35.3469,35.3469,35.831,35.831\n",
      "---------------------------------------------------------------------------------------------------- \n",
      "\n",
      "Iteration: 5 \n",
      "Total Fitness: 3339.6992344542227\n",
      "Best Fitness: 35.97443225151021\n",
      "New Population Fitness: 31.2462,31.4611,31.4611,31.7832,31.7895,31.8667,31.8667,32.0102,32.0421,32.0421,32.1075,32.1218,32.1218,32.177,32.2493,32.2603,32.2974,32.2974,32.2974,32.2974,32.5241,32.5241,32.5407,32.5407,32.5977,32.6007,32.6459,32.6787,32.6922,32.7153,32.7153,32.9984,33.0591,33.3071,33.3337,33.4332,33.5089,33.5089,33.5179,33.533,33.533,33.533,33.533,33.5521,33.5521,33.6119,33.675,33.7119,33.7219,33.7374,33.7424,33.806,33.8191,33.8191,33.8512,33.8512,33.8681,33.8681,33.8802,33.8958,33.9062,33.9062,33.9458,33.9997,34.0368,34.1257,34.1898,34.1898,34.2315,34.2315,34.2595,34.2595,34.3109,34.3109,34.3123,34.3123,34.4111,34.4236,34.4236,34.5353,34.631,34.6891,34.7384,34.7384,34.7384,34.7384,34.7791,34.7791,35.023,35.023,35.0786,35.1233,35.1233,35.2177,35.3353,35.3469,35.3469,35.6604,35.9744,35.9744\n",
      "---------------------------------------------------------------------------------------------------- \n",
      "\n",
      "Iteration: 6 \n",
      "Total Fitness: 3359.7153883695514\n",
      "Best Fitness: 35.97443225151021\n",
      "New Population Fitness: 31.2399,31.4611,31.4611,31.7338,32.02,32.0249,32.0797,32.1218,32.1218,32.1218,32.1218,32.1218,32.1218,32.1398,32.1398,32.177,32.1988,32.2493,32.2493,32.2493,32.2493,32.2974,32.2974,32.2974,32.2974,32.3551,32.6459,32.6459,32.6654,32.6889,32.6922,32.6922,32.7293,32.738,32.884,32.8855,32.9503,32.9732,33.0526,33.084,33.2088,33.2578,33.2657,33.2971,33.3197,33.3197,33.3965,33.4287,33.4287,33.4959,33.5089,33.5089,33.7119,33.7119,33.7403,33.766,33.772,33.7834,33.7834,33.8191,33.8578,33.8802,33.8802,34.0778,34.0915,34.1257,34.1257,34.1583,34.4696,34.4696,34.6082,34.6891,34.6891,34.7384,34.7384,34.7384,34.7384,34.7736,34.7791,34.7961,34.8393,34.9264,35.023,35.0399,35.0591,35.0786,35.0786,35.3213,35.3469,35.3469,35.3469,35.4016,35.4576,35.5605,35.6741,35.6741,35.9744,35.9744,35.9744,35.9744\n",
      "---------------------------------------------------------------------------------------------------- \n",
      "\n",
      "Iteration: 7 \n",
      "Total Fitness: 3360.298646006682\n",
      "Best Fitness: 36.09761661876513\n",
      "New Population Fitness: 31.4611,31.4611,31.4611,31.4611,31.593,31.593,31.6493,32.1119,32.1218,32.1218,32.1218,32.1218,32.1218,32.1218,32.1398,32.1398,32.1699,32.2974,32.3752,32.3801,32.4822,32.6627,32.738,32.8259,32.9544,33.008,33.0574,33.253,33.2578,33.2578,33.2971,33.2971,33.3434,33.3516,33.4287,33.4287,33.4287,33.5089,33.5972,33.627,33.7119,33.7119,33.7403,33.7403,33.7685,33.7696,33.7696,33.817,33.8191,33.8223,33.8454,33.8774,33.8802,33.8802,33.8802,33.8802,33.9273,33.9757,34.1279,34.1379,34.4696,34.4696,34.4696,34.5013,34.5215,34.592,34.6082,34.6082,34.6745,34.6891,34.6891,34.7791,34.7791,34.7791,34.9923,35.023,35.023,35.023,35.023,35.023,35.0591,35.1976,35.3469,35.3469,35.4576,35.4576,35.4576,35.4576,35.6741,35.6741,35.6741,35.6741,35.7191,35.8632,35.9744,35.9744,35.9744,35.9744,36.0976,36.0976\n",
      "---------------------------------------------------------------------------------------------------- \n",
      "\n",
      "Iteration: 8 \n",
      "Total Fitness: 3387.803186209596\n",
      "Best Fitness: 36.169661755791125\n",
      "New Population Fitness: 31.593,31.593,31.6493,31.6493,31.7566,31.8199,31.8419,31.8447,32.1218,32.1218,32.1298,32.1394,32.1398,32.1398,32.4071,32.4488,32.7518,32.7646,32.7646,32.7672,32.7799,32.8259,32.8259,32.9103,33.008,33.008,33.008,33.0574,33.0574,33.0574,33.0574,33.1859,33.2187,33.2578,33.2578,33.3017,33.3131,33.5417,33.627,33.627,33.627,33.6309,33.6567,33.6849,33.7403,33.7403,33.7403,33.7519,33.7685,33.817,33.817,33.8223,33.8223,33.8802,33.8802,33.953,33.978,33.9812,34.0235,34.2449,34.3701,34.4696,34.4696,34.4696,34.4696,34.5701,34.5886,34.6082,34.6082,34.6126,34.6518,34.7791,34.7791,34.7791,34.886,35.023,35.023,35.0395,35.0591,35.0591,35.1976,35.1976,35.1976,35.3469,35.3469,35.4576,35.4576,35.4576,35.6741,35.6741,35.6741,35.7761,35.8405,35.8632,35.8632,35.866,35.8968,36.0976,36.0976,36.1697\n",
      "---------------------------------------------------------------------------------------------------- \n",
      "\n"
     ]
    },
    {
     "name": "stdout",
     "output_type": "stream",
     "text": [
      "Iteration: 9 \n",
      "Total Fitness: 3389.3984421677364\n",
      "Best Fitness: 36.336298254149874\n",
      "New Population Fitness: 31.5732,31.593,31.593,31.8447,31.8639,32.0583,32.0596,32.1298,32.1298,32.1398,32.1853,32.3564,32.9053,32.9103,32.9204,32.9557,32.9955,33.0574,33.0574,33.0611,33.0913,33.096,33.2259,33.2307,33.2588,33.2845,33.3069,33.3131,33.3461,33.3779,33.5431,33.614,33.627,33.627,33.627,33.627,33.6567,33.6567,33.6951,33.7043,33.7395,33.7403,33.7403,33.817,33.8223,33.8223,33.8223,33.8223,33.8404,34.0253,34.1023,34.2449,34.3701,34.3701,34.4422,34.4696,34.4696,34.5879,34.5886,34.5886,34.6182,34.6473,34.7791,34.7791,34.886,34.886,35.023,35.023,35.023,35.023,35.023,35.0395,35.0591,35.0591,35.0591,35.0591,35.1884,35.1976,35.1976,35.1976,35.1976,35.4576,35.4576,35.4576,35.4576,35.4966,35.6008,35.6008,35.6323,35.7167,35.8632,35.8632,35.8632,35.8632,35.866,35.8968,36.0976,36.0976,36.0976,36.3363\n",
      "---------------------------------------------------------------------------------------------------- \n",
      "\n"
     ]
    }
   ],
   "source": [
    "ga.solve()"
   ]
  },
  {
   "cell_type": "code",
   "execution_count": 10,
   "id": "54802f87",
   "metadata": {},
   "outputs": [
    {
     "data": {
      "text/plain": [
       "Chromosome: {0: [0, 16, 14, 15, 26, 0, 19, 0], 1: [0, 20, 0], 2: [], 3: [0, 13, 28, 22, 23, 0], 4: [0, 25, 10, 9, 1, 0], 5: [0, 4, 11, 2, 0], 6: [0, 1, 18, 24, 0], 7: [0, 6, 5, 17, 0], 8: [], 9: [0, 27, 27, 2, 0], 10: [0, 21, 0], 11: [0, 7, 0], 12: [], 13: [0, 8, 0], 14: []}\n",
       "Total Cost: $27519\n",
       "Fuel Fee: $21854\n",
       "Vehicle Fixed Cost: $1200\n",
       "Driver Cost: $4465\n",
       "Distance: 1027 km\n",
       "Total Delivery Time: 1594.99 Mins\n",
       "Number of Vehicles Assigned: 11\n",
       "Number of Replenishsments: 1\n",
       "Generation: 10\n",
       "Fitness: 36.3363\n",
       "------------------------------------------------------------"
      ]
     },
     "execution_count": 10,
     "metadata": {},
     "output_type": "execute_result"
    }
   ],
   "source": [
    "ga.current_best_solution"
   ]
  },
  {
   "cell_type": "code",
   "execution_count": 5,
   "id": "8fba4a83",
   "metadata": {},
   "outputs": [
    {
     "data": {
      "text/plain": [
       "Chromosome: {0: [0, 16, 14, 15, 26, 0, 19, 0], 1: [0, 20, 0], 2: [], 3: [0, 13, 28, 22, 23, 0], 4: [0, 25, 10, 9, 1, 0], 5: [0, 4, 11, 2, 0], 6: [0, 1, 18, 24, 0], 7: [0, 6, 5, 17, 0], 8: [], 9: [0, 27, 27, 2, 0], 10: [0, 21, 0], 11: [0, 7, 0], 12: [], 13: [0, 8, 0], 14: []}\n",
       "Total Cost: $27519\n",
       "Fuel Fee: $21854\n",
       "Vehicle Fixed Cost: $1200\n",
       "Driver Cost: $4465\n",
       "Distance: 1027 km\n",
       "Total Delivery Time: 1594.99 Mins\n",
       "Number of Vehicles Assigned: 11\n",
       "Number of Replenishsments: 1\n",
       "Generation: 10\n",
       "Fitness: 36.3363\n",
       "------------------------------------------------------------"
      ]
     },
     "execution_count": 5,
     "metadata": {},
     "output_type": "execute_result"
    }
   ],
   "source": [
    "ga.global_best_solution"
   ]
  }
 ],
 "metadata": {
  "kernelspec": {
   "display_name": "Python 3 (ipykernel)",
   "language": "python",
   "name": "python3"
  },
  "language_info": {
   "codemirror_mode": {
    "name": "ipython",
    "version": 3
   },
   "file_extension": ".py",
   "mimetype": "text/x-python",
   "name": "python",
   "nbconvert_exporter": "python",
   "pygments_lexer": "ipython3",
   "version": "3.9.7"
  }
 },
 "nbformat": 4,
 "nbformat_minor": 5
}
