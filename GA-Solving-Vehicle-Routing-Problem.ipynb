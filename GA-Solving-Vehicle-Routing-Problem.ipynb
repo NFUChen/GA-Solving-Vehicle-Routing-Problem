{
 "cells": [
  {
   "cell_type": "code",
   "execution_count": 1,
   "id": "f35778d3",
   "metadata": {},
   "outputs": [],
   "source": [
    "from utilities import GeneticAlgorithm"
   ]
  },
  {
   "cell_type": "code",
   "execution_count": 7,
   "id": "f6a97151",
   "metadata": {},
   "outputs": [
    {
     "name": "stdout",
     "output_type": "stream",
     "text": [
      "Available Vehicle Names: [0, 1, 2, 3, 4]\n",
      "Available Depot Names: [0, 1, 2, 3, 4, 5, 6, 7, 8]\n",
      "All Depots With Time Window Constraints: [0, 1, 3, 4, 7]\n"
     ]
    }
   ],
   "source": [
    "ga = GeneticAlgorithm(50, 0.7,0.7,20)"
   ]
  },
  {
   "cell_type": "code",
   "execution_count": null,
   "id": "e9572ca3",
   "metadata": {
    "scrolled": true
   },
   "outputs": [
    {
     "name": "stdout",
     "output_type": "stream",
     "text": [
      "Function '_generate_initial_raw_solution' executed in 0.8288s\tNo. 1 Success\n",
      "Function '_generate_initial_raw_solution' executed in 1.0703s\tNo. 2 Success\n",
      "Function '_generate_initial_raw_solution' executed in 0.9458s\tNo. 3 Success\n",
      "Function '_generate_initial_raw_solution' executed in 1.3089s\tNo. 4 Success\n",
      "Function '_generate_initial_raw_solution' executed in 0.9443s\tNo. 5 Success\n",
      "Function '_generate_initial_raw_solution' executed in 0.9019s\tNo. 6 Success\n",
      "Function '_generate_initial_raw_solution' executed in 1.2019s\tNo. 7 Success\n",
      "Function '_generate_initial_raw_solution' executed in 1.3759s\tNo. 8 Success\n",
      "Function '_generate_initial_raw_solution' executed in 1.7424s\tNo. 9 Success\n",
      "Function '_generate_initial_raw_solution' executed in 1.3219s\tNo. 10 Success\n",
      "Function '_generate_initial_raw_solution' executed in 1.1200s\tNo. 11 Success\n",
      "Function '_generate_initial_raw_solution' executed in 1.2535s\tNo. 12 Success\n",
      "Function '_generate_initial_raw_solution' executed in 1.6172s\t**Same Answer Generated**\n",
      "Function '_generate_initial_raw_solution' executed in 0.8884s\tNo. 13 Success\n",
      "Function '_generate_initial_raw_solution' executed in 1.2493s\tNo. 14 Success\n",
      "Function '_generate_initial_raw_solution' executed in 1.1265s\tNo. 15 Success\n",
      "Function '_generate_initial_raw_solution' executed in 1.1570s\tNo. 16 Success\n",
      "Function '_generate_initial_raw_solution' executed in 1.0804s\tNo. 17 Success\n",
      "Function '_generate_initial_raw_solution' executed in 1.5376s\tNo. 18 Success\n",
      "Function '_generate_initial_raw_solution' executed in 1.2985s\tNo. 19 Success\n",
      "Function '_generate_initial_raw_solution' executed in 0.8496s\tNo. 20 Success\n",
      "Function '_generate_initial_raw_solution' executed in 1.3918s\tNo. 21 Success\n",
      "Function '_generate_initial_raw_solution' executed in 0.9503s\tNo. 22 Success\n",
      "Function '_generate_initial_raw_solution' executed in 0.8859s\tNo. 23 Success\n",
      "Function '_generate_initial_raw_solution' executed in 0.9099s\t**Same Answer Generated**\n",
      "Function '_generate_initial_raw_solution' executed in 1.4203s\t**Same Answer Generated**\n",
      "Function '_generate_initial_raw_solution' executed in 1.1551s\tNo. 24 Success\n",
      "Function '_generate_initial_raw_solution' executed in 0.8459s\tNo. 25 Success\n",
      "Function '_generate_initial_raw_solution' executed in 0.9878s\tNo. 26 Success\n",
      "Function '_generate_initial_raw_solution' executed in 1.0140s\tNo. 27 Success\n",
      "Function '_generate_initial_raw_solution' executed in 1.1170s\t**Same Answer Generated**\n",
      "Function '_generate_initial_raw_solution' executed in 0.9882s\tNo. 28 Success\n",
      "Function '_generate_initial_raw_solution' executed in 1.4496s\tNo. 29 Success\n",
      "Function '_generate_initial_raw_solution' executed in 0.9730s\tNo. 30 Success\n",
      "Function '_generate_initial_raw_solution' executed in 0.7890s\tNo. 31 Success\n",
      "Function '_generate_initial_raw_solution' executed in 0.7319s\tNo. 32 Success\n",
      "Function '_generate_initial_raw_solution' executed in 0.8689s\t**Same Answer Generated**\n",
      "Function '_generate_initial_raw_solution' executed in 0.8472s\tNo. 33 Success\n",
      "Function '_generate_initial_raw_solution' executed in 0.9967s\tNo. 34 Success\n",
      "Function '_generate_initial_raw_solution' executed in 1.4701s\tNo. 35 Success\n",
      "Function '_generate_initial_raw_solution' executed in 1.3759s\tNo. 36 Success\n",
      "Function '_generate_initial_raw_solution' executed in 0.7991s\t**Same Answer Generated**\n",
      "Function '_generate_initial_raw_solution' executed in 0.8039s\tNo. 37 Success\n",
      "Function '_generate_initial_raw_solution' executed in 0.7249s\tNo. 38 Success\n",
      "Function '_generate_initial_raw_solution' executed in 0.8755s\t**Same Answer Generated**\n",
      "Function '_generate_initial_raw_solution' executed in 1.0808s\tNo. 39 Success\n",
      "Function '_generate_initial_raw_solution' executed in 0.9912s\tNo. 40 Success\n",
      "Function '_generate_initial_raw_solution' executed in 0.8070s\t**Same Answer Generated**\n",
      "Function '_generate_initial_raw_solution' executed in 1.4566s\tNo. 41 Success\n",
      "Function '_generate_initial_raw_solution' executed in 0.8719s\tNo. 42 Success\n",
      "Function '_generate_initial_raw_solution' executed in 1.2535s\tNo. 43 Success\n",
      "Function '_generate_initial_raw_solution' executed in 1.8311s\t**Same Answer Generated**\n",
      "Function '_generate_initial_raw_solution' executed in 0.8227s\t**Same Answer Generated**\n",
      "Function '_generate_initial_raw_solution' executed in 0.9917s\tNo. 44 Success\n",
      "Function '_generate_initial_raw_solution' executed in 1.0612s\tNo. 45 Success\n",
      "Function '_generate_initial_raw_solution' executed in 2.0277s\tNo. 46 Success\n",
      "Function '_generate_initial_raw_solution' executed in 1.1974s\tNo. 47 Success\n",
      "Function '_generate_initial_raw_solution' executed in 1.2344s\t**Same Answer Generated**\n",
      "Function '_generate_initial_raw_solution' executed in 0.9349s\t**Same Answer Generated**\n",
      "Function '_generate_initial_raw_solution' executed in 1.7413s\tNo. 48 Success\n",
      "Function '_generate_initial_raw_solution' executed in 1.1194s\t**Same Answer Generated**\n",
      "Function '_generate_initial_raw_solution' executed in 1.0598s\tNo. 49 Success\n",
      "Function '_generate_initial_raw_solution' executed in 1.7796s\t**Same Answer Generated**\n",
      "Function '_generate_initial_raw_solution' executed in 0.7746s\tNo. 50 Success\n",
      "Successful Rate: 78.12%\n",
      "Processing Solution Chromosomes...\n"
     ]
    },
    {
     "name": "stderr",
     "output_type": "stream",
     "text": [
      "100%|█████████████████████████████████████████████████████████████████████████████████████████████████████████████| 50/50 [00:10<00:00,  4.57it/s]\n"
     ]
    },
    {
     "name": "stdout",
     "output_type": "stream",
     "text": [
      "Function 'generate_valid_solutions' executed in 83.1874s\tFirst Generation Population is Initialized\n",
      "Iteration: 0 \n",
      "Total Fitness: 8912.669675254176\n",
      "Best Fitness: 332.1014142079959\n",
      "New Population Fitness: 105.1095,105.1095,123.464,123.464,123.4882,123.4882,129.2946,129.2946,132.1571,132.1571,135.3537,135.3537,135.3537,135.3537,136.147,136.147,137.3453,137.3453,162.1831,162.1831,166.3689,166.3689,167.2869,167.2869,167.2869,167.2869,168.6531,168.6531,169.171,169.171,173.9838,173.9838,174.9776,174.9776,176.7609,176.7609,182.2852,182.2852,182.2852,182.2852,187.8583,187.8583,219.4183,219.4183,251.5021,251.5021,256.0556,256.0556,332.1014,332.1014\n",
      "---------------------------------------------------------------------------------------------------- \n",
      "\n",
      "Iteration: 1 \n",
      "Total Fitness: 8591.782612335344\n",
      "Best Fitness: 332.1014142079959\n",
      "New Population Fitness: 105.1095,105.1095,123.0199,123.0199,128.8076,132.6667,135.0701,135.0701,160.1701,160.1701,167.2869,167.2869,168.6663,168.6663,168.6663,168.6663,169.171,169.171,173.9838,173.9838,174.087,174.087,174.087,174.087,174.9776,174.9776,176.7609,176.7609,176.7609,176.7609,181.6993,181.6993,188.3187,188.3187,188.3187,240.345,240.345,242.0459,242.0459,250.7699,250.7699,251.5021,251.5021,251.5021,328.4373,328.4373,332.1014,332.1014,332.1014,332.1014\n",
      "---------------------------------------------------------------------------------------------------- \n",
      "\n",
      "Iteration: 2 \n",
      "Total Fitness: 9891.571783808553\n",
      "Best Fitness: 356.26248165604477\n",
      "New Population Fitness: 123.0199,123.0199,129.2946,166.5612,166.5612,167.2869,167.2869,167.2869,167.2869,168.6663,168.6663,168.6663,168.6663,169.171,169.171,169.171,169.171,169.171,169.171,174.4381,174.9776,174.9776,174.9776,174.9776,176.7609,176.7609,182.2852,182.2852,187.8583,187.8583,240.345,240.345,251.5021,251.5021,251.5021,256.0556,256.0556,257.4002,261.419,261.419,326.7167,326.7167,328.4373,328.4373,328.7104,328.7104,332.1014,332.1014,356.2625,356.2625\n",
      "---------------------------------------------------------------------------------------------------- \n",
      "\n",
      "Iteration: 3 \n",
      "Total Fitness: 10907.45483681215\n",
      "Best Fitness: 358.19159095093426\n",
      "New Population Fitness: 123.464,123.464,166.5612,166.5612,167.2869,168.6663,168.6663,168.6663,168.6663,169.171,169.171,169.171,169.171,169.171,169.171,169.171,169.171,174.087,174.087,174.087,174.087,174.9776,174.9776,176.7609,176.7609,176.7609,176.7609,176.7609,176.7609,181.6993,255.4775,256.0556,256.0556,326.6093,326.6093,328.4373,328.4373,328.7104,328.7104,331.757,331.757,332.3806,332.3806,332.3806,332.3806,339.033,356.2625,356.2625,358.1916,358.1916\n",
      "---------------------------------------------------------------------------------------------------- \n",
      "\n",
      "Iteration: 4 \n",
      "Total Fitness: 11560.018235655749\n",
      "Best Fitness: 358.19159095093426\n",
      "New Population Fitness: 123.464,123.464,166.5612,167.2869,167.2869,168.6663,168.6663,168.6663,168.6663,168.6663,168.6663,168.6663,168.6663,168.6663,169.171,169.171,169.171,169.171,174.087,174.087,175.9509,175.9509,176.7609,176.7609,241.5293,241.5293,326.6093,326.6093,326.6093,326.6093,326.6093,326.6093,326.7167,326.7167,328.4373,328.4373,328.7104,328.7104,328.7104,328.7104,331.757,331.757,332.3806,332.3806,343.5453,343.5453,358.1916,358.1916,358.1916,358.1916\n",
      "---------------------------------------------------------------------------------------------------- \n",
      "\n",
      "Iteration: 5 \n",
      "Total Fitness: 12512.336755759408\n",
      "Best Fitness: 358.19159095093426\n",
      "New Population Fitness: 123.0199,123.0199,167.2869,167.2869,168.6663,168.6663,168.6663,168.6663,174.087,176.7609,176.7609,176.7609,241.5293,241.5293,257.4002,257.4002,257.4002,326.6093,326.6093,326.6093,326.6093,326.7167,326.7167,326.7167,326.7167,326.7167,326.7167,326.7167,326.7167,328.7104,330.3213,330.3213,331.757,331.757,332.3806,332.3806,332.3806,332.3806,336.0407,336.0407,336.0407,341.7703,341.7703,341.7703,341.7703,343.5453,343.5453,343.5453,358.1916,358.1916\n",
      "---------------------------------------------------------------------------------------------------- \n",
      "\n",
      "Iteration: 6 \n",
      "Total Fitness: 14239.690042507142\n",
      "Best Fitness: 358.19159095093426\n",
      "New Population Fitness: 167.2869,167.2869,167.2869,167.2869,168.6663,168.6663,174.087,174.087,174.9776,174.9776,174.9776,240.345,241.5293,241.5293,241.5293,241.5293,257.4002,257.4002,326.6093,326.6093,326.6093,326.6093,326.6093,326.6093,326.6093,326.7167,326.7167,331.757,331.757,331.757,331.757,332.3806,332.3806,332.3806,336.0407,336.0407,336.0407,336.0407,336.0407,341.7703,341.7703,341.7703,341.7703,341.7703,341.7703,343.5453,343.5453,343.5453,358.1916,358.1916\n",
      "---------------------------------------------------------------------------------------------------- \n",
      "\n",
      "Iteration: 7 \n",
      "Total Fitness: 14342.561555272518\n",
      "Best Fitness: 358.19159095093426\n",
      "New Population Fitness: 166.5612,167.2869,168.6663,168.6663,174.9776,174.9776,240.345,240.345,241.5293,241.5293,241.5293,242.0459,255.4775,255.4775,255.4775,326.6093,326.6093,326.7167,326.7167,326.7167,326.7167,328.42,328.42,331.757,331.757,331.757,331.757,331.757,331.757,336.0407,336.0407,336.0407,337.2922,337.2922,339.033,339.033,339.033,339.033,341.7703,341.7703,341.7703,341.7703,341.7703,341.7703,343.5453,351.997,356.4943,356.4943,358.1916,358.1916\n",
      "---------------------------------------------------------------------------------------------------- \n",
      "\n",
      "Iteration: 8 \n",
      "Total Fitness: 15056.733680404985\n",
      "Best Fitness: 358.19159095093426\n",
      "New Population Fitness: 168.6663,168.6663,241.5293,241.5293,241.5293,241.5293,242.0459,242.0459,242.0459,242.0459,257.987,326.6093,326.6093,326.6093,326.7167,326.7167,326.7167,326.7167,326.7167,328.42,331.757,331.757,331.757,331.757,331.757,331.757,331.757,331.757,331.757,331.757,336.0407,336.0407,336.0407,336.0407,336.0407,336.0407,336.0407,336.0407,337.2922,337.2922,339.033,339.033,339.033,339.033,339.033,355.3341,355.3341,356.2625,358.1916,358.1916\n",
      "---------------------------------------------------------------------------------------------------- \n",
      "\n",
      "Iteration: 9 \n",
      "Total Fitness: 15630.409664677762\n",
      "Best Fitness: 356.49434300587916\n",
      "New Population Fitness: 239.8356,239.8356,241.5293,241.5293,241.5293,241.5293,242.0459,242.0459,255.4775,256.0556,256.0556,257.987,257.987,326.6093,326.6093,326.6093,326.6093,326.7167,326.7167,326.7167,328.42,328.42,328.42,328.7104,328.7104,330.3213,331.757,331.757,331.757,331.757,336.0407,336.0407,336.0407,336.0407,336.0407,336.0407,336.0407,336.0407,337.2922,337.2922,337.2922,337.2922,339.033,339.033,356.2625,356.2625,356.2625,356.2625,356.4943,356.4943\n",
      "---------------------------------------------------------------------------------------------------- \n",
      "\n",
      "Iteration: 10 \n",
      "Total Fitness: 15653.659069641568\n",
      "Best Fitness: 358.19159095093426\n",
      "New Population Fitness: 242.0459,242.0459,242.0459,255.4775,255.4775,255.4775,255.4775,255.4775,256.0556,256.0556,257.987,257.987,326.7167,326.7167,326.7167,326.7167,330.3213,331.757,331.757,336.0407,336.0407,336.0407,336.0407,337.2922,337.2922,337.2922,337.2922,337.2922,337.2922,339.033,339.033,339.033,339.033,339.033,355.3341,355.3341,355.3341,356.2625,356.2625,356.4943,356.4943,356.4943,356.4943,356.4943,356.4943,356.4943,356.4943,356.4943,358.1916,358.1916\n",
      "---------------------------------------------------------------------------------------------------- \n",
      "\n",
      "Iteration: 11 \n",
      "Total Fitness: 16098.753190453446\n",
      "Best Fitness: 358.19159095093426\n",
      "New Population Fitness: 242.0459,255.4775,256.0556,256.0556,257.987,257.987,257.987,326.6093,326.7167,326.7167,330.3213,331.757,332.1014,332.1014,332.3806,336.0407,336.0407,336.0407,336.0407,337.2922,337.2922,337.2922,337.2922,337.2922,339.033,339.033,339.033,339.033,339.033,355.2816,355.2816,355.2816,355.2816,355.2816,355.2816,355.2816,355.2816,355.3341,355.3341,355.3341,355.3341,356.2625,356.4943,356.4943,358.1916,358.1916,358.1916,358.1916,358.1916,358.1916\n",
      "---------------------------------------------------------------------------------------------------- \n",
      "\n",
      "Iteration: 12 \n",
      "Total Fitness: 16630.07868327376\n",
      "Best Fitness: 358.19159095093426\n",
      "New Population Fitness: 242.0459,242.0459,255.4775,255.4775,257.987,257.987,257.987,257.987,326.6093,326.7167,326.7167,326.7167,326.7167,326.7167,330.3213,331.757,331.757,332.1014,332.1014,332.1014,332.1014,336.0407,336.0407,336.0407,337.2922,337.2922,339.033,339.033,339.033,339.033,339.033,339.033,339.033,339.033,339.033,351.997,351.997,355.2816,355.2816,355.2816,355.2816,355.2816,355.3341,356.2625,356.2625,358.1916,358.1916,358.1916,358.1916,358.1916\n",
      "---------------------------------------------------------------------------------------------------- \n",
      "\n"
     ]
    },
    {
     "name": "stdout",
     "output_type": "stream",
     "text": [
      "Iteration: 13 \n",
      "Total Fitness: 16382.65074243728\n",
      "Best Fitness: 358.19159095093426\n",
      "New Population Fitness: 242.0459,242.0459,242.0459,242.0459,242.0459,255.4775,255.4775,255.4775,257.987,257.987,257.987,257.987,257.987,326.6093,326.7167,326.7167,326.7167,326.7167,326.7167,326.7167,330.3213,332.1014,332.1014,332.1014,336.0407,336.0407,336.0407,336.0407,339.033,339.033,339.033,339.033,339.033,343.5453,343.5453,344.8653,345.9581,345.9581,351.997,355.2816,355.2816,355.2816,355.3341,355.3341,358.1916,358.1916,358.1916,358.1916,358.1916,358.1916\n",
      "---------------------------------------------------------------------------------------------------- \n",
      "\n"
     ]
    }
   ],
   "source": [
    "ga.solve()"
   ]
  },
  {
   "cell_type": "code",
   "execution_count": null,
   "id": "54802f87",
   "metadata": {},
   "outputs": [],
   "source": [
    "ga.population"
   ]
  },
  {
   "cell_type": "code",
   "execution_count": null,
   "id": "8fba4a83",
   "metadata": {},
   "outputs": [],
   "source": [
    "ga.global_best_solution"
   ]
  },
  {
   "cell_type": "markdown",
   "id": "0a267311",
   "metadata": {},
   "source": [
    "## "
   ]
  },
  {
   "cell_type": "code",
   "execution_count": null,
   "id": "776384fa",
   "metadata": {},
   "outputs": [],
   "source": []
  }
 ],
 "metadata": {
  "kernelspec": {
   "display_name": "Python 3 (ipykernel)",
   "language": "python",
   "name": "python3"
  },
  "language_info": {
   "codemirror_mode": {
    "name": "ipython",
    "version": 3
   },
   "file_extension": ".py",
   "mimetype": "text/x-python",
   "name": "python",
   "nbconvert_exporter": "python",
   "pygments_lexer": "ipython3",
   "version": "3.9.7"
  }
 },
 "nbformat": 4,
 "nbformat_minor": 5
}
